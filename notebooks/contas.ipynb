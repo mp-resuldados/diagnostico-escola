{
 "cells": [
  {
   "cell_type": "code",
   "execution_count": 1,
   "id": "1098099c-9a21-4c8b-8ae4-e5715bc7bdbd",
   "metadata": {
    "tags": []
   },
   "outputs": [],
   "source": [
    "import pandas as pd\n",
    "import matplotlib.pyplot as plt\n",
    "import numpy as np\n",
    "import matplotlib as mpl"
   ]
  },
  {
   "cell_type": "code",
   "execution_count": 2,
   "id": "19fb33ce-ee1a-4bed-8249-6f8a464f5f3b",
   "metadata": {
    "tags": []
   },
   "outputs": [],
   "source": [
    "receitas = pd.read_csv(\n",
    "    '../dados/receitas_mensais_2023.csv',\n",
    "    sep=\";\"\n",
    ")"
   ]
  },
  {
   "cell_type": "code",
   "execution_count": 3,
   "id": "5a1a0f2b-0370-4664-8569-6e32f4043a6b",
   "metadata": {
    "tags": []
   },
   "outputs": [],
   "source": [
    "despesas = pd.read_csv(\n",
    "    '../dados/despesas_mensais_2023.csv',\n",
    "    sep=\";\"\n",
    ")"
   ]
  },
  {
   "cell_type": "code",
   "execution_count": 4,
   "id": "ded037da-1bdb-489c-b16d-3cb06322905b",
   "metadata": {
    "tags": []
   },
   "outputs": [
    {
     "data": {
      "text/html": [
       "<div>\n",
       "<style scoped>\n",
       "    .dataframe tbody tr th:only-of-type {\n",
       "        vertical-align: middle;\n",
       "    }\n",
       "\n",
       "    .dataframe tbody tr th {\n",
       "        vertical-align: top;\n",
       "    }\n",
       "\n",
       "    .dataframe thead th {\n",
       "        text-align: right;\n",
       "    }\n",
       "</style>\n",
       "<table border=\"1\" class=\"dataframe\">\n",
       "  <thead>\n",
       "    <tr style=\"text-align: right;\">\n",
       "      <th></th>\n",
       "      <th>meses</th>\n",
       "      <th>valores</th>\n",
       "      <th>n</th>\n",
       "    </tr>\n",
       "  </thead>\n",
       "  <tbody>\n",
       "    <tr>\n",
       "      <th>0</th>\n",
       "      <td>6</td>\n",
       "      <td>R$ 62.409,18</td>\n",
       "      <td>43</td>\n",
       "    </tr>\n",
       "    <tr>\n",
       "      <th>1</th>\n",
       "      <td>7</td>\n",
       "      <td>R$ 62.409,18</td>\n",
       "      <td>43</td>\n",
       "    </tr>\n",
       "    <tr>\n",
       "      <th>2</th>\n",
       "      <td>8</td>\n",
       "      <td>R$ 57.728,49</td>\n",
       "      <td>40</td>\n",
       "    </tr>\n",
       "    <tr>\n",
       "      <th>3</th>\n",
       "      <td>9</td>\n",
       "      <td>R$ 40.786,87</td>\n",
       "      <td>33</td>\n",
       "    </tr>\n",
       "    <tr>\n",
       "      <th>4</th>\n",
       "      <td>10</td>\n",
       "      <td>R$ 40.786,87</td>\n",
       "      <td>33</td>\n",
       "    </tr>\n",
       "  </tbody>\n",
       "</table>\n",
       "</div>"
      ],
      "text/plain": [
       "   meses       valores   n\n",
       "0      6  R$ 62.409,18  43\n",
       "1      7  R$ 62.409,18  43\n",
       "2      8  R$ 57.728,49  40\n",
       "3      9  R$ 40.786,87  33\n",
       "4     10  R$ 40.786,87  33"
      ]
     },
     "execution_count": 4,
     "metadata": {},
     "output_type": "execute_result"
    }
   ],
   "source": [
    "receitas"
   ]
  },
  {
   "cell_type": "code",
   "execution_count": 5,
   "id": "1caf2aa4-40a2-4574-9da3-f241ee89e72e",
   "metadata": {
    "tags": []
   },
   "outputs": [
    {
     "data": {
      "text/html": [
       "<div>\n",
       "<style scoped>\n",
       "    .dataframe tbody tr th:only-of-type {\n",
       "        vertical-align: middle;\n",
       "    }\n",
       "\n",
       "    .dataframe tbody tr th {\n",
       "        vertical-align: top;\n",
       "    }\n",
       "\n",
       "    .dataframe thead th {\n",
       "        text-align: right;\n",
       "    }\n",
       "</style>\n",
       "<table border=\"1\" class=\"dataframe\">\n",
       "  <thead>\n",
       "    <tr style=\"text-align: right;\">\n",
       "      <th></th>\n",
       "      <th>meses</th>\n",
       "      <th>valores</th>\n",
       "      <th>n</th>\n",
       "    </tr>\n",
       "  </thead>\n",
       "  <tbody>\n",
       "    <tr>\n",
       "      <th>0</th>\n",
       "      <td>6</td>\n",
       "      <td>R$58.136,22</td>\n",
       "      <td>43</td>\n",
       "    </tr>\n",
       "    <tr>\n",
       "      <th>1</th>\n",
       "      <td>7</td>\n",
       "      <td>R$73.274,51</td>\n",
       "      <td>43</td>\n",
       "    </tr>\n",
       "    <tr>\n",
       "      <th>2</th>\n",
       "      <td>8</td>\n",
       "      <td>R$74.271,44</td>\n",
       "      <td>40</td>\n",
       "    </tr>\n",
       "    <tr>\n",
       "      <th>3</th>\n",
       "      <td>9</td>\n",
       "      <td>R$64.923,11</td>\n",
       "      <td>33</td>\n",
       "    </tr>\n",
       "    <tr>\n",
       "      <th>4</th>\n",
       "      <td>10</td>\n",
       "      <td>R$55.771,65</td>\n",
       "      <td>33</td>\n",
       "    </tr>\n",
       "  </tbody>\n",
       "</table>\n",
       "</div>"
      ],
      "text/plain": [
       "   meses      valores   n\n",
       "0      6  R$58.136,22  43\n",
       "1      7  R$73.274,51  43\n",
       "2      8  R$74.271,44  40\n",
       "3      9  R$64.923,11  33\n",
       "4     10  R$55.771,65  33"
      ]
     },
     "execution_count": 5,
     "metadata": {},
     "output_type": "execute_result"
    }
   ],
   "source": [
    "despesas"
   ]
  },
  {
   "cell_type": "code",
   "execution_count": 6,
   "id": "d3e93a98-a3a6-4a8a-8a14-7c7babb686a5",
   "metadata": {
    "tags": []
   },
   "outputs": [],
   "source": [
    "def converter_moeda(entrada):\n",
    "    saida = (\n",
    "        entrada.replace('R$', '')\n",
    "        .replace('.','')\n",
    "        .replace(',','.')\n",
    "        .replace(' ','')\n",
    "    )\n",
    "    return float(saida)\n",
    "        "
   ]
  },
  {
   "cell_type": "code",
   "execution_count": 7,
   "id": "33b0ba04-fc7e-4961-ba81-d01e4ce4ac79",
   "metadata": {
    "tags": []
   },
   "outputs": [
    {
     "data": {
      "text/html": [
       "<div>\n",
       "<style scoped>\n",
       "    .dataframe tbody tr th:only-of-type {\n",
       "        vertical-align: middle;\n",
       "    }\n",
       "\n",
       "    .dataframe tbody tr th {\n",
       "        vertical-align: top;\n",
       "    }\n",
       "\n",
       "    .dataframe thead th {\n",
       "        text-align: right;\n",
       "    }\n",
       "</style>\n",
       "<table border=\"1\" class=\"dataframe\">\n",
       "  <thead>\n",
       "    <tr style=\"text-align: right;\">\n",
       "      <th></th>\n",
       "      <th>meses</th>\n",
       "      <th>valores</th>\n",
       "      <th>n</th>\n",
       "    </tr>\n",
       "  </thead>\n",
       "  <tbody>\n",
       "    <tr>\n",
       "      <th>0</th>\n",
       "      <td>6</td>\n",
       "      <td>62409.18</td>\n",
       "      <td>43</td>\n",
       "    </tr>\n",
       "    <tr>\n",
       "      <th>1</th>\n",
       "      <td>7</td>\n",
       "      <td>62409.18</td>\n",
       "      <td>43</td>\n",
       "    </tr>\n",
       "    <tr>\n",
       "      <th>2</th>\n",
       "      <td>8</td>\n",
       "      <td>57728.49</td>\n",
       "      <td>40</td>\n",
       "    </tr>\n",
       "    <tr>\n",
       "      <th>3</th>\n",
       "      <td>9</td>\n",
       "      <td>40786.87</td>\n",
       "      <td>33</td>\n",
       "    </tr>\n",
       "    <tr>\n",
       "      <th>4</th>\n",
       "      <td>10</td>\n",
       "      <td>40786.87</td>\n",
       "      <td>33</td>\n",
       "    </tr>\n",
       "  </tbody>\n",
       "</table>\n",
       "</div>"
      ],
      "text/plain": [
       "   meses   valores   n\n",
       "0      6  62409.18  43\n",
       "1      7  62409.18  43\n",
       "2      8  57728.49  40\n",
       "3      9  40786.87  33\n",
       "4     10  40786.87  33"
      ]
     },
     "execution_count": 7,
     "metadata": {},
     "output_type": "execute_result"
    }
   ],
   "source": [
    "receitas['valores'] = receitas['valores'].map(converter_moeda)\n",
    "receitas"
   ]
  },
  {
   "cell_type": "code",
   "execution_count": 8,
   "id": "4cacfc24-a0d9-4ce6-bdbb-87b78753c5c2",
   "metadata": {
    "tags": []
   },
   "outputs": [
    {
     "data": {
      "text/html": [
       "<div>\n",
       "<style scoped>\n",
       "    .dataframe tbody tr th:only-of-type {\n",
       "        vertical-align: middle;\n",
       "    }\n",
       "\n",
       "    .dataframe tbody tr th {\n",
       "        vertical-align: top;\n",
       "    }\n",
       "\n",
       "    .dataframe thead th {\n",
       "        text-align: right;\n",
       "    }\n",
       "</style>\n",
       "<table border=\"1\" class=\"dataframe\">\n",
       "  <thead>\n",
       "    <tr style=\"text-align: right;\">\n",
       "      <th></th>\n",
       "      <th>meses</th>\n",
       "      <th>valores</th>\n",
       "      <th>n</th>\n",
       "    </tr>\n",
       "  </thead>\n",
       "  <tbody>\n",
       "    <tr>\n",
       "      <th>0</th>\n",
       "      <td>6</td>\n",
       "      <td>58136.22</td>\n",
       "      <td>43</td>\n",
       "    </tr>\n",
       "    <tr>\n",
       "      <th>1</th>\n",
       "      <td>7</td>\n",
       "      <td>73274.51</td>\n",
       "      <td>43</td>\n",
       "    </tr>\n",
       "    <tr>\n",
       "      <th>2</th>\n",
       "      <td>8</td>\n",
       "      <td>74271.44</td>\n",
       "      <td>40</td>\n",
       "    </tr>\n",
       "    <tr>\n",
       "      <th>3</th>\n",
       "      <td>9</td>\n",
       "      <td>64923.11</td>\n",
       "      <td>33</td>\n",
       "    </tr>\n",
       "    <tr>\n",
       "      <th>4</th>\n",
       "      <td>10</td>\n",
       "      <td>55771.65</td>\n",
       "      <td>33</td>\n",
       "    </tr>\n",
       "  </tbody>\n",
       "</table>\n",
       "</div>"
      ],
      "text/plain": [
       "   meses   valores   n\n",
       "0      6  58136.22  43\n",
       "1      7  73274.51  43\n",
       "2      8  74271.44  40\n",
       "3      9  64923.11  33\n",
       "4     10  55771.65  33"
      ]
     },
     "execution_count": 8,
     "metadata": {},
     "output_type": "execute_result"
    }
   ],
   "source": [
    "despesas['valores'] = despesas['valores'].map(converter_moeda)\n",
    "despesas"
   ]
  },
  {
   "cell_type": "code",
   "execution_count": 9,
   "id": "3efcb5ae-1e47-4721-96e9-ba1402a0cf7c",
   "metadata": {
    "tags": []
   },
   "outputs": [],
   "source": [
    "saldo = receitas.copy()\n",
    "saldo.columns = ['meses', 'receitas', 'n']\n",
    "saldo['despesas'] = despesas['valores']\n",
    "saldo['saldo'] = saldo['receitas']-saldo['despesas']"
   ]
  },
  {
   "cell_type": "code",
   "execution_count": 10,
   "id": "cb85ac71-4ee5-4c00-a1be-22336b81e3f5",
   "metadata": {
    "tags": []
   },
   "outputs": [
    {
     "data": {
      "text/html": [
       "<div>\n",
       "<style scoped>\n",
       "    .dataframe tbody tr th:only-of-type {\n",
       "        vertical-align: middle;\n",
       "    }\n",
       "\n",
       "    .dataframe tbody tr th {\n",
       "        vertical-align: top;\n",
       "    }\n",
       "\n",
       "    .dataframe thead th {\n",
       "        text-align: right;\n",
       "    }\n",
       "</style>\n",
       "<table border=\"1\" class=\"dataframe\">\n",
       "  <thead>\n",
       "    <tr style=\"text-align: right;\">\n",
       "      <th></th>\n",
       "      <th>meses</th>\n",
       "      <th>receitas</th>\n",
       "      <th>n</th>\n",
       "      <th>despesas</th>\n",
       "      <th>saldo</th>\n",
       "    </tr>\n",
       "  </thead>\n",
       "  <tbody>\n",
       "    <tr>\n",
       "      <th>0</th>\n",
       "      <td>6</td>\n",
       "      <td>62409.18</td>\n",
       "      <td>43</td>\n",
       "      <td>58136.22</td>\n",
       "      <td>4272.96</td>\n",
       "    </tr>\n",
       "    <tr>\n",
       "      <th>1</th>\n",
       "      <td>7</td>\n",
       "      <td>62409.18</td>\n",
       "      <td>43</td>\n",
       "      <td>73274.51</td>\n",
       "      <td>-10865.33</td>\n",
       "    </tr>\n",
       "    <tr>\n",
       "      <th>2</th>\n",
       "      <td>8</td>\n",
       "      <td>57728.49</td>\n",
       "      <td>40</td>\n",
       "      <td>74271.44</td>\n",
       "      <td>-16542.95</td>\n",
       "    </tr>\n",
       "    <tr>\n",
       "      <th>3</th>\n",
       "      <td>9</td>\n",
       "      <td>40786.87</td>\n",
       "      <td>33</td>\n",
       "      <td>64923.11</td>\n",
       "      <td>-24136.24</td>\n",
       "    </tr>\n",
       "    <tr>\n",
       "      <th>4</th>\n",
       "      <td>10</td>\n",
       "      <td>40786.87</td>\n",
       "      <td>33</td>\n",
       "      <td>55771.65</td>\n",
       "      <td>-14984.78</td>\n",
       "    </tr>\n",
       "  </tbody>\n",
       "</table>\n",
       "</div>"
      ],
      "text/plain": [
       "   meses  receitas   n  despesas     saldo\n",
       "0      6  62409.18  43  58136.22   4272.96\n",
       "1      7  62409.18  43  73274.51 -10865.33\n",
       "2      8  57728.49  40  74271.44 -16542.95\n",
       "3      9  40786.87  33  64923.11 -24136.24\n",
       "4     10  40786.87  33  55771.65 -14984.78"
      ]
     },
     "execution_count": 10,
     "metadata": {},
     "output_type": "execute_result"
    }
   ],
   "source": [
    "saldo"
   ]
  },
  {
   "cell_type": "code",
   "execution_count": 11,
   "id": "91d418d7-2aa7-45da-b6e2-a3eaf47704b1",
   "metadata": {
    "tags": []
   },
   "outputs": [
    {
     "data": {
      "text/plain": [
       "-66529.29999999999"
      ]
     },
     "execution_count": 11,
     "metadata": {},
     "output_type": "execute_result"
    }
   ],
   "source": [
    " # prejuízo acumulado\n",
    "saldo[saldo['saldo']<0]['saldo'].sum()"
   ]
  },
  {
   "cell_type": "code",
   "execution_count": 12,
   "id": "fd3d992b-8bd1-496b-a956-cf79df585e51",
   "metadata": {
    "tags": []
   },
   "outputs": [
    {
     "data": {
      "text/html": [
       "<div>\n",
       "<style scoped>\n",
       "    .dataframe tbody tr th:only-of-type {\n",
       "        vertical-align: middle;\n",
       "    }\n",
       "\n",
       "    .dataframe tbody tr th {\n",
       "        vertical-align: top;\n",
       "    }\n",
       "\n",
       "    .dataframe thead th {\n",
       "        text-align: right;\n",
       "    }\n",
       "</style>\n",
       "<table border=\"1\" class=\"dataframe\">\n",
       "  <thead>\n",
       "    <tr style=\"text-align: right;\">\n",
       "      <th></th>\n",
       "      <th>horas</th>\n",
       "      <th>valor</th>\n",
       "    </tr>\n",
       "  </thead>\n",
       "  <tbody>\n",
       "    <tr>\n",
       "      <th>0</th>\n",
       "      <td>4</td>\n",
       "      <td>1.130,37</td>\n",
       "    </tr>\n",
       "    <tr>\n",
       "      <th>1</th>\n",
       "      <td>4</td>\n",
       "      <td>964,3248503</td>\n",
       "    </tr>\n",
       "    <tr>\n",
       "      <th>2</th>\n",
       "      <td>4</td>\n",
       "      <td>964,885101</td>\n",
       "    </tr>\n",
       "    <tr>\n",
       "      <th>3</th>\n",
       "      <td>4</td>\n",
       "      <td>992,3709998</td>\n",
       "    </tr>\n",
       "    <tr>\n",
       "      <th>4</th>\n",
       "      <td>4</td>\n",
       "      <td>1.173,91</td>\n",
       "    </tr>\n",
       "    <tr>\n",
       "      <th>5</th>\n",
       "      <td>4</td>\n",
       "      <td>1023,957934</td>\n",
       "    </tr>\n",
       "    <tr>\n",
       "      <th>6</th>\n",
       "      <td>4</td>\n",
       "      <td>0</td>\n",
       "    </tr>\n",
       "    <tr>\n",
       "      <th>7</th>\n",
       "      <td>5</td>\n",
       "      <td>1.137,17</td>\n",
       "    </tr>\n",
       "    <tr>\n",
       "      <th>8</th>\n",
       "      <td>6</td>\n",
       "      <td>1.144,53</td>\n",
       "    </tr>\n",
       "    <tr>\n",
       "      <th>9</th>\n",
       "      <td>6</td>\n",
       "      <td>1.115,85</td>\n",
       "    </tr>\n",
       "    <tr>\n",
       "      <th>10</th>\n",
       "      <td>6</td>\n",
       "      <td>0</td>\n",
       "    </tr>\n",
       "    <tr>\n",
       "      <th>11</th>\n",
       "      <td>6</td>\n",
       "      <td>1.530,63</td>\n",
       "    </tr>\n",
       "    <tr>\n",
       "      <th>12</th>\n",
       "      <td>7,5</td>\n",
       "      <td>1.283,60</td>\n",
       "    </tr>\n",
       "    <tr>\n",
       "      <th>13</th>\n",
       "      <td>8</td>\n",
       "      <td>1.613,13</td>\n",
       "    </tr>\n",
       "    <tr>\n",
       "      <th>14</th>\n",
       "      <td>8</td>\n",
       "      <td>1.735</td>\n",
       "    </tr>\n",
       "    <tr>\n",
       "      <th>15</th>\n",
       "      <td>8</td>\n",
       "      <td>1.869,67</td>\n",
       "    </tr>\n",
       "    <tr>\n",
       "      <th>16</th>\n",
       "      <td>8</td>\n",
       "      <td>1.568,16</td>\n",
       "    </tr>\n",
       "    <tr>\n",
       "      <th>17</th>\n",
       "      <td>9</td>\n",
       "      <td>1.734,30</td>\n",
       "    </tr>\n",
       "    <tr>\n",
       "      <th>18</th>\n",
       "      <td>8</td>\n",
       "      <td>1.727,51</td>\n",
       "    </tr>\n",
       "    <tr>\n",
       "      <th>19</th>\n",
       "      <td>10</td>\n",
       "      <td>1.510,15</td>\n",
       "    </tr>\n",
       "    <tr>\n",
       "      <th>20</th>\n",
       "      <td>10</td>\n",
       "      <td>1.842,94</td>\n",
       "    </tr>\n",
       "    <tr>\n",
       "      <th>21</th>\n",
       "      <td>10</td>\n",
       "      <td>0</td>\n",
       "    </tr>\n",
       "    <tr>\n",
       "      <th>22</th>\n",
       "      <td>10</td>\n",
       "      <td>1.732,01</td>\n",
       "    </tr>\n",
       "    <tr>\n",
       "      <th>23</th>\n",
       "      <td>10</td>\n",
       "      <td>1.557,85</td>\n",
       "    </tr>\n",
       "    <tr>\n",
       "      <th>24</th>\n",
       "      <td>10</td>\n",
       "      <td>2.163,41</td>\n",
       "    </tr>\n",
       "    <tr>\n",
       "      <th>25</th>\n",
       "      <td>10</td>\n",
       "      <td>1.782,43</td>\n",
       "    </tr>\n",
       "    <tr>\n",
       "      <th>26</th>\n",
       "      <td>10</td>\n",
       "      <td>1.712,26</td>\n",
       "    </tr>\n",
       "    <tr>\n",
       "      <th>27</th>\n",
       "      <td>10</td>\n",
       "      <td>1.828,16</td>\n",
       "    </tr>\n",
       "    <tr>\n",
       "      <th>28</th>\n",
       "      <td>10</td>\n",
       "      <td>2.163,41</td>\n",
       "    </tr>\n",
       "    <tr>\n",
       "      <th>29</th>\n",
       "      <td>10</td>\n",
       "      <td>1.732,01</td>\n",
       "    </tr>\n",
       "    <tr>\n",
       "      <th>30</th>\n",
       "      <td>10</td>\n",
       "      <td>1.741,12</td>\n",
       "    </tr>\n",
       "    <tr>\n",
       "      <th>31</th>\n",
       "      <td>10</td>\n",
       "      <td>1.732,01</td>\n",
       "    </tr>\n",
       "    <tr>\n",
       "      <th>32</th>\n",
       "      <td>10</td>\n",
       "      <td>1.925,43</td>\n",
       "    </tr>\n",
       "    <tr>\n",
       "      <th>33</th>\n",
       "      <td>10,5</td>\n",
       "      <td>1.624,49</td>\n",
       "    </tr>\n",
       "    <tr>\n",
       "      <th>34</th>\n",
       "      <td>10,5</td>\n",
       "      <td>1.624,49</td>\n",
       "    </tr>\n",
       "    <tr>\n",
       "      <th>35</th>\n",
       "      <td>11</td>\n",
       "      <td>1.834,96</td>\n",
       "    </tr>\n",
       "    <tr>\n",
       "      <th>36</th>\n",
       "      <td>11</td>\n",
       "      <td>1.700</td>\n",
       "    </tr>\n",
       "    <tr>\n",
       "      <th>37</th>\n",
       "      <td>11,5</td>\n",
       "      <td>1.803,85</td>\n",
       "    </tr>\n",
       "    <tr>\n",
       "      <th>38</th>\n",
       "      <td>12</td>\n",
       "      <td>1.634,70</td>\n",
       "    </tr>\n",
       "    <tr>\n",
       "      <th>39</th>\n",
       "      <td>12,5</td>\n",
       "      <td>1.373,66</td>\n",
       "    </tr>\n",
       "  </tbody>\n",
       "</table>\n",
       "</div>"
      ],
      "text/plain": [
       "   horas        valor\n",
       "0      4     1.130,37\n",
       "1      4  964,3248503\n",
       "2      4   964,885101\n",
       "3      4  992,3709998\n",
       "4      4     1.173,91\n",
       "5      4  1023,957934\n",
       "6      4            0\n",
       "7      5     1.137,17\n",
       "8      6     1.144,53\n",
       "9      6     1.115,85\n",
       "10     6            0\n",
       "11     6     1.530,63\n",
       "12   7,5     1.283,60\n",
       "13     8     1.613,13\n",
       "14     8        1.735\n",
       "15     8     1.869,67\n",
       "16     8     1.568,16\n",
       "17     9     1.734,30\n",
       "18     8     1.727,51\n",
       "19    10     1.510,15\n",
       "20    10     1.842,94\n",
       "21    10            0\n",
       "22    10     1.732,01\n",
       "23    10     1.557,85\n",
       "24    10     2.163,41\n",
       "25    10     1.782,43\n",
       "26    10     1.712,26\n",
       "27    10     1.828,16\n",
       "28    10     2.163,41\n",
       "29    10     1.732,01\n",
       "30    10     1.741,12\n",
       "31    10     1.732,01\n",
       "32    10     1.925,43\n",
       "33  10,5     1.624,49\n",
       "34  10,5     1.624,49\n",
       "35    11     1.834,96\n",
       "36    11        1.700\n",
       "37  11,5     1.803,85\n",
       "38    12     1.634,70\n",
       "39  12,5     1.373,66"
      ]
     },
     "execution_count": 12,
     "metadata": {},
     "output_type": "execute_result"
    }
   ],
   "source": [
    "alunos = pd.read_csv(\n",
    "    '../dados/alunos_ago.csv',\n",
    "    sep=\";\"\n",
    ")\n",
    "alunos"
   ]
  },
  {
   "cell_type": "code",
   "execution_count": 13,
   "id": "07d713f8-344e-4ea0-9221-40e50e268f90",
   "metadata": {
    "tags": []
   },
   "outputs": [
    {
     "data": {
      "text/html": [
       "<div>\n",
       "<style scoped>\n",
       "    .dataframe tbody tr th:only-of-type {\n",
       "        vertical-align: middle;\n",
       "    }\n",
       "\n",
       "    .dataframe tbody tr th {\n",
       "        vertical-align: top;\n",
       "    }\n",
       "\n",
       "    .dataframe thead th {\n",
       "        text-align: right;\n",
       "    }\n",
       "</style>\n",
       "<table border=\"1\" class=\"dataframe\">\n",
       "  <thead>\n",
       "    <tr style=\"text-align: right;\">\n",
       "      <th></th>\n",
       "      <th>horas</th>\n",
       "      <th>valor</th>\n",
       "    </tr>\n",
       "  </thead>\n",
       "  <tbody>\n",
       "    <tr>\n",
       "      <th>0</th>\n",
       "      <td>4.0</td>\n",
       "      <td>1130.370000</td>\n",
       "    </tr>\n",
       "    <tr>\n",
       "      <th>1</th>\n",
       "      <td>4.0</td>\n",
       "      <td>964.324850</td>\n",
       "    </tr>\n",
       "    <tr>\n",
       "      <th>2</th>\n",
       "      <td>4.0</td>\n",
       "      <td>964.885101</td>\n",
       "    </tr>\n",
       "    <tr>\n",
       "      <th>3</th>\n",
       "      <td>4.0</td>\n",
       "      <td>992.371000</td>\n",
       "    </tr>\n",
       "    <tr>\n",
       "      <th>4</th>\n",
       "      <td>4.0</td>\n",
       "      <td>1173.910000</td>\n",
       "    </tr>\n",
       "    <tr>\n",
       "      <th>5</th>\n",
       "      <td>4.0</td>\n",
       "      <td>1023.957934</td>\n",
       "    </tr>\n",
       "    <tr>\n",
       "      <th>6</th>\n",
       "      <td>4.0</td>\n",
       "      <td>0.000000</td>\n",
       "    </tr>\n",
       "    <tr>\n",
       "      <th>7</th>\n",
       "      <td>5.0</td>\n",
       "      <td>1137.170000</td>\n",
       "    </tr>\n",
       "    <tr>\n",
       "      <th>8</th>\n",
       "      <td>6.0</td>\n",
       "      <td>1144.530000</td>\n",
       "    </tr>\n",
       "    <tr>\n",
       "      <th>9</th>\n",
       "      <td>6.0</td>\n",
       "      <td>1115.850000</td>\n",
       "    </tr>\n",
       "    <tr>\n",
       "      <th>10</th>\n",
       "      <td>6.0</td>\n",
       "      <td>0.000000</td>\n",
       "    </tr>\n",
       "    <tr>\n",
       "      <th>11</th>\n",
       "      <td>6.0</td>\n",
       "      <td>1530.630000</td>\n",
       "    </tr>\n",
       "    <tr>\n",
       "      <th>12</th>\n",
       "      <td>7.5</td>\n",
       "      <td>1283.600000</td>\n",
       "    </tr>\n",
       "    <tr>\n",
       "      <th>13</th>\n",
       "      <td>8.0</td>\n",
       "      <td>1613.130000</td>\n",
       "    </tr>\n",
       "    <tr>\n",
       "      <th>14</th>\n",
       "      <td>8.0</td>\n",
       "      <td>1735.000000</td>\n",
       "    </tr>\n",
       "    <tr>\n",
       "      <th>15</th>\n",
       "      <td>8.0</td>\n",
       "      <td>1869.670000</td>\n",
       "    </tr>\n",
       "    <tr>\n",
       "      <th>16</th>\n",
       "      <td>8.0</td>\n",
       "      <td>1568.160000</td>\n",
       "    </tr>\n",
       "    <tr>\n",
       "      <th>17</th>\n",
       "      <td>9.0</td>\n",
       "      <td>1734.300000</td>\n",
       "    </tr>\n",
       "    <tr>\n",
       "      <th>18</th>\n",
       "      <td>8.0</td>\n",
       "      <td>1727.510000</td>\n",
       "    </tr>\n",
       "    <tr>\n",
       "      <th>19</th>\n",
       "      <td>10.0</td>\n",
       "      <td>1510.150000</td>\n",
       "    </tr>\n",
       "    <tr>\n",
       "      <th>20</th>\n",
       "      <td>10.0</td>\n",
       "      <td>1842.940000</td>\n",
       "    </tr>\n",
       "    <tr>\n",
       "      <th>21</th>\n",
       "      <td>10.0</td>\n",
       "      <td>0.000000</td>\n",
       "    </tr>\n",
       "    <tr>\n",
       "      <th>22</th>\n",
       "      <td>10.0</td>\n",
       "      <td>1732.010000</td>\n",
       "    </tr>\n",
       "    <tr>\n",
       "      <th>23</th>\n",
       "      <td>10.0</td>\n",
       "      <td>1557.850000</td>\n",
       "    </tr>\n",
       "    <tr>\n",
       "      <th>24</th>\n",
       "      <td>10.0</td>\n",
       "      <td>2163.410000</td>\n",
       "    </tr>\n",
       "    <tr>\n",
       "      <th>25</th>\n",
       "      <td>10.0</td>\n",
       "      <td>1782.430000</td>\n",
       "    </tr>\n",
       "    <tr>\n",
       "      <th>26</th>\n",
       "      <td>10.0</td>\n",
       "      <td>1712.260000</td>\n",
       "    </tr>\n",
       "    <tr>\n",
       "      <th>27</th>\n",
       "      <td>10.0</td>\n",
       "      <td>1828.160000</td>\n",
       "    </tr>\n",
       "    <tr>\n",
       "      <th>28</th>\n",
       "      <td>10.0</td>\n",
       "      <td>2163.410000</td>\n",
       "    </tr>\n",
       "    <tr>\n",
       "      <th>29</th>\n",
       "      <td>10.0</td>\n",
       "      <td>1732.010000</td>\n",
       "    </tr>\n",
       "    <tr>\n",
       "      <th>30</th>\n",
       "      <td>10.0</td>\n",
       "      <td>1741.120000</td>\n",
       "    </tr>\n",
       "    <tr>\n",
       "      <th>31</th>\n",
       "      <td>10.0</td>\n",
       "      <td>1732.010000</td>\n",
       "    </tr>\n",
       "    <tr>\n",
       "      <th>32</th>\n",
       "      <td>10.0</td>\n",
       "      <td>1925.430000</td>\n",
       "    </tr>\n",
       "    <tr>\n",
       "      <th>33</th>\n",
       "      <td>10.5</td>\n",
       "      <td>1624.490000</td>\n",
       "    </tr>\n",
       "    <tr>\n",
       "      <th>34</th>\n",
       "      <td>10.5</td>\n",
       "      <td>1624.490000</td>\n",
       "    </tr>\n",
       "    <tr>\n",
       "      <th>35</th>\n",
       "      <td>11.0</td>\n",
       "      <td>1834.960000</td>\n",
       "    </tr>\n",
       "    <tr>\n",
       "      <th>36</th>\n",
       "      <td>11.0</td>\n",
       "      <td>1700.000000</td>\n",
       "    </tr>\n",
       "    <tr>\n",
       "      <th>37</th>\n",
       "      <td>11.5</td>\n",
       "      <td>1803.850000</td>\n",
       "    </tr>\n",
       "    <tr>\n",
       "      <th>38</th>\n",
       "      <td>12.0</td>\n",
       "      <td>1634.700000</td>\n",
       "    </tr>\n",
       "    <tr>\n",
       "      <th>39</th>\n",
       "      <td>12.5</td>\n",
       "      <td>1373.660000</td>\n",
       "    </tr>\n",
       "  </tbody>\n",
       "</table>\n",
       "</div>"
      ],
      "text/plain": [
       "    horas        valor\n",
       "0     4.0  1130.370000\n",
       "1     4.0   964.324850\n",
       "2     4.0   964.885101\n",
       "3     4.0   992.371000\n",
       "4     4.0  1173.910000\n",
       "5     4.0  1023.957934\n",
       "6     4.0     0.000000\n",
       "7     5.0  1137.170000\n",
       "8     6.0  1144.530000\n",
       "9     6.0  1115.850000\n",
       "10    6.0     0.000000\n",
       "11    6.0  1530.630000\n",
       "12    7.5  1283.600000\n",
       "13    8.0  1613.130000\n",
       "14    8.0  1735.000000\n",
       "15    8.0  1869.670000\n",
       "16    8.0  1568.160000\n",
       "17    9.0  1734.300000\n",
       "18    8.0  1727.510000\n",
       "19   10.0  1510.150000\n",
       "20   10.0  1842.940000\n",
       "21   10.0     0.000000\n",
       "22   10.0  1732.010000\n",
       "23   10.0  1557.850000\n",
       "24   10.0  2163.410000\n",
       "25   10.0  1782.430000\n",
       "26   10.0  1712.260000\n",
       "27   10.0  1828.160000\n",
       "28   10.0  2163.410000\n",
       "29   10.0  1732.010000\n",
       "30   10.0  1741.120000\n",
       "31   10.0  1732.010000\n",
       "32   10.0  1925.430000\n",
       "33   10.5  1624.490000\n",
       "34   10.5  1624.490000\n",
       "35   11.0  1834.960000\n",
       "36   11.0  1700.000000\n",
       "37   11.5  1803.850000\n",
       "38   12.0  1634.700000\n",
       "39   12.5  1373.660000"
      ]
     },
     "execution_count": 13,
     "metadata": {},
     "output_type": "execute_result"
    }
   ],
   "source": [
    "alunos['horas'] = alunos['horas'].map(converter_moeda)\n",
    "alunos['valor'] = alunos['valor'].map(converter_moeda)\n",
    "alunos"
   ]
  },
  {
   "cell_type": "code",
   "execution_count": 14,
   "id": "2621d043-5c60-429c-bbe9-7cae1b21d3f2",
   "metadata": {
    "tags": []
   },
   "outputs": [
    {
     "data": {
      "text/plain": [
       "horas       int64\n",
       "valores    object\n",
       "dtype: object"
      ]
     },
     "execution_count": 14,
     "metadata": {},
     "output_type": "execute_result"
    }
   ],
   "source": [
    "plano = pd.read_csv('../dados/plano_mensalidades_2023.csv',\n",
    "                   sep=';')\n",
    "plano.dtypes"
   ]
  },
  {
   "cell_type": "code",
   "execution_count": 15,
   "id": "91decd67-84e4-4c9a-9e88-271744e0e025",
   "metadata": {
    "tags": []
   },
   "outputs": [
    {
     "data": {
      "text/html": [
       "<div>\n",
       "<style scoped>\n",
       "    .dataframe tbody tr th:only-of-type {\n",
       "        vertical-align: middle;\n",
       "    }\n",
       "\n",
       "    .dataframe tbody tr th {\n",
       "        vertical-align: top;\n",
       "    }\n",
       "\n",
       "    .dataframe thead th {\n",
       "        text-align: right;\n",
       "    }\n",
       "</style>\n",
       "<table border=\"1\" class=\"dataframe\">\n",
       "  <thead>\n",
       "    <tr style=\"text-align: right;\">\n",
       "      <th></th>\n",
       "      <th>horas</th>\n",
       "      <th>valores</th>\n",
       "    </tr>\n",
       "  </thead>\n",
       "  <tbody>\n",
       "    <tr>\n",
       "      <th>0</th>\n",
       "      <td>4</td>\n",
       "      <td>R$ 1.339,58</td>\n",
       "    </tr>\n",
       "    <tr>\n",
       "      <th>1</th>\n",
       "      <td>6</td>\n",
       "      <td>R$ 1.666,43</td>\n",
       "    </tr>\n",
       "    <tr>\n",
       "      <th>2</th>\n",
       "      <td>8</td>\n",
       "      <td>R$ 1.874,48</td>\n",
       "    </tr>\n",
       "    <tr>\n",
       "      <th>3</th>\n",
       "      <td>10</td>\n",
       "      <td>R$ 2.314,47</td>\n",
       "    </tr>\n",
       "    <tr>\n",
       "      <th>4</th>\n",
       "      <td>12</td>\n",
       "      <td>R$ 2.684,79</td>\n",
       "    </tr>\n",
       "  </tbody>\n",
       "</table>\n",
       "</div>"
      ],
      "text/plain": [
       "   horas        valores\n",
       "0      4   R$ 1.339,58 \n",
       "1      6   R$ 1.666,43 \n",
       "2      8   R$ 1.874,48 \n",
       "3     10   R$ 2.314,47 \n",
       "4     12   R$ 2.684,79 "
      ]
     },
     "execution_count": 15,
     "metadata": {},
     "output_type": "execute_result"
    }
   ],
   "source": [
    "plano"
   ]
  },
  {
   "cell_type": "code",
   "execution_count": 16,
   "id": "5d60a2c8-8a42-457e-aab5-85259b17f160",
   "metadata": {
    "tags": []
   },
   "outputs": [
    {
     "data": {
      "text/html": [
       "<div>\n",
       "<style scoped>\n",
       "    .dataframe tbody tr th:only-of-type {\n",
       "        vertical-align: middle;\n",
       "    }\n",
       "\n",
       "    .dataframe tbody tr th {\n",
       "        vertical-align: top;\n",
       "    }\n",
       "\n",
       "    .dataframe thead th {\n",
       "        text-align: right;\n",
       "    }\n",
       "</style>\n",
       "<table border=\"1\" class=\"dataframe\">\n",
       "  <thead>\n",
       "    <tr style=\"text-align: right;\">\n",
       "      <th></th>\n",
       "      <th>horas</th>\n",
       "      <th>valores</th>\n",
       "    </tr>\n",
       "  </thead>\n",
       "  <tbody>\n",
       "    <tr>\n",
       "      <th>0</th>\n",
       "      <td>4</td>\n",
       "      <td>1339.58</td>\n",
       "    </tr>\n",
       "    <tr>\n",
       "      <th>1</th>\n",
       "      <td>6</td>\n",
       "      <td>1666.43</td>\n",
       "    </tr>\n",
       "    <tr>\n",
       "      <th>2</th>\n",
       "      <td>8</td>\n",
       "      <td>1874.48</td>\n",
       "    </tr>\n",
       "    <tr>\n",
       "      <th>3</th>\n",
       "      <td>10</td>\n",
       "      <td>2314.47</td>\n",
       "    </tr>\n",
       "    <tr>\n",
       "      <th>4</th>\n",
       "      <td>12</td>\n",
       "      <td>2684.79</td>\n",
       "    </tr>\n",
       "  </tbody>\n",
       "</table>\n",
       "</div>"
      ],
      "text/plain": [
       "   horas  valores\n",
       "0      4  1339.58\n",
       "1      6  1666.43\n",
       "2      8  1874.48\n",
       "3     10  2314.47\n",
       "4     12  2684.79"
      ]
     },
     "execution_count": 16,
     "metadata": {},
     "output_type": "execute_result"
    }
   ],
   "source": [
    "plano['valores'] = plano['valores'].map(converter_moeda)\n",
    "plano"
   ]
  },
  {
   "cell_type": "code",
   "execution_count": 17,
   "id": "62836cc7-671d-4825-b2d7-d8d61cf9d176",
   "metadata": {
    "tags": []
   },
   "outputs": [
    {
     "data": {
      "text/html": [
       "<div>\n",
       "<style scoped>\n",
       "    .dataframe tbody tr th:only-of-type {\n",
       "        vertical-align: middle;\n",
       "    }\n",
       "\n",
       "    .dataframe tbody tr th {\n",
       "        vertical-align: top;\n",
       "    }\n",
       "\n",
       "    .dataframe thead th {\n",
       "        text-align: right;\n",
       "    }\n",
       "</style>\n",
       "<table border=\"1\" class=\"dataframe\">\n",
       "  <thead>\n",
       "    <tr style=\"text-align: right;\">\n",
       "      <th></th>\n",
       "      <th>horas</th>\n",
       "      <th>valores_tabelados</th>\n",
       "    </tr>\n",
       "  </thead>\n",
       "  <tbody>\n",
       "    <tr>\n",
       "      <th>0</th>\n",
       "      <td>4</td>\n",
       "      <td>1339.58</td>\n",
       "    </tr>\n",
       "    <tr>\n",
       "      <th>1</th>\n",
       "      <td>6</td>\n",
       "      <td>1666.43</td>\n",
       "    </tr>\n",
       "    <tr>\n",
       "      <th>2</th>\n",
       "      <td>8</td>\n",
       "      <td>1874.48</td>\n",
       "    </tr>\n",
       "    <tr>\n",
       "      <th>3</th>\n",
       "      <td>10</td>\n",
       "      <td>2314.47</td>\n",
       "    </tr>\n",
       "    <tr>\n",
       "      <th>4</th>\n",
       "      <td>12</td>\n",
       "      <td>2684.79</td>\n",
       "    </tr>\n",
       "  </tbody>\n",
       "</table>\n",
       "</div>"
      ],
      "text/plain": [
       "   horas  valores_tabelados\n",
       "0      4            1339.58\n",
       "1      6            1666.43\n",
       "2      8            1874.48\n",
       "3     10            2314.47\n",
       "4     12            2684.79"
      ]
     },
     "execution_count": 17,
     "metadata": {},
     "output_type": "execute_result"
    }
   ],
   "source": [
    "plano.rename(columns={'valores': \"valores_tabelados\"})"
   ]
  },
  {
   "cell_type": "code",
   "execution_count": 18,
   "id": "85e4ef9c-8990-4cd5-93ce-46d80b010f20",
   "metadata": {
    "tags": []
   },
   "outputs": [
    {
     "data": {
      "text/plain": [
       "horas      float64\n",
       "valores    float64\n",
       "dtype: object"
      ]
     },
     "execution_count": 18,
     "metadata": {},
     "output_type": "execute_result"
    }
   ],
   "source": [
    "plano['horas'] = plano['horas'].astype(float)\n",
    "plano.dtypes"
   ]
  },
  {
   "cell_type": "code",
   "execution_count": 19,
   "id": "eb475cb5-8f4f-40fa-8856-406baf6912b1",
   "metadata": {
    "tags": []
   },
   "outputs": [],
   "source": [
    "comp = alunos.merge(plano, left_on='horas', right_on='horas', how='left')"
   ]
  },
  {
   "cell_type": "code",
   "execution_count": 20,
   "id": "5b8e03be-e8d3-460e-a41a-6aad406ebd9c",
   "metadata": {
    "tags": []
   },
   "outputs": [],
   "source": [
    "comp = comp.set_index('horas')"
   ]
  },
  {
   "cell_type": "code",
   "execution_count": 21,
   "id": "b767fc31-c822-4492-b2d9-9d2045f3c619",
   "metadata": {
    "tags": []
   },
   "outputs": [],
   "source": [
    "comp = comp.interpolate(method='index')"
   ]
  },
  {
   "cell_type": "code",
   "execution_count": 22,
   "id": "6e79a6d6-5cba-435e-a60f-397f040d635f",
   "metadata": {
    "tags": []
   },
   "outputs": [
    {
     "data": {
      "text/html": [
       "<div>\n",
       "<style scoped>\n",
       "    .dataframe tbody tr th:only-of-type {\n",
       "        vertical-align: middle;\n",
       "    }\n",
       "\n",
       "    .dataframe tbody tr th {\n",
       "        vertical-align: top;\n",
       "    }\n",
       "\n",
       "    .dataframe thead th {\n",
       "        text-align: right;\n",
       "    }\n",
       "</style>\n",
       "<table border=\"1\" class=\"dataframe\">\n",
       "  <thead>\n",
       "    <tr style=\"text-align: right;\">\n",
       "      <th></th>\n",
       "      <th>valor</th>\n",
       "      <th>valores</th>\n",
       "    </tr>\n",
       "    <tr>\n",
       "      <th>horas</th>\n",
       "      <th></th>\n",
       "      <th></th>\n",
       "    </tr>\n",
       "  </thead>\n",
       "  <tbody>\n",
       "    <tr>\n",
       "      <th>4.0</th>\n",
       "      <td>1130.370000</td>\n",
       "      <td>1339.5800</td>\n",
       "    </tr>\n",
       "    <tr>\n",
       "      <th>4.0</th>\n",
       "      <td>964.324850</td>\n",
       "      <td>1339.5800</td>\n",
       "    </tr>\n",
       "    <tr>\n",
       "      <th>4.0</th>\n",
       "      <td>964.885101</td>\n",
       "      <td>1339.5800</td>\n",
       "    </tr>\n",
       "    <tr>\n",
       "      <th>4.0</th>\n",
       "      <td>992.371000</td>\n",
       "      <td>1339.5800</td>\n",
       "    </tr>\n",
       "    <tr>\n",
       "      <th>4.0</th>\n",
       "      <td>1173.910000</td>\n",
       "      <td>1339.5800</td>\n",
       "    </tr>\n",
       "    <tr>\n",
       "      <th>4.0</th>\n",
       "      <td>1023.957934</td>\n",
       "      <td>1339.5800</td>\n",
       "    </tr>\n",
       "    <tr>\n",
       "      <th>4.0</th>\n",
       "      <td>0.000000</td>\n",
       "      <td>1339.5800</td>\n",
       "    </tr>\n",
       "    <tr>\n",
       "      <th>5.0</th>\n",
       "      <td>1137.170000</td>\n",
       "      <td>1503.0050</td>\n",
       "    </tr>\n",
       "    <tr>\n",
       "      <th>6.0</th>\n",
       "      <td>1144.530000</td>\n",
       "      <td>1666.4300</td>\n",
       "    </tr>\n",
       "    <tr>\n",
       "      <th>6.0</th>\n",
       "      <td>1115.850000</td>\n",
       "      <td>1666.4300</td>\n",
       "    </tr>\n",
       "    <tr>\n",
       "      <th>6.0</th>\n",
       "      <td>0.000000</td>\n",
       "      <td>1666.4300</td>\n",
       "    </tr>\n",
       "    <tr>\n",
       "      <th>6.0</th>\n",
       "      <td>1530.630000</td>\n",
       "      <td>1666.4300</td>\n",
       "    </tr>\n",
       "    <tr>\n",
       "      <th>7.5</th>\n",
       "      <td>1283.600000</td>\n",
       "      <td>1822.4675</td>\n",
       "    </tr>\n",
       "    <tr>\n",
       "      <th>8.0</th>\n",
       "      <td>1613.130000</td>\n",
       "      <td>1874.4800</td>\n",
       "    </tr>\n",
       "    <tr>\n",
       "      <th>8.0</th>\n",
       "      <td>1735.000000</td>\n",
       "      <td>1874.4800</td>\n",
       "    </tr>\n",
       "    <tr>\n",
       "      <th>8.0</th>\n",
       "      <td>1869.670000</td>\n",
       "      <td>1874.4800</td>\n",
       "    </tr>\n",
       "    <tr>\n",
       "      <th>8.0</th>\n",
       "      <td>1568.160000</td>\n",
       "      <td>1874.4800</td>\n",
       "    </tr>\n",
       "    <tr>\n",
       "      <th>9.0</th>\n",
       "      <td>1734.300000</td>\n",
       "      <td>2094.4750</td>\n",
       "    </tr>\n",
       "    <tr>\n",
       "      <th>8.0</th>\n",
       "      <td>1727.510000</td>\n",
       "      <td>1874.4800</td>\n",
       "    </tr>\n",
       "    <tr>\n",
       "      <th>10.0</th>\n",
       "      <td>1510.150000</td>\n",
       "      <td>2314.4700</td>\n",
       "    </tr>\n",
       "    <tr>\n",
       "      <th>10.0</th>\n",
       "      <td>1842.940000</td>\n",
       "      <td>2314.4700</td>\n",
       "    </tr>\n",
       "    <tr>\n",
       "      <th>10.0</th>\n",
       "      <td>0.000000</td>\n",
       "      <td>2314.4700</td>\n",
       "    </tr>\n",
       "    <tr>\n",
       "      <th>10.0</th>\n",
       "      <td>1732.010000</td>\n",
       "      <td>2314.4700</td>\n",
       "    </tr>\n",
       "    <tr>\n",
       "      <th>10.0</th>\n",
       "      <td>1557.850000</td>\n",
       "      <td>2314.4700</td>\n",
       "    </tr>\n",
       "    <tr>\n",
       "      <th>10.0</th>\n",
       "      <td>2163.410000</td>\n",
       "      <td>2314.4700</td>\n",
       "    </tr>\n",
       "    <tr>\n",
       "      <th>10.0</th>\n",
       "      <td>1782.430000</td>\n",
       "      <td>2314.4700</td>\n",
       "    </tr>\n",
       "    <tr>\n",
       "      <th>10.0</th>\n",
       "      <td>1712.260000</td>\n",
       "      <td>2314.4700</td>\n",
       "    </tr>\n",
       "    <tr>\n",
       "      <th>10.0</th>\n",
       "      <td>1828.160000</td>\n",
       "      <td>2314.4700</td>\n",
       "    </tr>\n",
       "    <tr>\n",
       "      <th>10.0</th>\n",
       "      <td>2163.410000</td>\n",
       "      <td>2314.4700</td>\n",
       "    </tr>\n",
       "    <tr>\n",
       "      <th>10.0</th>\n",
       "      <td>1732.010000</td>\n",
       "      <td>2314.4700</td>\n",
       "    </tr>\n",
       "    <tr>\n",
       "      <th>10.0</th>\n",
       "      <td>1741.120000</td>\n",
       "      <td>2314.4700</td>\n",
       "    </tr>\n",
       "    <tr>\n",
       "      <th>10.0</th>\n",
       "      <td>1732.010000</td>\n",
       "      <td>2314.4700</td>\n",
       "    </tr>\n",
       "    <tr>\n",
       "      <th>10.0</th>\n",
       "      <td>1925.430000</td>\n",
       "      <td>2314.4700</td>\n",
       "    </tr>\n",
       "    <tr>\n",
       "      <th>10.5</th>\n",
       "      <td>1624.490000</td>\n",
       "      <td>2407.0500</td>\n",
       "    </tr>\n",
       "    <tr>\n",
       "      <th>10.5</th>\n",
       "      <td>1624.490000</td>\n",
       "      <td>2407.0500</td>\n",
       "    </tr>\n",
       "    <tr>\n",
       "      <th>11.0</th>\n",
       "      <td>1834.960000</td>\n",
       "      <td>2499.6300</td>\n",
       "    </tr>\n",
       "    <tr>\n",
       "      <th>11.0</th>\n",
       "      <td>1700.000000</td>\n",
       "      <td>2499.6300</td>\n",
       "    </tr>\n",
       "    <tr>\n",
       "      <th>11.5</th>\n",
       "      <td>1803.850000</td>\n",
       "      <td>2592.2100</td>\n",
       "    </tr>\n",
       "    <tr>\n",
       "      <th>12.0</th>\n",
       "      <td>1634.700000</td>\n",
       "      <td>2684.7900</td>\n",
       "    </tr>\n",
       "    <tr>\n",
       "      <th>12.5</th>\n",
       "      <td>1373.660000</td>\n",
       "      <td>2684.7900</td>\n",
       "    </tr>\n",
       "  </tbody>\n",
       "</table>\n",
       "</div>"
      ],
      "text/plain": [
       "             valor    valores\n",
       "horas                        \n",
       "4.0    1130.370000  1339.5800\n",
       "4.0     964.324850  1339.5800\n",
       "4.0     964.885101  1339.5800\n",
       "4.0     992.371000  1339.5800\n",
       "4.0    1173.910000  1339.5800\n",
       "4.0    1023.957934  1339.5800\n",
       "4.0       0.000000  1339.5800\n",
       "5.0    1137.170000  1503.0050\n",
       "6.0    1144.530000  1666.4300\n",
       "6.0    1115.850000  1666.4300\n",
       "6.0       0.000000  1666.4300\n",
       "6.0    1530.630000  1666.4300\n",
       "7.5    1283.600000  1822.4675\n",
       "8.0    1613.130000  1874.4800\n",
       "8.0    1735.000000  1874.4800\n",
       "8.0    1869.670000  1874.4800\n",
       "8.0    1568.160000  1874.4800\n",
       "9.0    1734.300000  2094.4750\n",
       "8.0    1727.510000  1874.4800\n",
       "10.0   1510.150000  2314.4700\n",
       "10.0   1842.940000  2314.4700\n",
       "10.0      0.000000  2314.4700\n",
       "10.0   1732.010000  2314.4700\n",
       "10.0   1557.850000  2314.4700\n",
       "10.0   2163.410000  2314.4700\n",
       "10.0   1782.430000  2314.4700\n",
       "10.0   1712.260000  2314.4700\n",
       "10.0   1828.160000  2314.4700\n",
       "10.0   2163.410000  2314.4700\n",
       "10.0   1732.010000  2314.4700\n",
       "10.0   1741.120000  2314.4700\n",
       "10.0   1732.010000  2314.4700\n",
       "10.0   1925.430000  2314.4700\n",
       "10.5   1624.490000  2407.0500\n",
       "10.5   1624.490000  2407.0500\n",
       "11.0   1834.960000  2499.6300\n",
       "11.0   1700.000000  2499.6300\n",
       "11.5   1803.850000  2592.2100\n",
       "12.0   1634.700000  2684.7900\n",
       "12.5   1373.660000  2684.7900"
      ]
     },
     "execution_count": 22,
     "metadata": {},
     "output_type": "execute_result"
    }
   ],
   "source": [
    "comp"
   ]
  },
  {
   "cell_type": "code",
   "execution_count": 23,
   "id": "e480cd6e-476f-4f53-9b53-381d1de97449",
   "metadata": {
    "tags": []
   },
   "outputs": [],
   "source": [
    "comp = comp.rename(columns={'valor':'pago' ,'valores':'tabelado'})"
   ]
  },
  {
   "cell_type": "code",
   "execution_count": 24,
   "id": "cc31b4ff-a7d3-4cdd-be18-d8eb74de6720",
   "metadata": {
    "tags": []
   },
   "outputs": [
    {
     "data": {
      "text/html": [
       "<div>\n",
       "<style scoped>\n",
       "    .dataframe tbody tr th:only-of-type {\n",
       "        vertical-align: middle;\n",
       "    }\n",
       "\n",
       "    .dataframe tbody tr th {\n",
       "        vertical-align: top;\n",
       "    }\n",
       "\n",
       "    .dataframe thead th {\n",
       "        text-align: right;\n",
       "    }\n",
       "</style>\n",
       "<table border=\"1\" class=\"dataframe\">\n",
       "  <thead>\n",
       "    <tr style=\"text-align: right;\">\n",
       "      <th></th>\n",
       "      <th>pago</th>\n",
       "      <th>tabelado</th>\n",
       "    </tr>\n",
       "    <tr>\n",
       "      <th>horas</th>\n",
       "      <th></th>\n",
       "      <th></th>\n",
       "    </tr>\n",
       "  </thead>\n",
       "  <tbody>\n",
       "    <tr>\n",
       "      <th>4.0</th>\n",
       "      <td>1130.370000</td>\n",
       "      <td>1339.5800</td>\n",
       "    </tr>\n",
       "    <tr>\n",
       "      <th>4.0</th>\n",
       "      <td>964.324850</td>\n",
       "      <td>1339.5800</td>\n",
       "    </tr>\n",
       "    <tr>\n",
       "      <th>4.0</th>\n",
       "      <td>964.885101</td>\n",
       "      <td>1339.5800</td>\n",
       "    </tr>\n",
       "    <tr>\n",
       "      <th>4.0</th>\n",
       "      <td>992.371000</td>\n",
       "      <td>1339.5800</td>\n",
       "    </tr>\n",
       "    <tr>\n",
       "      <th>4.0</th>\n",
       "      <td>1173.910000</td>\n",
       "      <td>1339.5800</td>\n",
       "    </tr>\n",
       "    <tr>\n",
       "      <th>4.0</th>\n",
       "      <td>1023.957934</td>\n",
       "      <td>1339.5800</td>\n",
       "    </tr>\n",
       "    <tr>\n",
       "      <th>4.0</th>\n",
       "      <td>0.000000</td>\n",
       "      <td>1339.5800</td>\n",
       "    </tr>\n",
       "    <tr>\n",
       "      <th>5.0</th>\n",
       "      <td>1137.170000</td>\n",
       "      <td>1503.0050</td>\n",
       "    </tr>\n",
       "    <tr>\n",
       "      <th>6.0</th>\n",
       "      <td>1144.530000</td>\n",
       "      <td>1666.4300</td>\n",
       "    </tr>\n",
       "    <tr>\n",
       "      <th>6.0</th>\n",
       "      <td>1115.850000</td>\n",
       "      <td>1666.4300</td>\n",
       "    </tr>\n",
       "    <tr>\n",
       "      <th>6.0</th>\n",
       "      <td>0.000000</td>\n",
       "      <td>1666.4300</td>\n",
       "    </tr>\n",
       "    <tr>\n",
       "      <th>6.0</th>\n",
       "      <td>1530.630000</td>\n",
       "      <td>1666.4300</td>\n",
       "    </tr>\n",
       "    <tr>\n",
       "      <th>7.5</th>\n",
       "      <td>1283.600000</td>\n",
       "      <td>1822.4675</td>\n",
       "    </tr>\n",
       "    <tr>\n",
       "      <th>8.0</th>\n",
       "      <td>1613.130000</td>\n",
       "      <td>1874.4800</td>\n",
       "    </tr>\n",
       "    <tr>\n",
       "      <th>8.0</th>\n",
       "      <td>1735.000000</td>\n",
       "      <td>1874.4800</td>\n",
       "    </tr>\n",
       "    <tr>\n",
       "      <th>8.0</th>\n",
       "      <td>1869.670000</td>\n",
       "      <td>1874.4800</td>\n",
       "    </tr>\n",
       "    <tr>\n",
       "      <th>8.0</th>\n",
       "      <td>1568.160000</td>\n",
       "      <td>1874.4800</td>\n",
       "    </tr>\n",
       "    <tr>\n",
       "      <th>9.0</th>\n",
       "      <td>1734.300000</td>\n",
       "      <td>2094.4750</td>\n",
       "    </tr>\n",
       "    <tr>\n",
       "      <th>8.0</th>\n",
       "      <td>1727.510000</td>\n",
       "      <td>1874.4800</td>\n",
       "    </tr>\n",
       "    <tr>\n",
       "      <th>10.0</th>\n",
       "      <td>1510.150000</td>\n",
       "      <td>2314.4700</td>\n",
       "    </tr>\n",
       "    <tr>\n",
       "      <th>10.0</th>\n",
       "      <td>1842.940000</td>\n",
       "      <td>2314.4700</td>\n",
       "    </tr>\n",
       "    <tr>\n",
       "      <th>10.0</th>\n",
       "      <td>0.000000</td>\n",
       "      <td>2314.4700</td>\n",
       "    </tr>\n",
       "    <tr>\n",
       "      <th>10.0</th>\n",
       "      <td>1732.010000</td>\n",
       "      <td>2314.4700</td>\n",
       "    </tr>\n",
       "    <tr>\n",
       "      <th>10.0</th>\n",
       "      <td>1557.850000</td>\n",
       "      <td>2314.4700</td>\n",
       "    </tr>\n",
       "    <tr>\n",
       "      <th>10.0</th>\n",
       "      <td>2163.410000</td>\n",
       "      <td>2314.4700</td>\n",
       "    </tr>\n",
       "    <tr>\n",
       "      <th>10.0</th>\n",
       "      <td>1782.430000</td>\n",
       "      <td>2314.4700</td>\n",
       "    </tr>\n",
       "    <tr>\n",
       "      <th>10.0</th>\n",
       "      <td>1712.260000</td>\n",
       "      <td>2314.4700</td>\n",
       "    </tr>\n",
       "    <tr>\n",
       "      <th>10.0</th>\n",
       "      <td>1828.160000</td>\n",
       "      <td>2314.4700</td>\n",
       "    </tr>\n",
       "    <tr>\n",
       "      <th>10.0</th>\n",
       "      <td>2163.410000</td>\n",
       "      <td>2314.4700</td>\n",
       "    </tr>\n",
       "    <tr>\n",
       "      <th>10.0</th>\n",
       "      <td>1732.010000</td>\n",
       "      <td>2314.4700</td>\n",
       "    </tr>\n",
       "    <tr>\n",
       "      <th>10.0</th>\n",
       "      <td>1741.120000</td>\n",
       "      <td>2314.4700</td>\n",
       "    </tr>\n",
       "    <tr>\n",
       "      <th>10.0</th>\n",
       "      <td>1732.010000</td>\n",
       "      <td>2314.4700</td>\n",
       "    </tr>\n",
       "    <tr>\n",
       "      <th>10.0</th>\n",
       "      <td>1925.430000</td>\n",
       "      <td>2314.4700</td>\n",
       "    </tr>\n",
       "    <tr>\n",
       "      <th>10.5</th>\n",
       "      <td>1624.490000</td>\n",
       "      <td>2407.0500</td>\n",
       "    </tr>\n",
       "    <tr>\n",
       "      <th>10.5</th>\n",
       "      <td>1624.490000</td>\n",
       "      <td>2407.0500</td>\n",
       "    </tr>\n",
       "    <tr>\n",
       "      <th>11.0</th>\n",
       "      <td>1834.960000</td>\n",
       "      <td>2499.6300</td>\n",
       "    </tr>\n",
       "    <tr>\n",
       "      <th>11.0</th>\n",
       "      <td>1700.000000</td>\n",
       "      <td>2499.6300</td>\n",
       "    </tr>\n",
       "    <tr>\n",
       "      <th>11.5</th>\n",
       "      <td>1803.850000</td>\n",
       "      <td>2592.2100</td>\n",
       "    </tr>\n",
       "    <tr>\n",
       "      <th>12.0</th>\n",
       "      <td>1634.700000</td>\n",
       "      <td>2684.7900</td>\n",
       "    </tr>\n",
       "    <tr>\n",
       "      <th>12.5</th>\n",
       "      <td>1373.660000</td>\n",
       "      <td>2684.7900</td>\n",
       "    </tr>\n",
       "  </tbody>\n",
       "</table>\n",
       "</div>"
      ],
      "text/plain": [
       "              pago   tabelado\n",
       "horas                        \n",
       "4.0    1130.370000  1339.5800\n",
       "4.0     964.324850  1339.5800\n",
       "4.0     964.885101  1339.5800\n",
       "4.0     992.371000  1339.5800\n",
       "4.0    1173.910000  1339.5800\n",
       "4.0    1023.957934  1339.5800\n",
       "4.0       0.000000  1339.5800\n",
       "5.0    1137.170000  1503.0050\n",
       "6.0    1144.530000  1666.4300\n",
       "6.0    1115.850000  1666.4300\n",
       "6.0       0.000000  1666.4300\n",
       "6.0    1530.630000  1666.4300\n",
       "7.5    1283.600000  1822.4675\n",
       "8.0    1613.130000  1874.4800\n",
       "8.0    1735.000000  1874.4800\n",
       "8.0    1869.670000  1874.4800\n",
       "8.0    1568.160000  1874.4800\n",
       "9.0    1734.300000  2094.4750\n",
       "8.0    1727.510000  1874.4800\n",
       "10.0   1510.150000  2314.4700\n",
       "10.0   1842.940000  2314.4700\n",
       "10.0      0.000000  2314.4700\n",
       "10.0   1732.010000  2314.4700\n",
       "10.0   1557.850000  2314.4700\n",
       "10.0   2163.410000  2314.4700\n",
       "10.0   1782.430000  2314.4700\n",
       "10.0   1712.260000  2314.4700\n",
       "10.0   1828.160000  2314.4700\n",
       "10.0   2163.410000  2314.4700\n",
       "10.0   1732.010000  2314.4700\n",
       "10.0   1741.120000  2314.4700\n",
       "10.0   1732.010000  2314.4700\n",
       "10.0   1925.430000  2314.4700\n",
       "10.5   1624.490000  2407.0500\n",
       "10.5   1624.490000  2407.0500\n",
       "11.0   1834.960000  2499.6300\n",
       "11.0   1700.000000  2499.6300\n",
       "11.5   1803.850000  2592.2100\n",
       "12.0   1634.700000  2684.7900\n",
       "12.5   1373.660000  2684.7900"
      ]
     },
     "execution_count": 24,
     "metadata": {},
     "output_type": "execute_result"
    }
   ],
   "source": [
    "comp"
   ]
  },
  {
   "cell_type": "code",
   "execution_count": 25,
   "id": "f78f7660-7d4d-4b22-8f56-ae8d1e9141db",
   "metadata": {
    "tags": []
   },
   "outputs": [],
   "source": [
    "comp = comp[comp['pago'] != 0]"
   ]
  },
  {
   "cell_type": "code",
   "execution_count": 26,
   "id": "7f65e77c-366d-4e3c-b966-6c12ea5f04c1",
   "metadata": {
    "tags": []
   },
   "outputs": [
    {
     "data": {
      "text/html": [
       "<div>\n",
       "<style scoped>\n",
       "    .dataframe tbody tr th:only-of-type {\n",
       "        vertical-align: middle;\n",
       "    }\n",
       "\n",
       "    .dataframe tbody tr th {\n",
       "        vertical-align: top;\n",
       "    }\n",
       "\n",
       "    .dataframe thead th {\n",
       "        text-align: right;\n",
       "    }\n",
       "</style>\n",
       "<table border=\"1\" class=\"dataframe\">\n",
       "  <thead>\n",
       "    <tr style=\"text-align: right;\">\n",
       "      <th></th>\n",
       "      <th>pago</th>\n",
       "      <th>tabelado</th>\n",
       "    </tr>\n",
       "    <tr>\n",
       "      <th>horas</th>\n",
       "      <th></th>\n",
       "      <th></th>\n",
       "    </tr>\n",
       "  </thead>\n",
       "  <tbody>\n",
       "    <tr>\n",
       "      <th>4.0</th>\n",
       "      <td>1130.370000</td>\n",
       "      <td>1339.5800</td>\n",
       "    </tr>\n",
       "    <tr>\n",
       "      <th>4.0</th>\n",
       "      <td>964.324850</td>\n",
       "      <td>1339.5800</td>\n",
       "    </tr>\n",
       "    <tr>\n",
       "      <th>4.0</th>\n",
       "      <td>964.885101</td>\n",
       "      <td>1339.5800</td>\n",
       "    </tr>\n",
       "    <tr>\n",
       "      <th>4.0</th>\n",
       "      <td>992.371000</td>\n",
       "      <td>1339.5800</td>\n",
       "    </tr>\n",
       "    <tr>\n",
       "      <th>4.0</th>\n",
       "      <td>1173.910000</td>\n",
       "      <td>1339.5800</td>\n",
       "    </tr>\n",
       "    <tr>\n",
       "      <th>4.0</th>\n",
       "      <td>1023.957934</td>\n",
       "      <td>1339.5800</td>\n",
       "    </tr>\n",
       "    <tr>\n",
       "      <th>5.0</th>\n",
       "      <td>1137.170000</td>\n",
       "      <td>1503.0050</td>\n",
       "    </tr>\n",
       "    <tr>\n",
       "      <th>6.0</th>\n",
       "      <td>1144.530000</td>\n",
       "      <td>1666.4300</td>\n",
       "    </tr>\n",
       "    <tr>\n",
       "      <th>6.0</th>\n",
       "      <td>1115.850000</td>\n",
       "      <td>1666.4300</td>\n",
       "    </tr>\n",
       "    <tr>\n",
       "      <th>6.0</th>\n",
       "      <td>1530.630000</td>\n",
       "      <td>1666.4300</td>\n",
       "    </tr>\n",
       "    <tr>\n",
       "      <th>7.5</th>\n",
       "      <td>1283.600000</td>\n",
       "      <td>1822.4675</td>\n",
       "    </tr>\n",
       "    <tr>\n",
       "      <th>8.0</th>\n",
       "      <td>1613.130000</td>\n",
       "      <td>1874.4800</td>\n",
       "    </tr>\n",
       "    <tr>\n",
       "      <th>8.0</th>\n",
       "      <td>1735.000000</td>\n",
       "      <td>1874.4800</td>\n",
       "    </tr>\n",
       "    <tr>\n",
       "      <th>8.0</th>\n",
       "      <td>1869.670000</td>\n",
       "      <td>1874.4800</td>\n",
       "    </tr>\n",
       "    <tr>\n",
       "      <th>8.0</th>\n",
       "      <td>1568.160000</td>\n",
       "      <td>1874.4800</td>\n",
       "    </tr>\n",
       "    <tr>\n",
       "      <th>9.0</th>\n",
       "      <td>1734.300000</td>\n",
       "      <td>2094.4750</td>\n",
       "    </tr>\n",
       "    <tr>\n",
       "      <th>8.0</th>\n",
       "      <td>1727.510000</td>\n",
       "      <td>1874.4800</td>\n",
       "    </tr>\n",
       "    <tr>\n",
       "      <th>10.0</th>\n",
       "      <td>1510.150000</td>\n",
       "      <td>2314.4700</td>\n",
       "    </tr>\n",
       "    <tr>\n",
       "      <th>10.0</th>\n",
       "      <td>1842.940000</td>\n",
       "      <td>2314.4700</td>\n",
       "    </tr>\n",
       "    <tr>\n",
       "      <th>10.0</th>\n",
       "      <td>1732.010000</td>\n",
       "      <td>2314.4700</td>\n",
       "    </tr>\n",
       "    <tr>\n",
       "      <th>10.0</th>\n",
       "      <td>1557.850000</td>\n",
       "      <td>2314.4700</td>\n",
       "    </tr>\n",
       "    <tr>\n",
       "      <th>10.0</th>\n",
       "      <td>2163.410000</td>\n",
       "      <td>2314.4700</td>\n",
       "    </tr>\n",
       "    <tr>\n",
       "      <th>10.0</th>\n",
       "      <td>1782.430000</td>\n",
       "      <td>2314.4700</td>\n",
       "    </tr>\n",
       "    <tr>\n",
       "      <th>10.0</th>\n",
       "      <td>1712.260000</td>\n",
       "      <td>2314.4700</td>\n",
       "    </tr>\n",
       "    <tr>\n",
       "      <th>10.0</th>\n",
       "      <td>1828.160000</td>\n",
       "      <td>2314.4700</td>\n",
       "    </tr>\n",
       "    <tr>\n",
       "      <th>10.0</th>\n",
       "      <td>2163.410000</td>\n",
       "      <td>2314.4700</td>\n",
       "    </tr>\n",
       "    <tr>\n",
       "      <th>10.0</th>\n",
       "      <td>1732.010000</td>\n",
       "      <td>2314.4700</td>\n",
       "    </tr>\n",
       "    <tr>\n",
       "      <th>10.0</th>\n",
       "      <td>1741.120000</td>\n",
       "      <td>2314.4700</td>\n",
       "    </tr>\n",
       "    <tr>\n",
       "      <th>10.0</th>\n",
       "      <td>1732.010000</td>\n",
       "      <td>2314.4700</td>\n",
       "    </tr>\n",
       "    <tr>\n",
       "      <th>10.0</th>\n",
       "      <td>1925.430000</td>\n",
       "      <td>2314.4700</td>\n",
       "    </tr>\n",
       "    <tr>\n",
       "      <th>10.5</th>\n",
       "      <td>1624.490000</td>\n",
       "      <td>2407.0500</td>\n",
       "    </tr>\n",
       "    <tr>\n",
       "      <th>10.5</th>\n",
       "      <td>1624.490000</td>\n",
       "      <td>2407.0500</td>\n",
       "    </tr>\n",
       "    <tr>\n",
       "      <th>11.0</th>\n",
       "      <td>1834.960000</td>\n",
       "      <td>2499.6300</td>\n",
       "    </tr>\n",
       "    <tr>\n",
       "      <th>11.0</th>\n",
       "      <td>1700.000000</td>\n",
       "      <td>2499.6300</td>\n",
       "    </tr>\n",
       "    <tr>\n",
       "      <th>11.5</th>\n",
       "      <td>1803.850000</td>\n",
       "      <td>2592.2100</td>\n",
       "    </tr>\n",
       "    <tr>\n",
       "      <th>12.0</th>\n",
       "      <td>1634.700000</td>\n",
       "      <td>2684.7900</td>\n",
       "    </tr>\n",
       "    <tr>\n",
       "      <th>12.5</th>\n",
       "      <td>1373.660000</td>\n",
       "      <td>2684.7900</td>\n",
       "    </tr>\n",
       "  </tbody>\n",
       "</table>\n",
       "</div>"
      ],
      "text/plain": [
       "              pago   tabelado\n",
       "horas                        \n",
       "4.0    1130.370000  1339.5800\n",
       "4.0     964.324850  1339.5800\n",
       "4.0     964.885101  1339.5800\n",
       "4.0     992.371000  1339.5800\n",
       "4.0    1173.910000  1339.5800\n",
       "4.0    1023.957934  1339.5800\n",
       "5.0    1137.170000  1503.0050\n",
       "6.0    1144.530000  1666.4300\n",
       "6.0    1115.850000  1666.4300\n",
       "6.0    1530.630000  1666.4300\n",
       "7.5    1283.600000  1822.4675\n",
       "8.0    1613.130000  1874.4800\n",
       "8.0    1735.000000  1874.4800\n",
       "8.0    1869.670000  1874.4800\n",
       "8.0    1568.160000  1874.4800\n",
       "9.0    1734.300000  2094.4750\n",
       "8.0    1727.510000  1874.4800\n",
       "10.0   1510.150000  2314.4700\n",
       "10.0   1842.940000  2314.4700\n",
       "10.0   1732.010000  2314.4700\n",
       "10.0   1557.850000  2314.4700\n",
       "10.0   2163.410000  2314.4700\n",
       "10.0   1782.430000  2314.4700\n",
       "10.0   1712.260000  2314.4700\n",
       "10.0   1828.160000  2314.4700\n",
       "10.0   2163.410000  2314.4700\n",
       "10.0   1732.010000  2314.4700\n",
       "10.0   1741.120000  2314.4700\n",
       "10.0   1732.010000  2314.4700\n",
       "10.0   1925.430000  2314.4700\n",
       "10.5   1624.490000  2407.0500\n",
       "10.5   1624.490000  2407.0500\n",
       "11.0   1834.960000  2499.6300\n",
       "11.0   1700.000000  2499.6300\n",
       "11.5   1803.850000  2592.2100\n",
       "12.0   1634.700000  2684.7900\n",
       "12.5   1373.660000  2684.7900"
      ]
     },
     "execution_count": 26,
     "metadata": {},
     "output_type": "execute_result"
    }
   ],
   "source": [
    "comp"
   ]
  },
  {
   "cell_type": "code",
   "execution_count": 27,
   "id": "901f3f88-eda3-4a48-a96f-a2f5ad371e1e",
   "metadata": {
    "tags": []
   },
   "outputs": [
    {
     "data": {
      "text/plain": [
       "52084.95749999996"
      ]
     },
     "execution_count": 27,
     "metadata": {},
     "output_type": "execute_result"
    }
   ],
   "source": [
    "5*comp['tabelado'].sum()-despesas['valores'].sum()"
   ]
  },
  {
   "cell_type": "code",
   "execution_count": 28,
   "id": "ab0e6748-4ecb-4343-9403-19be17906105",
   "metadata": {
    "tags": []
   },
   "outputs": [
    {
     "data": {
      "text/html": [
       "<div>\n",
       "<style scoped>\n",
       "    .dataframe tbody tr th:only-of-type {\n",
       "        vertical-align: middle;\n",
       "    }\n",
       "\n",
       "    .dataframe tbody tr th {\n",
       "        vertical-align: top;\n",
       "    }\n",
       "\n",
       "    .dataframe thead th {\n",
       "        text-align: right;\n",
       "    }\n",
       "</style>\n",
       "<table border=\"1\" class=\"dataframe\">\n",
       "  <thead>\n",
       "    <tr style=\"text-align: right;\">\n",
       "      <th></th>\n",
       "      <th>meses</th>\n",
       "      <th>valores</th>\n",
       "      <th>n</th>\n",
       "    </tr>\n",
       "  </thead>\n",
       "  <tbody>\n",
       "    <tr>\n",
       "      <th>0</th>\n",
       "      <td>6</td>\n",
       "      <td>62409.18</td>\n",
       "      <td>43</td>\n",
       "    </tr>\n",
       "    <tr>\n",
       "      <th>1</th>\n",
       "      <td>7</td>\n",
       "      <td>62409.18</td>\n",
       "      <td>43</td>\n",
       "    </tr>\n",
       "    <tr>\n",
       "      <th>2</th>\n",
       "      <td>8</td>\n",
       "      <td>57728.49</td>\n",
       "      <td>40</td>\n",
       "    </tr>\n",
       "    <tr>\n",
       "      <th>3</th>\n",
       "      <td>9</td>\n",
       "      <td>40786.87</td>\n",
       "      <td>33</td>\n",
       "    </tr>\n",
       "    <tr>\n",
       "      <th>4</th>\n",
       "      <td>10</td>\n",
       "      <td>40786.87</td>\n",
       "      <td>33</td>\n",
       "    </tr>\n",
       "  </tbody>\n",
       "</table>\n",
       "</div>"
      ],
      "text/plain": [
       "   meses   valores   n\n",
       "0      6  62409.18  43\n",
       "1      7  62409.18  43\n",
       "2      8  57728.49  40\n",
       "3      9  40786.87  33\n",
       "4     10  40786.87  33"
      ]
     },
     "execution_count": 28,
     "metadata": {},
     "output_type": "execute_result"
    }
   ],
   "source": [
    "receitas"
   ]
  },
  {
   "cell_type": "code",
   "execution_count": 29,
   "id": "d12c55da-4c2b-4412-9b64-c532b58fbba2",
   "metadata": {
    "tags": []
   },
   "outputs": [
    {
     "data": {
      "text/plain": [
       "2045.7399324324322"
      ]
     },
     "execution_count": 29,
     "metadata": {},
     "output_type": "execute_result"
    }
   ],
   "source": [
    "# cálculo da mensalidade tabelada média\n",
    "comp['tabelado'].mean()"
   ]
  },
  {
   "cell_type": "code",
   "execution_count": 30,
   "id": "a0acb0de-6b67-4996-9631-78094a401a87",
   "metadata": {
    "tags": []
   },
   "outputs": [
    {
     "data": {
      "text/plain": [
       "1560.2353752729728"
      ]
     },
     "execution_count": 30,
     "metadata": {},
     "output_type": "execute_result"
    }
   ],
   "source": [
    "# cálculo da mensalidade paga média\n",
    "comp['pago'].mean()"
   ]
  },
  {
   "cell_type": "code",
   "execution_count": 31,
   "id": "d23e3cef-f0f4-4263-a665-8c2a8fc48910",
   "metadata": {
    "tags": []
   },
   "outputs": [],
   "source": [
    "receitas['tabelado'] = [\n",
    "                        comp['tabelado'].sum()+ 3*comp['tabelado'].mean(),  # mes 6 - 43\n",
    "                        comp['tabelado'].sum()+ 3*comp['tabelado'].mean(),  # mes 7 - 43\n",
    "                        comp['tabelado'].sum(),                            # mes 8 - 40\n",
    "                        comp['tabelado'].sum()-10*comp['tabelado'].mean(), # mes 9 - 33\n",
    "                        comp['tabelado'].sum()-10*comp['tabelado'].mean() # mes 10 - 33666\n",
    "                        ] "
   ]
  },
  {
   "cell_type": "code",
   "execution_count": 32,
   "id": "869b42c7-1134-4061-98ce-185d2ce95783",
   "metadata": {
    "tags": []
   },
   "outputs": [
    {
     "data": {
      "text/html": [
       "<div>\n",
       "<style scoped>\n",
       "    .dataframe tbody tr th:only-of-type {\n",
       "        vertical-align: middle;\n",
       "    }\n",
       "\n",
       "    .dataframe tbody tr th {\n",
       "        vertical-align: top;\n",
       "    }\n",
       "\n",
       "    .dataframe thead th {\n",
       "        text-align: right;\n",
       "    }\n",
       "</style>\n",
       "<table border=\"1\" class=\"dataframe\">\n",
       "  <thead>\n",
       "    <tr style=\"text-align: right;\">\n",
       "      <th></th>\n",
       "      <th>meses</th>\n",
       "      <th>valores</th>\n",
       "      <th>n</th>\n",
       "      <th>tabelado</th>\n",
       "    </tr>\n",
       "  </thead>\n",
       "  <tbody>\n",
       "    <tr>\n",
       "      <th>0</th>\n",
       "      <td>6</td>\n",
       "      <td>62409.18</td>\n",
       "      <td>43</td>\n",
       "      <td>81829.597297</td>\n",
       "    </tr>\n",
       "    <tr>\n",
       "      <th>1</th>\n",
       "      <td>7</td>\n",
       "      <td>62409.18</td>\n",
       "      <td>43</td>\n",
       "      <td>81829.597297</td>\n",
       "    </tr>\n",
       "    <tr>\n",
       "      <th>2</th>\n",
       "      <td>8</td>\n",
       "      <td>57728.49</td>\n",
       "      <td>40</td>\n",
       "      <td>75692.377500</td>\n",
       "    </tr>\n",
       "    <tr>\n",
       "      <th>3</th>\n",
       "      <td>9</td>\n",
       "      <td>40786.87</td>\n",
       "      <td>33</td>\n",
       "      <td>55234.978176</td>\n",
       "    </tr>\n",
       "    <tr>\n",
       "      <th>4</th>\n",
       "      <td>10</td>\n",
       "      <td>40786.87</td>\n",
       "      <td>33</td>\n",
       "      <td>55234.978176</td>\n",
       "    </tr>\n",
       "  </tbody>\n",
       "</table>\n",
       "</div>"
      ],
      "text/plain": [
       "   meses   valores   n      tabelado\n",
       "0      6  62409.18  43  81829.597297\n",
       "1      7  62409.18  43  81829.597297\n",
       "2      8  57728.49  40  75692.377500\n",
       "3      9  40786.87  33  55234.978176\n",
       "4     10  40786.87  33  55234.978176"
      ]
     },
     "execution_count": 32,
     "metadata": {},
     "output_type": "execute_result"
    }
   ],
   "source": [
    "receitas"
   ]
  },
  {
   "cell_type": "code",
   "execution_count": 33,
   "id": "76b2c848-569d-4eea-a43e-6637023177fa",
   "metadata": {
    "tags": []
   },
   "outputs": [
    {
     "data": {
      "text/plain": [
       "349821.5284459459"
      ]
     },
     "execution_count": 33,
     "metadata": {},
     "output_type": "execute_result"
    }
   ],
   "source": [
    "# soma da receitas possíveis\n",
    "receitas['tabelado'].sum()"
   ]
  },
  {
   "cell_type": "code",
   "execution_count": 34,
   "id": "51403b50-1996-4558-937c-502d7518a4a7",
   "metadata": {
    "tags": []
   },
   "outputs": [
    {
     "data": {
      "text/plain": [
       "326376.93"
      ]
     },
     "execution_count": 34,
     "metadata": {},
     "output_type": "execute_result"
    }
   ],
   "source": [
    "# soma das despesas\n",
    "despesas['valores'].sum()"
   ]
  },
  {
   "cell_type": "code",
   "execution_count": 35,
   "id": "5b83da33-ce29-465b-b698-b9d0ae4be381",
   "metadata": {
    "tags": []
   },
   "outputs": [
    {
     "data": {
      "text/plain": [
       "264120.59"
      ]
     },
     "execution_count": 35,
     "metadata": {},
     "output_type": "execute_result"
    }
   ],
   "source": [
    "# soma da receitas reais\n",
    "receitas['valores'].sum()"
   ]
  },
  {
   "cell_type": "code",
   "execution_count": 36,
   "id": "88259c88-27b0-40a4-83b5-d99a2c3cf112",
   "metadata": {
    "tags": []
   },
   "outputs": [
    {
     "data": {
      "text/plain": [
       "-62256.33999999997"
      ]
     },
     "execution_count": 36,
     "metadata": {},
     "output_type": "execute_result"
    }
   ],
   "source": [
    "# prejuízo real dos 5 meses\n",
    "prejuizo_real = receitas['valores'].sum()-despesas['valores'].sum()\n",
    "prejuizo_real"
   ]
  },
  {
   "cell_type": "code",
   "execution_count": 37,
   "id": "6dfafd8a-f7cc-4139-9a4e-7b9eb7f26a3c",
   "metadata": {
    "tags": []
   },
   "outputs": [
    {
     "data": {
      "text/plain": [
       "23444.598445945885"
      ]
     },
     "execution_count": 37,
     "metadata": {},
     "output_type": "execute_result"
    }
   ],
   "source": [
    "# lucro possível dos 5 meses\n",
    "lucro_possivel = receitas['tabelado'].sum()-despesas['valores'].sum()\n",
    "lucro_possivel"
   ]
  },
  {
   "cell_type": "code",
   "execution_count": 38,
   "id": "e68b9d01-a411-43cc-98f7-b02fa4bf9ef0",
   "metadata": {
    "tags": []
   },
   "outputs": [
    {
     "data": {
      "text/plain": [
       "1699.87984375"
      ]
     },
     "execution_count": 38,
     "metadata": {},
     "output_type": "execute_result"
    }
   ],
   "source": [
    "# media das despesas por aluno\n",
    "despesa_media = despesas['valores'].sum()/despesas['n'].sum()\n",
    "despesa_media"
   ]
  },
  {
   "cell_type": "code",
   "execution_count": 39,
   "id": "407b94d4-be68-4410-9b41-e2ffc782217e",
   "metadata": {
    "tags": []
   },
   "outputs": [
    {
     "data": {
      "text/plain": [
       "1375.6280729166667"
      ]
     },
     "execution_count": 39,
     "metadata": {},
     "output_type": "execute_result"
    }
   ],
   "source": [
    "# media das mensalidades pagas por aluno\n",
    "mensalidade_media = receitas['valores'].sum()/receitas['n'].sum()\n",
    "mensalidade_media"
   ]
  },
  {
   "cell_type": "code",
   "execution_count": 40,
   "id": "0f7285e2-bb2d-440f-907a-2a0857bd06c4",
   "metadata": {
    "tags": []
   },
   "outputs": [
    {
     "data": {
      "text/plain": [
       "1821.9871273226347"
      ]
     },
     "execution_count": 40,
     "metadata": {},
     "output_type": "execute_result"
    }
   ],
   "source": [
    "# media das mensalidades tabeladas por aluno\n",
    "mensalidade_media_tabelada = receitas['tabelado'].sum()/receitas['n'].sum()\n",
    "mensalidade_media_tabelada"
   ]
  },
  {
   "cell_type": "code",
   "execution_count": 41,
   "id": "9cf89721-758d-4efa-8b3b-32e651922678",
   "metadata": {
    "tags": []
   },
   "outputs": [
    {
     "data": {
      "text/plain": [
       "-324.25177083333324"
      ]
     },
     "execution_count": 41,
     "metadata": {},
     "output_type": "execute_result"
    }
   ],
   "source": [
    "# prejuízo médio por por aluno por mês\n",
    "mensalidade_media-despesa_media"
   ]
  },
  {
   "cell_type": "code",
   "execution_count": 42,
   "id": "9d252714-60fe-4c8a-aba1-18b194abdd08",
   "metadata": {
    "tags": []
   },
   "outputs": [
    {
     "data": {
      "text/plain": [
       "122.10728357263474"
      ]
     },
     "execution_count": 42,
     "metadata": {},
     "output_type": "execute_result"
    }
   ],
   "source": [
    "# lucro possível médio por por aluno por mês\n",
    "mensalidade_media_tabelada-despesa_media"
   ]
  },
  {
   "cell_type": "code",
   "execution_count": 43,
   "id": "885e417b-c0f3-4dbb-93f7-239aabff2699",
   "metadata": {
    "tags": []
   },
   "outputs": [],
   "source": [
    "prolabore = 8000"
   ]
  },
  {
   "cell_type": "code",
   "execution_count": 183,
   "id": "ac26884c-c890-40e6-a846-b674877afe10",
   "metadata": {
    "tags": []
   },
   "outputs": [
    {
     "data": {
      "text/plain": [
       "41.635807764930405"
      ]
     },
     "execution_count": 183,
     "metadata": {},
     "output_type": "execute_result"
    }
   ],
   "source": [
    "# calculo do ponto de equilibrio - pior cenário de despesas - cenário 0\n",
    "despesas_0 = (despesas['valores'].sum() -5* prolabore)/5     # pior despesa real\n",
    "receitas_0 = receitas['valores'].sum() / receitas['n'].sum() # receita real\n",
    "              \n",
    "n_0 = (  despesas_0 /  receitas_0 )\n",
    "n_0"
   ]
  },
  {
   "cell_type": "code",
   "execution_count": 184,
   "id": "198998ad-f8af-4bc2-9209-5345a4cdc037",
   "metadata": {
    "tags": []
   },
   "outputs": [
    {
     "data": {
      "text/plain": [
       "35.586606557254775"
      ]
     },
     "execution_count": 184,
     "metadata": {},
     "output_type": "execute_result"
    }
   ],
   "source": [
    "# calculo do ponto de equilibrio - melhor cenário de despesas - cenário 1\n",
    "despesas_1 = (despesas['valores'][0]+despesas['valores'][4] -2* prolabore)/2   # melhor despesa real\n",
    "\n",
    "n_1 = (  despesas_1 /  receitas_0 )\n",
    "n_1"
   ]
  },
  {
   "cell_type": "code",
   "execution_count": 185,
   "id": "6a5a7d21-86db-4e1a-9231-48b5fb373dcb",
   "metadata": {
    "tags": []
   },
   "outputs": [
    {
     "data": {
      "text/plain": [
       "31.435669956771193"
      ]
     },
     "execution_count": 185,
     "metadata": {},
     "output_type": "execute_result"
    }
   ],
   "source": [
    "# calculo do ponto de equilibrio - pior cenário de despesas e melhor de receitas - cenário 2\n",
    "receitas_1 = receitas['tabelado'].sum() / receitas['n'].sum() # receita tabelada\n",
    "\n",
    "n_2 = (   despesas_0 /   receitas_1   ) \n",
    "n_2"
   ]
  },
  {
   "cell_type": "code",
   "execution_count": 186,
   "id": "04d18fd5-dab3-44d5-85f8-b490750ea964",
   "metadata": {
    "tags": []
   },
   "outputs": [
    {
     "data": {
      "text/plain": [
       "26.86843077312879"
      ]
     },
     "execution_count": 186,
     "metadata": {},
     "output_type": "execute_result"
    }
   ],
   "source": [
    "# calculo do ponto de equilibrio - melhor cenário de despesas  e receitas - cenário 3\n",
    "\n",
    "n_3 = ( despesas_1 /  receitas_1 ) \n",
    "n_3\n"
   ]
  },
  {
   "cell_type": "code",
   "execution_count": 156,
   "id": "ea8d0cf7-1426-494b-8285-78da47ab9702",
   "metadata": {
    "tags": []
   },
   "outputs": [
    {
     "data": {
      "text/html": [
       "<div>\n",
       "<style scoped>\n",
       "    .dataframe tbody tr th:only-of-type {\n",
       "        vertical-align: middle;\n",
       "    }\n",
       "\n",
       "    .dataframe tbody tr th {\n",
       "        vertical-align: top;\n",
       "    }\n",
       "\n",
       "    .dataframe thead th {\n",
       "        text-align: right;\n",
       "    }\n",
       "</style>\n",
       "<table border=\"1\" class=\"dataframe\">\n",
       "  <thead>\n",
       "    <tr style=\"text-align: right;\">\n",
       "      <th></th>\n",
       "      <th>&lt;D&gt;</th>\n",
       "      <th>&lt;R&gt;</th>\n",
       "      <th>n</th>\n",
       "    </tr>\n",
       "  </thead>\n",
       "  <tbody>\n",
       "    <tr>\n",
       "      <th>0</th>\n",
       "      <td>1375.628073</td>\n",
       "      <td>1375.628073</td>\n",
       "      <td>41.635808</td>\n",
       "    </tr>\n",
       "    <tr>\n",
       "      <th>1</th>\n",
       "      <td>1375.628073</td>\n",
       "      <td>1375.628073</td>\n",
       "      <td>35.586607</td>\n",
       "    </tr>\n",
       "    <tr>\n",
       "      <th>2</th>\n",
       "      <td>1821.987127</td>\n",
       "      <td>1821.987127</td>\n",
       "      <td>31.435670</td>\n",
       "    </tr>\n",
       "    <tr>\n",
       "      <th>3</th>\n",
       "      <td>1821.987127</td>\n",
       "      <td>1821.987127</td>\n",
       "      <td>26.868431</td>\n",
       "    </tr>\n",
       "  </tbody>\n",
       "</table>\n",
       "</div>"
      ],
      "text/plain": [
       "           <D>          <R>          n\n",
       "0  1375.628073  1375.628073  41.635808\n",
       "1  1375.628073  1375.628073  35.586607\n",
       "2  1821.987127  1821.987127  31.435670\n",
       "3  1821.987127  1821.987127  26.868431"
      ]
     },
     "execution_count": 156,
     "metadata": {},
     "output_type": "execute_result"
    }
   ],
   "source": [
    "# contrução da tabela de receitas e despesas médias em função do número de alunos\n",
    "df = pd.DataFrame(columns = ['<D>','<R>', 'n'])\n",
    "\n",
    "df.loc[0] =[ despesas_0/n_0, receitas_0, n_0 ]\n",
    "df.loc[1] =[ despesas_1/n_1, receitas_0, n_1 ]\n",
    "df.loc[2] =[ despesas_0/n_2, receitas_1, n_2 ]\n",
    "df.loc[3] =[ despesas_1/n_3, receitas_1, n_3 ]\n",
    "        \n",
    "    \n",
    "df"
   ]
  },
  {
   "cell_type": "code",
   "execution_count": 158,
   "id": "ded4e284-8a0f-48bd-a591-b764522541b7",
   "metadata": {
    "tags": []
   },
   "outputs": [
    {
     "data": {
      "text/plain": [
       "47968.569"
      ]
     },
     "execution_count": 158,
     "metadata": {},
     "output_type": "execute_result"
    }
   ],
   "source": [
    "# cálculo das despesa fixa considerando os meses \"normais\" de junho e outubro\n",
    "coef_ang_base = (despesas['valores'][0]- despesas['valores'][4]) / (despesas['n'][0]- despesas['n'][4])\n",
    "coef_linear_base = despesas['valores'][0]-coef_ang_base*despesas['n'][0]\n",
    "coef_linear_base\n"
   ]
  },
  {
   "cell_type": "code",
   "execution_count": 223,
   "id": "9a067e73-80f6-4734-97f4-12d58abb112d",
   "metadata": {
    "tags": []
   },
   "outputs": [
    {
     "data": {
      "text/plain": [
       "223.52915674279484"
      ]
     },
     "execution_count": 223,
     "metadata": {},
     "output_type": "execute_result"
    }
   ],
   "source": [
    "coef_ang_cenario_0 = (mensalidade_media-coef_linear_base/n_0)\n",
    "coef_ang_cenario_0\n"
   ]
  },
  {
   "cell_type": "code",
   "execution_count": 224,
   "id": "07cc1c6f-ec16-4b3a-ad7f-7dc55d6fac41",
   "metadata": {
    "tags": []
   },
   "outputs": [
    {
     "data": {
      "text/plain": [
       "27.68923747800045"
      ]
     },
     "execution_count": 224,
     "metadata": {},
     "output_type": "execute_result"
    }
   ],
   "source": [
    "coef_ang_cenario_1 = (mensalidade_media-coef_linear_base/n_1)\n",
    "coef_ang_cenario_1\n"
   ]
  },
  {
   "cell_type": "code",
   "execution_count": 225,
   "id": "6e8e7844-8148-44ad-8837-b7d619743ba7",
   "metadata": {
    "tags": []
   },
   "outputs": [
    {
     "data": {
      "text/plain": [
       "296.05912687078967"
      ]
     },
     "execution_count": 225,
     "metadata": {},
     "output_type": "execute_result"
    }
   ],
   "source": [
    "coef_ang_cenario_2 = (mensalidade_media_tabelada-coef_linear_base/n_2)\n",
    "coef_ang_cenario_2"
   ]
  },
  {
   "cell_type": "code",
   "execution_count": 226,
   "id": "a704b1c4-ba03-4142-9fe8-24c935e25fc1",
   "metadata": {
    "tags": []
   },
   "outputs": [
    {
     "data": {
      "text/plain": [
       "36.67374579186321"
      ]
     },
     "execution_count": 226,
     "metadata": {},
     "output_type": "execute_result"
    }
   ],
   "source": [
    "coef_ang_cenario_3 = (mensalidade_media_tabelada-coef_linear_base/n_3)\n",
    "coef_ang_cenario_3"
   ]
  },
  {
   "cell_type": "code",
   "execution_count": 242,
   "id": "65e8d617-e4ff-467d-a0f4-747c3117a489",
   "metadata": {
    "tags": []
   },
   "outputs": [
    {
     "data": {
      "image/png": "[encoded data removed]",
      "text/plain": [
       "<Figure size 640x480 with 1 Axes>"
      ]
     },
     "metadata": {},
     "output_type": "display_data"
    }
   ],
   "source": [
    "n = np.arange(1,51,1)\n",
    "plt.figure(layout='constrained')\n",
    "\n",
    "plt.scatter(n_0,\n",
    "   n_0* mensalidade_media,\n",
    "    color='black')\n",
    "\n",
    "#plt.scatter(n_1,\n",
    "#   n_1* mensalidade_media,\n",
    "#    color='black')\n",
    "\n",
    "#plt.scatter(n_2,\n",
    "#   n_2* mensalidade_media_tabelada,\n",
    "#    color='black')\n",
    "\n",
    "#plt.scatter(n_3,\n",
    "#   n_3* mensalidade_media_tabelada,\n",
    "#    color='black')\n",
    "\n",
    "##################################################\n",
    "\n",
    "plt.plot(n,\n",
    "    coef_ang_cenario_0*n+coef_linear_base,\n",
    "    color='red',label='despesas')\n",
    "\n",
    "#plt.plot(n,\n",
    "#    coef_ang_cenario_1*n+coef_linear_base,\n",
    "#    color='red', label='1')\n",
    "\n",
    "#plt.plot(n,\n",
    "#    coef_ang_cenario_2*n+coef_linear_base,\n",
    "#    color='red', label='2')\n",
    "\n",
    "#plt.plot(n,\n",
    "#    coef_ang_cenario_3*n+coef_linear_base,\n",
    "#    color='red', label='3')\n",
    "\n",
    "\n",
    "plt.plot(n,\n",
    "    n*mensalidade_media,\n",
    "    color='blue', linestyle = 'dashed',label='receitas')\n",
    "\n",
    "#plt.plot(n,\n",
    "#    n*mensalidade_media_tabelada,\n",
    "#    color='green', linestyle = 'dashed',label='receitas tabeladas') \n",
    "\n",
    "\n",
    "plt.xlabel('número de alunos')\n",
    "plt.ylabel('valores em reais')\n",
    "plt.title(\"Ponto de equilíbrio financeiro\")\n",
    "plt.legend()\n",
    "plt.grid()"
   ]
  },
  {
   "cell_type": "code",
   "execution_count": 255,
   "id": "025552b3-c4d9-47a2-9e52-8b2d35fa2913",
   "metadata": {
    "tags": []
   },
   "outputs": [
    {
     "data": {
      "image/png": "[encoded data removed]",
      "text/plain": [
       "<Figure size 640x480 with 1 Axes>"
      ]
     },
     "metadata": {},
     "output_type": "display_data"
    }
   ],
   "source": [
    "n = np.arange(1,51,1)\n",
    "plt.figure(layout='constrained')\n",
    "\n",
    "#plt.scatter(n_0,\n",
    "#   n_0* mensalidade_media,\n",
    "#    color='black')\n",
    "\n",
    "#plt.scatter(n_1,\n",
    "#   n_1* mensalidade_media,\n",
    "#    color='black')\n",
    "\n",
    "#plt.scatter(n_2,\n",
    "#   n_2* mensalidade_media_tabelada,\n",
    "#    color='black')\n",
    "\n",
    "plt.scatter(n_3,\n",
    "   n_3* mensalidade_media_tabelada,\n",
    "    color='black')\n",
    "\n",
    "##################################################\n",
    "\n",
    "#plt.plot(n,\n",
    "#    coef_ang_cenario_0*n+coef_linear_base,\n",
    "#    color='red',label='despesas')\n",
    "\n",
    "plt.plot(n,\n",
    "    coef_ang_cenario_1*n+coef_linear_base,\n",
    "    color='red', label='1')\n",
    "\n",
    "#plt.plot(n,\n",
    "#    coef_ang_cenario_2*n+coef_linear_base,\n",
    "#    color='red', label='2')\n",
    "\n",
    "#plt.plot(n,\n",
    "#    coef_ang_cenario_3*n+coef_linear_base,\n",
    "#    color='red', label='3')\n",
    "\n",
    "\n",
    "#plt.plot(n,\n",
    "#    n*mensalidade_media,\n",
    "#    color='blue', linestyle = 'dashed',label='receitas')\n",
    "\n",
    "plt.plot(n,\n",
    "    n*mensalidade_media_tabelada,\n",
    "    color='green', linestyle = 'dashed',label='receitas tabeladas') \n",
    "\n",
    "\n",
    "plt.xlabel('número de alunos')\n",
    "plt.ylabel('valores em reais')\n",
    "plt.title(\"Ponto de equilíbrio financeiro\")\n",
    "plt.legend()\n",
    "plt.grid()"
   ]
  },
  {
   "cell_type": "code",
   "execution_count": null,
   "id": "615dd215-7728-4948-9644-2c8beea0bbdd",
   "metadata": {},
   "outputs": [],
   "source": []
  },
  {
   "cell_type": "code",
   "execution_count": 50,
   "id": "0b36fd10-d012-436f-8056-ba6b65cf19af",
   "metadata": {
    "jp-MarkdownHeadingCollapsed": true,
    "tags": []
   },
   "outputs": [
    {
     "data": {
      "image/png": "[encoded data removed]",
      "text/plain": [
       "<Figure size 640x480 with 1 Axes>"
      ]
     },
     "metadata": {},
     "output_type": "display_data"
    }
   ],
   "source": [
    "meses = ('jun', 'jul', 'ago', 'set', 'out')\n",
    "receitas_e_despesas = {\n",
    "    'receitas': receitas['valores'],\n",
    "    'despesas': despesas['valores'],\n",
    "}\n",
    "\n",
    "cores = {'receitas': 'blue', 'despesas': 'red'}\n",
    "\n",
    "x = np.arange(len(meses))\n",
    "largura = 0.25\n",
    "passo = 0.5\n",
    "\n",
    "fig, ax = plt.subplots(layout='constrained')\n",
    "\n",
    "for tipo, valores in receitas_e_despesas.items():\n",
    "    offset = largura * passo\n",
    "    rects = ax.bar(x + offset, valores, largura, label=tipo, color=cores[tipo])\n",
    "    passo += 1\n",
    "\n",
    "ax.set_ylabel('valores em reais')\n",
    "ax.set_title('Comparação entre receitas e despesas')\n",
    "ax.set_xticks(x + largura, meses)\n",
    "\n",
    "ax.set_ylim(0, 100000)\n",
    "\n",
    "ax.legend(loc='upper left', ncols=1)\n",
    "\n",
    "fig.savefig('../imagens/comparacao.png')"
   ]
  },
  {
   "cell_type": "code",
   "execution_count": 51,
   "id": "913bf1fa-6cd9-4b6b-b97b-8397fc92e12c",
   "metadata": {
    "jp-MarkdownHeadingCollapsed": true,
    "tags": []
   },
   "outputs": [
    {
     "data": {
      "image/png": "[encoded data removed]",
      "text/plain": [
       "<Figure size 640x480 with 1 Axes>"
      ]
     },
     "metadata": {},
     "output_type": "display_data"
    }
   ],
   "source": [
    "meses = ('jun', 'jul', 'ago', 'set', 'out')\n",
    "receitas_e_despesas = {\n",
    "    'receitas': receitas['valores'],\n",
    "    'despesas': despesas['valores'],\n",
    "}\n",
    "\n",
    "cores = {'receitas': 'blue', 'despesas': 'red'}\n",
    "\n",
    "x = np.arange(len(meses))\n",
    "largura = 0.25\n",
    "passo = 0.5\n",
    "\n",
    "fig, ax = plt.subplots(layout='constrained')\n",
    "\n",
    "ax.axhline(receitas['valores'].mean(), color='blue', linestyle='dashed', label='receita média')\n",
    "ax.axhline(despesas['valores'].mean(), color='red', linestyle='dashed', label='despesa média')\n",
    "ax.axhline(receitas['tabelado'].mean(), color='green', linestyle='dashed', label='receita tabelada')\n",
    "\n",
    "for tipo, valores in receitas_e_despesas.items():\n",
    "    offset = largura * passo\n",
    "    rects = ax.bar(x + offset, valores, largura, label=tipo, color=cores[tipo])\n",
    "    passo += 1\n",
    "\n",
    "ax.set_ylabel('valores em reais')\n",
    "# ax.set_title('Comparação entre receitas e despesas')\n",
    "ax.set_xticks(x + largura, meses)\n",
    "\n",
    "ax.set_ylim(0, 100000)\n",
    "\n",
    "ax.legend(loc='upper left', ncols=2)\n",
    "\n",
    "fig.savefig('../imagens/comparacao-medias.png')"
   ]
  },
  {
   "cell_type": "code",
   "execution_count": 52,
   "id": "ce29cad7-7f8f-4237-bc71-7bd51a2f334d",
   "metadata": {
    "tags": []
   },
   "outputs": [
    {
     "data": {
      "image/png": "[encoded data removed]",
      "text/plain": [
       "<Figure size 640x480 with 1 Axes>"
      ]
     },
     "metadata": {},
     "output_type": "display_data"
    }
   ],
   "source": [
    "meses = ('jun', 'jul', 'ago', 'set', 'out')\n",
    "receitas_e_despesas = {\n",
    "    'receitas': receitas['valores'],\n",
    "    'despesas': despesas['valores'],\n",
    "    'tabelado': receitas['tabelado']\n",
    "}\n",
    "\n",
    "cores = {'receitas': 'blue', 'despesas': 'red', 'tabelado': 'green'}\n",
    "\n",
    "x = np.arange(len(meses))\n",
    "largura = 0.2\n",
    "passo = 0\n",
    "\n",
    "fig, ax = plt.subplots(layout='constrained')\n",
    "\n",
    "ax.axhline(receitas['valores'].mean(), color='blue', linestyle='dashed', label='receita média')\n",
    "ax.axhline(despesas['valores'].mean(), color='red', linestyle='dashed', label='despesa média')\n",
    "ax.axhline(receitas['tabelado'].mean(), color='green', linestyle='dashed', label='receita tabelada')\n",
    "\n",
    "for tipo, valores in receitas_e_despesas.items():\n",
    "    offset = largura * passo\n",
    "    rects = ax.bar(x + offset, valores, largura, label=tipo, color=cores[tipo])\n",
    "    passo += 1\n",
    "\n",
    "ax.set_ylabel('valores em reais')\n",
    "# ax.set_title('Comparação entre receitas e despesas')\n",
    "ax.set_xticks(x + largura, meses)\n",
    "\n",
    "ax.set_ylim(0, 100000)\n",
    "\n",
    "ax.legend(loc='upper left', ncols=2)\n",
    "\n",
    "fig.savefig('../imagens/comparacao-medias.png')"
   ]
  },
  {
   "cell_type": "code",
   "execution_count": 53,
   "id": "4f596c08-670a-471e-8c20-a2c755cee694",
   "metadata": {
    "tags": []
   },
   "outputs": [
    {
     "data": {
      "text/html": [
       "<div>\n",
       "<style scoped>\n",
       "    .dataframe tbody tr th:only-of-type {\n",
       "        vertical-align: middle;\n",
       "    }\n",
       "\n",
       "    .dataframe tbody tr th {\n",
       "        vertical-align: top;\n",
       "    }\n",
       "\n",
       "    .dataframe thead th {\n",
       "        text-align: right;\n",
       "    }\n",
       "</style>\n",
       "<table border=\"1\" class=\"dataframe\">\n",
       "  <thead>\n",
       "    <tr style=\"text-align: right;\">\n",
       "      <th></th>\n",
       "      <th>meses</th>\n",
       "      <th>valores</th>\n",
       "      <th>n</th>\n",
       "    </tr>\n",
       "  </thead>\n",
       "  <tbody>\n",
       "    <tr>\n",
       "      <th>0</th>\n",
       "      <td>6</td>\n",
       "      <td>58136.22</td>\n",
       "      <td>43</td>\n",
       "    </tr>\n",
       "    <tr>\n",
       "      <th>1</th>\n",
       "      <td>7</td>\n",
       "      <td>73274.51</td>\n",
       "      <td>43</td>\n",
       "    </tr>\n",
       "    <tr>\n",
       "      <th>2</th>\n",
       "      <td>8</td>\n",
       "      <td>74271.44</td>\n",
       "      <td>40</td>\n",
       "    </tr>\n",
       "    <tr>\n",
       "      <th>3</th>\n",
       "      <td>9</td>\n",
       "      <td>64923.11</td>\n",
       "      <td>33</td>\n",
       "    </tr>\n",
       "    <tr>\n",
       "      <th>4</th>\n",
       "      <td>10</td>\n",
       "      <td>55771.65</td>\n",
       "      <td>33</td>\n",
       "    </tr>\n",
       "  </tbody>\n",
       "</table>\n",
       "</div>"
      ],
      "text/plain": [
       "   meses   valores   n\n",
       "0      6  58136.22  43\n",
       "1      7  73274.51  43\n",
       "2      8  74271.44  40\n",
       "3      9  64923.11  33\n",
       "4     10  55771.65  33"
      ]
     },
     "execution_count": 53,
     "metadata": {},
     "output_type": "execute_result"
    }
   ],
   "source": [
    "despesas"
   ]
  },
  {
   "cell_type": "code",
   "execution_count": null,
   "id": "a5dd9b8f-0568-486c-9d1a-d68fed6e7eee",
   "metadata": {},
   "outputs": [],
   "source": []
  }
 ],
 "metadata": {
  "kernelspec": {
   "display_name": "Python 3 (ipykernel)",
   "language": "python",
   "name": "python3"
  },
  "language_info": {
   "codemirror_mode": {
    "name": "ipython",
    "version": 3
   },
   "file_extension": ".py",
   "mimetype": "text/x-python",
   "name": "python",
   "nbconvert_exporter": "python",
   "pygments_lexer": "ipython3",
   "version": "3.11.5"
  }
 },
 "nbformat": 4,
 "nbformat_minor": 5
}
