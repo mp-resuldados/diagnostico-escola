{
 "cells": [
  {
   "cell_type": "markdown",
   "id": "409eafcd-1bbd-4ca1-8242-14747768c9db",
   "metadata": {},
   "source": [
    "# Diagnóstico financeiro de uma escola recém comprada"
   ]
  },
  {
   "cell_type": "code",
   "execution_count": 1,
   "id": "1098099c-9a21-4c8b-8ae4-e5715bc7bdbd",
   "metadata": {
    "tags": []
   },
   "outputs": [],
   "source": [
    "import pandas as pd\n",
    "import matplotlib.pyplot as plt\n",
    "import numpy as np\n",
    "import math\n",
    "import matplotlib as mpl"
   ]
  },
  {
   "cell_type": "markdown",
   "id": "77d787cd-822c-4e2b-845b-7d840899d500",
   "metadata": {},
   "source": [
    "## Dados disponíveis"
   ]
  },
  {
   "cell_type": "markdown",
   "id": "456563db-3b06-430b-b138-4fa8c4893e64",
   "metadata": {},
   "source": [
    "Para o diagnóstico financeiro da escola em questão, criamos uma planilha de receitas e outras de despesas mensais para os cinco meses que tínhamos dados disponíveis. A planilha contem uma coluna com o número de alunos, porque a escola sofreu perda considerável de alunos nos meses estudados.\n",
    "\n",
    "Baixando arquivos de receitas e despesas:"
   ]
  },
  {
   "cell_type": "code",
   "execution_count": 2,
   "id": "19fb33ce-ee1a-4bed-8249-6f8a464f5f3b",
   "metadata": {
    "tags": []
   },
   "outputs": [],
   "source": [
    "receitas = pd.read_csv(\n",
    "    '../dados/receitas_mensais_2023.csv',\n",
    "    sep=\";\"\n",
    ")"
   ]
  },
  {
   "cell_type": "code",
   "execution_count": 3,
   "id": "5a1a0f2b-0370-4664-8569-6e32f4043a6b",
   "metadata": {
    "tags": []
   },
   "outputs": [],
   "source": [
    "despesas = pd.read_csv(\n",
    "    '../dados/despesas_mensais_2023.csv',\n",
    "    sep=\";\"\n",
    ")"
   ]
  },
  {
   "cell_type": "markdown",
   "id": "a5e05b78-8167-4769-84cf-d6655bdbae55",
   "metadata": {
    "tags": []
   },
   "source": [
    "Olhando os arquivos:"
   ]
  },
  {
   "cell_type": "code",
   "execution_count": 4,
   "id": "ded037da-1bdb-489c-b16d-3cb06322905b",
   "metadata": {
    "tags": []
   },
   "outputs": [
    {
     "data": {
      "text/html": [
       "<div>\n",
       "<style scoped>\n",
       "    .dataframe tbody tr th:only-of-type {\n",
       "        vertical-align: middle;\n",
       "    }\n",
       "\n",
       "    .dataframe tbody tr th {\n",
       "        vertical-align: top;\n",
       "    }\n",
       "\n",
       "    .dataframe thead th {\n",
       "        text-align: right;\n",
       "    }\n",
       "</style>\n",
       "<table border=\"1\" class=\"dataframe\">\n",
       "  <thead>\n",
       "    <tr style=\"text-align: right;\">\n",
       "      <th></th>\n",
       "      <th>meses</th>\n",
       "      <th>valores</th>\n",
       "      <th>n</th>\n",
       "    </tr>\n",
       "  </thead>\n",
       "  <tbody>\n",
       "    <tr>\n",
       "      <th>0</th>\n",
       "      <td>6</td>\n",
       "      <td>R$ 62.409,18</td>\n",
       "      <td>43</td>\n",
       "    </tr>\n",
       "    <tr>\n",
       "      <th>1</th>\n",
       "      <td>7</td>\n",
       "      <td>R$ 62.409,18</td>\n",
       "      <td>43</td>\n",
       "    </tr>\n",
       "    <tr>\n",
       "      <th>2</th>\n",
       "      <td>8</td>\n",
       "      <td>R$ 57.728,49</td>\n",
       "      <td>40</td>\n",
       "    </tr>\n",
       "    <tr>\n",
       "      <th>3</th>\n",
       "      <td>9</td>\n",
       "      <td>R$ 40.786,87</td>\n",
       "      <td>33</td>\n",
       "    </tr>\n",
       "    <tr>\n",
       "      <th>4</th>\n",
       "      <td>10</td>\n",
       "      <td>R$ 40.786,87</td>\n",
       "      <td>33</td>\n",
       "    </tr>\n",
       "  </tbody>\n",
       "</table>\n",
       "</div>"
      ],
      "text/plain": [
       "   meses       valores   n\n",
       "0      6  R$ 62.409,18  43\n",
       "1      7  R$ 62.409,18  43\n",
       "2      8  R$ 57.728,49  40\n",
       "3      9  R$ 40.786,87  33\n",
       "4     10  R$ 40.786,87  33"
      ]
     },
     "execution_count": 4,
     "metadata": {},
     "output_type": "execute_result"
    }
   ],
   "source": [
    "receitas"
   ]
  },
  {
   "cell_type": "code",
   "execution_count": 5,
   "id": "1caf2aa4-40a2-4574-9da3-f241ee89e72e",
   "metadata": {
    "tags": []
   },
   "outputs": [
    {
     "data": {
      "text/html": [
       "<div>\n",
       "<style scoped>\n",
       "    .dataframe tbody tr th:only-of-type {\n",
       "        vertical-align: middle;\n",
       "    }\n",
       "\n",
       "    .dataframe tbody tr th {\n",
       "        vertical-align: top;\n",
       "    }\n",
       "\n",
       "    .dataframe thead th {\n",
       "        text-align: right;\n",
       "    }\n",
       "</style>\n",
       "<table border=\"1\" class=\"dataframe\">\n",
       "  <thead>\n",
       "    <tr style=\"text-align: right;\">\n",
       "      <th></th>\n",
       "      <th>meses</th>\n",
       "      <th>valores</th>\n",
       "      <th>n</th>\n",
       "    </tr>\n",
       "  </thead>\n",
       "  <tbody>\n",
       "    <tr>\n",
       "      <th>0</th>\n",
       "      <td>6</td>\n",
       "      <td>R$58.136,22</td>\n",
       "      <td>43</td>\n",
       "    </tr>\n",
       "    <tr>\n",
       "      <th>1</th>\n",
       "      <td>7</td>\n",
       "      <td>R$73.274,51</td>\n",
       "      <td>43</td>\n",
       "    </tr>\n",
       "    <tr>\n",
       "      <th>2</th>\n",
       "      <td>8</td>\n",
       "      <td>R$74.271,44</td>\n",
       "      <td>40</td>\n",
       "    </tr>\n",
       "    <tr>\n",
       "      <th>3</th>\n",
       "      <td>9</td>\n",
       "      <td>R$64.923,11</td>\n",
       "      <td>33</td>\n",
       "    </tr>\n",
       "    <tr>\n",
       "      <th>4</th>\n",
       "      <td>10</td>\n",
       "      <td>R$55.771,65</td>\n",
       "      <td>33</td>\n",
       "    </tr>\n",
       "  </tbody>\n",
       "</table>\n",
       "</div>"
      ],
      "text/plain": [
       "   meses      valores   n\n",
       "0      6  R$58.136,22  43\n",
       "1      7  R$73.274,51  43\n",
       "2      8  R$74.271,44  40\n",
       "3      9  R$64.923,11  33\n",
       "4     10  R$55.771,65  33"
      ]
     },
     "execution_count": 5,
     "metadata": {},
     "output_type": "execute_result"
    }
   ],
   "source": [
    "despesas"
   ]
  },
  {
   "cell_type": "markdown",
   "id": "b6f1d7c9-9126-4157-b159-6200b5f5f05b",
   "metadata": {
    "tags": []
   },
   "source": [
    "Definindo uma função capaz de converter a bagunça de uma planilha de excel em um csv palatável..."
   ]
  },
  {
   "cell_type": "code",
   "execution_count": 6,
   "id": "d3e93a98-a3a6-4a8a-8a14-7c7babb686a5",
   "metadata": {
    "tags": []
   },
   "outputs": [],
   "source": [
    "# retirar o R$, tirar o ponto do número, trocar ',' por '.' nos números e retirar espaços\n",
    "def converter_moeda(entrada):\n",
    "    saida = (\n",
    "        entrada.replace('R$', '')\n",
    "        .replace('.','')\n",
    "        .replace(',','.')\n",
    "        .replace(' ','')\n",
    "    )\n",
    "    return float(saida)\n",
    "        "
   ]
  },
  {
   "cell_type": "markdown",
   "id": "077be2ab-17b2-426d-b888-f32be1cef59d",
   "metadata": {},
   "source": [
    "Usando a função e olhando os arquivos de receita e despesas outra vez."
   ]
  },
  {
   "cell_type": "code",
   "execution_count": 7,
   "id": "33b0ba04-fc7e-4961-ba81-d01e4ce4ac79",
   "metadata": {
    "tags": []
   },
   "outputs": [
    {
     "data": {
      "text/html": [
       "<div>\n",
       "<style scoped>\n",
       "    .dataframe tbody tr th:only-of-type {\n",
       "        vertical-align: middle;\n",
       "    }\n",
       "\n",
       "    .dataframe tbody tr th {\n",
       "        vertical-align: top;\n",
       "    }\n",
       "\n",
       "    .dataframe thead th {\n",
       "        text-align: right;\n",
       "    }\n",
       "</style>\n",
       "<table border=\"1\" class=\"dataframe\">\n",
       "  <thead>\n",
       "    <tr style=\"text-align: right;\">\n",
       "      <th></th>\n",
       "      <th>meses</th>\n",
       "      <th>valores</th>\n",
       "      <th>n</th>\n",
       "    </tr>\n",
       "  </thead>\n",
       "  <tbody>\n",
       "    <tr>\n",
       "      <th>0</th>\n",
       "      <td>6</td>\n",
       "      <td>62409.18</td>\n",
       "      <td>43</td>\n",
       "    </tr>\n",
       "    <tr>\n",
       "      <th>1</th>\n",
       "      <td>7</td>\n",
       "      <td>62409.18</td>\n",
       "      <td>43</td>\n",
       "    </tr>\n",
       "    <tr>\n",
       "      <th>2</th>\n",
       "      <td>8</td>\n",
       "      <td>57728.49</td>\n",
       "      <td>40</td>\n",
       "    </tr>\n",
       "    <tr>\n",
       "      <th>3</th>\n",
       "      <td>9</td>\n",
       "      <td>40786.87</td>\n",
       "      <td>33</td>\n",
       "    </tr>\n",
       "    <tr>\n",
       "      <th>4</th>\n",
       "      <td>10</td>\n",
       "      <td>40786.87</td>\n",
       "      <td>33</td>\n",
       "    </tr>\n",
       "  </tbody>\n",
       "</table>\n",
       "</div>"
      ],
      "text/plain": [
       "   meses   valores   n\n",
       "0      6  62409.18  43\n",
       "1      7  62409.18  43\n",
       "2      8  57728.49  40\n",
       "3      9  40786.87  33\n",
       "4     10  40786.87  33"
      ]
     },
     "execution_count": 7,
     "metadata": {},
     "output_type": "execute_result"
    }
   ],
   "source": [
    "receitas['valores'] = receitas['valores'].map(converter_moeda)\n",
    "receitas"
   ]
  },
  {
   "cell_type": "code",
   "execution_count": 8,
   "id": "4cacfc24-a0d9-4ce6-bdbb-87b78753c5c2",
   "metadata": {
    "tags": []
   },
   "outputs": [
    {
     "data": {
      "text/html": [
       "<div>\n",
       "<style scoped>\n",
       "    .dataframe tbody tr th:only-of-type {\n",
       "        vertical-align: middle;\n",
       "    }\n",
       "\n",
       "    .dataframe tbody tr th {\n",
       "        vertical-align: top;\n",
       "    }\n",
       "\n",
       "    .dataframe thead th {\n",
       "        text-align: right;\n",
       "    }\n",
       "</style>\n",
       "<table border=\"1\" class=\"dataframe\">\n",
       "  <thead>\n",
       "    <tr style=\"text-align: right;\">\n",
       "      <th></th>\n",
       "      <th>meses</th>\n",
       "      <th>valores</th>\n",
       "      <th>n</th>\n",
       "    </tr>\n",
       "  </thead>\n",
       "  <tbody>\n",
       "    <tr>\n",
       "      <th>0</th>\n",
       "      <td>6</td>\n",
       "      <td>58136.22</td>\n",
       "      <td>43</td>\n",
       "    </tr>\n",
       "    <tr>\n",
       "      <th>1</th>\n",
       "      <td>7</td>\n",
       "      <td>73274.51</td>\n",
       "      <td>43</td>\n",
       "    </tr>\n",
       "    <tr>\n",
       "      <th>2</th>\n",
       "      <td>8</td>\n",
       "      <td>74271.44</td>\n",
       "      <td>40</td>\n",
       "    </tr>\n",
       "    <tr>\n",
       "      <th>3</th>\n",
       "      <td>9</td>\n",
       "      <td>64923.11</td>\n",
       "      <td>33</td>\n",
       "    </tr>\n",
       "    <tr>\n",
       "      <th>4</th>\n",
       "      <td>10</td>\n",
       "      <td>55771.65</td>\n",
       "      <td>33</td>\n",
       "    </tr>\n",
       "  </tbody>\n",
       "</table>\n",
       "</div>"
      ],
      "text/plain": [
       "   meses   valores   n\n",
       "0      6  58136.22  43\n",
       "1      7  73274.51  43\n",
       "2      8  74271.44  40\n",
       "3      9  64923.11  33\n",
       "4     10  55771.65  33"
      ]
     },
     "execution_count": 8,
     "metadata": {},
     "output_type": "execute_result"
    }
   ],
   "source": [
    "despesas['valores'] = despesas['valores'].map(converter_moeda)\n",
    "despesas"
   ]
  },
  {
   "cell_type": "markdown",
   "id": "e66019d9-c922-46fc-841f-d97fe8a60705",
   "metadata": {
    "tags": []
   },
   "source": [
    "## Análise dos dados\n",
    "\n",
    "Nos dados de despesas já está incluído o pró-labore do sócio. O motivo de decidirmos não separar é que as despesas da escola e pessoais estavam misturadas em uma mesma conta. Muitos gastos, principalmente com alimentação não puderam ser identificados como pessoais ou da escola. Para não prejudicar a análise inicial, o pro-labore retirado também foi contabilizado como despesa da escola.\n",
    "\n",
    "### Saldo mensal"
   ]
  },
  {
   "cell_type": "markdown",
   "id": "6a2c168c-38af-472f-b103-c44b5541e671",
   "metadata": {},
   "source": [
    "Para começar a análise, vamos calcular o saldo mensal e incluir no data frame. O saldo é dado pela diferença entre receita e despesa mês a mês."
   ]
  },
  {
   "cell_type": "code",
   "execution_count": 9,
   "id": "3efcb5ae-1e47-4721-96e9-ba1402a0cf7c",
   "metadata": {
    "tags": []
   },
   "outputs": [],
   "source": [
    "saldo = receitas.copy()\n",
    "saldo.columns = ['meses', 'receitas', 'n']\n",
    "saldo['despesas'] = despesas['valores']\n",
    "saldo['saldo'] = saldo['receitas']-saldo['despesas']"
   ]
  },
  {
   "cell_type": "markdown",
   "id": "a9d980af-6fd0-4737-adcc-ef1debf2ba13",
   "metadata": {},
   "source": [
    "Olhando o saldo dos cinco meses estudados:"
   ]
  },
  {
   "cell_type": "code",
   "execution_count": 10,
   "id": "cb85ac71-4ee5-4c00-a1be-22336b81e3f5",
   "metadata": {
    "tags": []
   },
   "outputs": [
    {
     "data": {
      "text/html": [
       "<div>\n",
       "<style scoped>\n",
       "    .dataframe tbody tr th:only-of-type {\n",
       "        vertical-align: middle;\n",
       "    }\n",
       "\n",
       "    .dataframe tbody tr th {\n",
       "        vertical-align: top;\n",
       "    }\n",
       "\n",
       "    .dataframe thead th {\n",
       "        text-align: right;\n",
       "    }\n",
       "</style>\n",
       "<table border=\"1\" class=\"dataframe\">\n",
       "  <thead>\n",
       "    <tr style=\"text-align: right;\">\n",
       "      <th></th>\n",
       "      <th>meses</th>\n",
       "      <th>receitas</th>\n",
       "      <th>n</th>\n",
       "      <th>despesas</th>\n",
       "      <th>saldo</th>\n",
       "    </tr>\n",
       "  </thead>\n",
       "  <tbody>\n",
       "    <tr>\n",
       "      <th>0</th>\n",
       "      <td>6</td>\n",
       "      <td>62409.18</td>\n",
       "      <td>43</td>\n",
       "      <td>58136.22</td>\n",
       "      <td>4272.96</td>\n",
       "    </tr>\n",
       "    <tr>\n",
       "      <th>1</th>\n",
       "      <td>7</td>\n",
       "      <td>62409.18</td>\n",
       "      <td>43</td>\n",
       "      <td>73274.51</td>\n",
       "      <td>-10865.33</td>\n",
       "    </tr>\n",
       "    <tr>\n",
       "      <th>2</th>\n",
       "      <td>8</td>\n",
       "      <td>57728.49</td>\n",
       "      <td>40</td>\n",
       "      <td>74271.44</td>\n",
       "      <td>-16542.95</td>\n",
       "    </tr>\n",
       "    <tr>\n",
       "      <th>3</th>\n",
       "      <td>9</td>\n",
       "      <td>40786.87</td>\n",
       "      <td>33</td>\n",
       "      <td>64923.11</td>\n",
       "      <td>-24136.24</td>\n",
       "    </tr>\n",
       "    <tr>\n",
       "      <th>4</th>\n",
       "      <td>10</td>\n",
       "      <td>40786.87</td>\n",
       "      <td>33</td>\n",
       "      <td>55771.65</td>\n",
       "      <td>-14984.78</td>\n",
       "    </tr>\n",
       "  </tbody>\n",
       "</table>\n",
       "</div>"
      ],
      "text/plain": [
       "   meses  receitas   n  despesas     saldo\n",
       "0      6  62409.18  43  58136.22   4272.96\n",
       "1      7  62409.18  43  73274.51 -10865.33\n",
       "2      8  57728.49  40  74271.44 -16542.95\n",
       "3      9  40786.87  33  64923.11 -24136.24\n",
       "4     10  40786.87  33  55771.65 -14984.78"
      ]
     },
     "execution_count": 10,
     "metadata": {},
     "output_type": "execute_result"
    }
   ],
   "source": [
    "saldo"
   ]
  },
  {
   "cell_type": "markdown",
   "id": "abcd42df-2ea3-46b2-9395-af7e2027af0e",
   "metadata": {},
   "source": [
    "Vemos que a escola obteve lucro no primeiro mês e prejuízo nos demais. As despesas já contém a retirada de pró-labore do dono. \n",
    "\n",
    "Vamos calcular o **prejuízo acumulado** somente dos meses que fecharam negativo."
   ]
  },
  {
   "cell_type": "code",
   "execution_count": 11,
   "id": "91d418d7-2aa7-45da-b6e2-a3eaf47704b1",
   "metadata": {
    "tags": []
   },
   "outputs": [
    {
     "data": {
      "text/plain": [
       "-66529.29999999999"
      ]
     },
     "execution_count": 11,
     "metadata": {},
     "output_type": "execute_result"
    }
   ],
   "source": [
    "saldo[saldo['saldo']<0]['saldo'].sum()"
   ]
  },
  {
   "cell_type": "markdown",
   "id": "56b9a9b4-aafc-4e2d-8062-6d9bb752952b",
   "metadata": {
    "tags": []
   },
   "source": [
    "Cálculo do **prejuízo acumulado** de todos os meses estudados."
   ]
  },
  {
   "cell_type": "code",
   "execution_count": 12,
   "id": "cc3f8373-e165-430b-8488-7d68f64892a9",
   "metadata": {
    "tags": []
   },
   "outputs": [
    {
     "data": {
      "text/plain": [
       "-62256.34"
      ]
     },
     "execution_count": 12,
     "metadata": {},
     "output_type": "execute_result"
    }
   ],
   "source": [
    "saldo['saldo'].sum()"
   ]
  },
  {
   "cell_type": "markdown",
   "id": "715628fb-ec6f-4d69-9955-26a8f511a868",
   "metadata": {},
   "source": [
    "### Receitas\n",
    "\n",
    "A única fonte de receita da escola são as mensalidades. A secretaria da escola não mantinha os dados devidamente organizados até então, por isso, escolhemos um mês que tinham dados mais confiáveis sobre os pagamentos efetuados por cada aluno. Como a mensalidade varia com o número de horas na escola, a planilha contem as duas informações, número de horas e valor pago.\n",
    "\n",
    "Lendo planilha com número de horas e mensalidades pagas em agosto de 2023."
   ]
  },
  {
   "cell_type": "code",
   "execution_count": 13,
   "id": "fd3d992b-8bd1-496b-a956-cf79df585e51",
   "metadata": {
    "tags": []
   },
   "outputs": [
    {
     "data": {
      "text/html": [
       "<div>\n",
       "<style scoped>\n",
       "    .dataframe tbody tr th:only-of-type {\n",
       "        vertical-align: middle;\n",
       "    }\n",
       "\n",
       "    .dataframe tbody tr th {\n",
       "        vertical-align: top;\n",
       "    }\n",
       "\n",
       "    .dataframe thead th {\n",
       "        text-align: right;\n",
       "    }\n",
       "</style>\n",
       "<table border=\"1\" class=\"dataframe\">\n",
       "  <thead>\n",
       "    <tr style=\"text-align: right;\">\n",
       "      <th></th>\n",
       "      <th>horas</th>\n",
       "      <th>valor</th>\n",
       "    </tr>\n",
       "  </thead>\n",
       "  <tbody>\n",
       "    <tr>\n",
       "      <th>0</th>\n",
       "      <td>4</td>\n",
       "      <td>1.130,37</td>\n",
       "    </tr>\n",
       "    <tr>\n",
       "      <th>1</th>\n",
       "      <td>4</td>\n",
       "      <td>964,3248503</td>\n",
       "    </tr>\n",
       "    <tr>\n",
       "      <th>2</th>\n",
       "      <td>4</td>\n",
       "      <td>964,885101</td>\n",
       "    </tr>\n",
       "    <tr>\n",
       "      <th>3</th>\n",
       "      <td>4</td>\n",
       "      <td>992,3709998</td>\n",
       "    </tr>\n",
       "    <tr>\n",
       "      <th>4</th>\n",
       "      <td>4</td>\n",
       "      <td>1.173,91</td>\n",
       "    </tr>\n",
       "    <tr>\n",
       "      <th>5</th>\n",
       "      <td>4</td>\n",
       "      <td>1023,957934</td>\n",
       "    </tr>\n",
       "    <tr>\n",
       "      <th>6</th>\n",
       "      <td>4</td>\n",
       "      <td>0</td>\n",
       "    </tr>\n",
       "    <tr>\n",
       "      <th>7</th>\n",
       "      <td>5</td>\n",
       "      <td>1.137,17</td>\n",
       "    </tr>\n",
       "    <tr>\n",
       "      <th>8</th>\n",
       "      <td>6</td>\n",
       "      <td>1.144,53</td>\n",
       "    </tr>\n",
       "    <tr>\n",
       "      <th>9</th>\n",
       "      <td>6</td>\n",
       "      <td>1.115,85</td>\n",
       "    </tr>\n",
       "    <tr>\n",
       "      <th>10</th>\n",
       "      <td>6</td>\n",
       "      <td>0</td>\n",
       "    </tr>\n",
       "    <tr>\n",
       "      <th>11</th>\n",
       "      <td>6</td>\n",
       "      <td>1.530,63</td>\n",
       "    </tr>\n",
       "    <tr>\n",
       "      <th>12</th>\n",
       "      <td>7,5</td>\n",
       "      <td>1.283,60</td>\n",
       "    </tr>\n",
       "    <tr>\n",
       "      <th>13</th>\n",
       "      <td>8</td>\n",
       "      <td>1.613,13</td>\n",
       "    </tr>\n",
       "    <tr>\n",
       "      <th>14</th>\n",
       "      <td>8</td>\n",
       "      <td>1.735</td>\n",
       "    </tr>\n",
       "    <tr>\n",
       "      <th>15</th>\n",
       "      <td>8</td>\n",
       "      <td>1.869,67</td>\n",
       "    </tr>\n",
       "    <tr>\n",
       "      <th>16</th>\n",
       "      <td>8</td>\n",
       "      <td>1.568,16</td>\n",
       "    </tr>\n",
       "    <tr>\n",
       "      <th>17</th>\n",
       "      <td>9</td>\n",
       "      <td>1.734,30</td>\n",
       "    </tr>\n",
       "    <tr>\n",
       "      <th>18</th>\n",
       "      <td>8</td>\n",
       "      <td>1.727,51</td>\n",
       "    </tr>\n",
       "    <tr>\n",
       "      <th>19</th>\n",
       "      <td>10</td>\n",
       "      <td>1.510,15</td>\n",
       "    </tr>\n",
       "    <tr>\n",
       "      <th>20</th>\n",
       "      <td>10</td>\n",
       "      <td>1.842,94</td>\n",
       "    </tr>\n",
       "    <tr>\n",
       "      <th>21</th>\n",
       "      <td>10</td>\n",
       "      <td>0</td>\n",
       "    </tr>\n",
       "    <tr>\n",
       "      <th>22</th>\n",
       "      <td>10</td>\n",
       "      <td>1.732,01</td>\n",
       "    </tr>\n",
       "    <tr>\n",
       "      <th>23</th>\n",
       "      <td>10</td>\n",
       "      <td>1.557,85</td>\n",
       "    </tr>\n",
       "    <tr>\n",
       "      <th>24</th>\n",
       "      <td>10</td>\n",
       "      <td>2.163,41</td>\n",
       "    </tr>\n",
       "    <tr>\n",
       "      <th>25</th>\n",
       "      <td>10</td>\n",
       "      <td>1.782,43</td>\n",
       "    </tr>\n",
       "    <tr>\n",
       "      <th>26</th>\n",
       "      <td>10</td>\n",
       "      <td>1.712,26</td>\n",
       "    </tr>\n",
       "    <tr>\n",
       "      <th>27</th>\n",
       "      <td>10</td>\n",
       "      <td>1.828,16</td>\n",
       "    </tr>\n",
       "    <tr>\n",
       "      <th>28</th>\n",
       "      <td>10</td>\n",
       "      <td>2.163,41</td>\n",
       "    </tr>\n",
       "    <tr>\n",
       "      <th>29</th>\n",
       "      <td>10</td>\n",
       "      <td>1.732,01</td>\n",
       "    </tr>\n",
       "    <tr>\n",
       "      <th>30</th>\n",
       "      <td>10</td>\n",
       "      <td>1.741,12</td>\n",
       "    </tr>\n",
       "    <tr>\n",
       "      <th>31</th>\n",
       "      <td>10</td>\n",
       "      <td>1.732,01</td>\n",
       "    </tr>\n",
       "    <tr>\n",
       "      <th>32</th>\n",
       "      <td>10</td>\n",
       "      <td>1.925,43</td>\n",
       "    </tr>\n",
       "    <tr>\n",
       "      <th>33</th>\n",
       "      <td>10,5</td>\n",
       "      <td>1.624,49</td>\n",
       "    </tr>\n",
       "    <tr>\n",
       "      <th>34</th>\n",
       "      <td>10,5</td>\n",
       "      <td>1.624,49</td>\n",
       "    </tr>\n",
       "    <tr>\n",
       "      <th>35</th>\n",
       "      <td>11</td>\n",
       "      <td>1.834,96</td>\n",
       "    </tr>\n",
       "    <tr>\n",
       "      <th>36</th>\n",
       "      <td>11</td>\n",
       "      <td>1.700</td>\n",
       "    </tr>\n",
       "    <tr>\n",
       "      <th>37</th>\n",
       "      <td>11,5</td>\n",
       "      <td>1.803,85</td>\n",
       "    </tr>\n",
       "    <tr>\n",
       "      <th>38</th>\n",
       "      <td>12</td>\n",
       "      <td>1.634,70</td>\n",
       "    </tr>\n",
       "    <tr>\n",
       "      <th>39</th>\n",
       "      <td>12,5</td>\n",
       "      <td>1.373,66</td>\n",
       "    </tr>\n",
       "  </tbody>\n",
       "</table>\n",
       "</div>"
      ],
      "text/plain": [
       "   horas        valor\n",
       "0      4     1.130,37\n",
       "1      4  964,3248503\n",
       "2      4   964,885101\n",
       "3      4  992,3709998\n",
       "4      4     1.173,91\n",
       "5      4  1023,957934\n",
       "6      4            0\n",
       "7      5     1.137,17\n",
       "8      6     1.144,53\n",
       "9      6     1.115,85\n",
       "10     6            0\n",
       "11     6     1.530,63\n",
       "12   7,5     1.283,60\n",
       "13     8     1.613,13\n",
       "14     8        1.735\n",
       "15     8     1.869,67\n",
       "16     8     1.568,16\n",
       "17     9     1.734,30\n",
       "18     8     1.727,51\n",
       "19    10     1.510,15\n",
       "20    10     1.842,94\n",
       "21    10            0\n",
       "22    10     1.732,01\n",
       "23    10     1.557,85\n",
       "24    10     2.163,41\n",
       "25    10     1.782,43\n",
       "26    10     1.712,26\n",
       "27    10     1.828,16\n",
       "28    10     2.163,41\n",
       "29    10     1.732,01\n",
       "30    10     1.741,12\n",
       "31    10     1.732,01\n",
       "32    10     1.925,43\n",
       "33  10,5     1.624,49\n",
       "34  10,5     1.624,49\n",
       "35    11     1.834,96\n",
       "36    11        1.700\n",
       "37  11,5     1.803,85\n",
       "38    12     1.634,70\n",
       "39  12,5     1.373,66"
      ]
     },
     "execution_count": 13,
     "metadata": {},
     "output_type": "execute_result"
    }
   ],
   "source": [
    "alunos = pd.read_csv(\n",
    "    '../dados/alunos_ago.csv',\n",
    "    sep=\";\"\n",
    ")\n",
    "alunos"
   ]
  },
  {
   "cell_type": "markdown",
   "id": "b53f5038-912d-4758-94ed-97b11078c79a",
   "metadata": {},
   "source": [
    "Vamos usar a função converter_moeda para transformar a planilha em um csv e olhar os dados."
   ]
  },
  {
   "cell_type": "code",
   "execution_count": 14,
   "id": "07d713f8-344e-4ea0-9221-40e50e268f90",
   "metadata": {
    "tags": []
   },
   "outputs": [
    {
     "data": {
      "text/html": [
       "<div>\n",
       "<style scoped>\n",
       "    .dataframe tbody tr th:only-of-type {\n",
       "        vertical-align: middle;\n",
       "    }\n",
       "\n",
       "    .dataframe tbody tr th {\n",
       "        vertical-align: top;\n",
       "    }\n",
       "\n",
       "    .dataframe thead th {\n",
       "        text-align: right;\n",
       "    }\n",
       "</style>\n",
       "<table border=\"1\" class=\"dataframe\">\n",
       "  <thead>\n",
       "    <tr style=\"text-align: right;\">\n",
       "      <th></th>\n",
       "      <th>horas</th>\n",
       "      <th>valor</th>\n",
       "    </tr>\n",
       "  </thead>\n",
       "  <tbody>\n",
       "    <tr>\n",
       "      <th>0</th>\n",
       "      <td>4.0</td>\n",
       "      <td>1130.370000</td>\n",
       "    </tr>\n",
       "    <tr>\n",
       "      <th>1</th>\n",
       "      <td>4.0</td>\n",
       "      <td>964.324850</td>\n",
       "    </tr>\n",
       "    <tr>\n",
       "      <th>2</th>\n",
       "      <td>4.0</td>\n",
       "      <td>964.885101</td>\n",
       "    </tr>\n",
       "    <tr>\n",
       "      <th>3</th>\n",
       "      <td>4.0</td>\n",
       "      <td>992.371000</td>\n",
       "    </tr>\n",
       "    <tr>\n",
       "      <th>4</th>\n",
       "      <td>4.0</td>\n",
       "      <td>1173.910000</td>\n",
       "    </tr>\n",
       "    <tr>\n",
       "      <th>5</th>\n",
       "      <td>4.0</td>\n",
       "      <td>1023.957934</td>\n",
       "    </tr>\n",
       "    <tr>\n",
       "      <th>6</th>\n",
       "      <td>4.0</td>\n",
       "      <td>0.000000</td>\n",
       "    </tr>\n",
       "    <tr>\n",
       "      <th>7</th>\n",
       "      <td>5.0</td>\n",
       "      <td>1137.170000</td>\n",
       "    </tr>\n",
       "    <tr>\n",
       "      <th>8</th>\n",
       "      <td>6.0</td>\n",
       "      <td>1144.530000</td>\n",
       "    </tr>\n",
       "    <tr>\n",
       "      <th>9</th>\n",
       "      <td>6.0</td>\n",
       "      <td>1115.850000</td>\n",
       "    </tr>\n",
       "    <tr>\n",
       "      <th>10</th>\n",
       "      <td>6.0</td>\n",
       "      <td>0.000000</td>\n",
       "    </tr>\n",
       "    <tr>\n",
       "      <th>11</th>\n",
       "      <td>6.0</td>\n",
       "      <td>1530.630000</td>\n",
       "    </tr>\n",
       "    <tr>\n",
       "      <th>12</th>\n",
       "      <td>7.5</td>\n",
       "      <td>1283.600000</td>\n",
       "    </tr>\n",
       "    <tr>\n",
       "      <th>13</th>\n",
       "      <td>8.0</td>\n",
       "      <td>1613.130000</td>\n",
       "    </tr>\n",
       "    <tr>\n",
       "      <th>14</th>\n",
       "      <td>8.0</td>\n",
       "      <td>1735.000000</td>\n",
       "    </tr>\n",
       "    <tr>\n",
       "      <th>15</th>\n",
       "      <td>8.0</td>\n",
       "      <td>1869.670000</td>\n",
       "    </tr>\n",
       "    <tr>\n",
       "      <th>16</th>\n",
       "      <td>8.0</td>\n",
       "      <td>1568.160000</td>\n",
       "    </tr>\n",
       "    <tr>\n",
       "      <th>17</th>\n",
       "      <td>9.0</td>\n",
       "      <td>1734.300000</td>\n",
       "    </tr>\n",
       "    <tr>\n",
       "      <th>18</th>\n",
       "      <td>8.0</td>\n",
       "      <td>1727.510000</td>\n",
       "    </tr>\n",
       "    <tr>\n",
       "      <th>19</th>\n",
       "      <td>10.0</td>\n",
       "      <td>1510.150000</td>\n",
       "    </tr>\n",
       "    <tr>\n",
       "      <th>20</th>\n",
       "      <td>10.0</td>\n",
       "      <td>1842.940000</td>\n",
       "    </tr>\n",
       "    <tr>\n",
       "      <th>21</th>\n",
       "      <td>10.0</td>\n",
       "      <td>0.000000</td>\n",
       "    </tr>\n",
       "    <tr>\n",
       "      <th>22</th>\n",
       "      <td>10.0</td>\n",
       "      <td>1732.010000</td>\n",
       "    </tr>\n",
       "    <tr>\n",
       "      <th>23</th>\n",
       "      <td>10.0</td>\n",
       "      <td>1557.850000</td>\n",
       "    </tr>\n",
       "    <tr>\n",
       "      <th>24</th>\n",
       "      <td>10.0</td>\n",
       "      <td>2163.410000</td>\n",
       "    </tr>\n",
       "    <tr>\n",
       "      <th>25</th>\n",
       "      <td>10.0</td>\n",
       "      <td>1782.430000</td>\n",
       "    </tr>\n",
       "    <tr>\n",
       "      <th>26</th>\n",
       "      <td>10.0</td>\n",
       "      <td>1712.260000</td>\n",
       "    </tr>\n",
       "    <tr>\n",
       "      <th>27</th>\n",
       "      <td>10.0</td>\n",
       "      <td>1828.160000</td>\n",
       "    </tr>\n",
       "    <tr>\n",
       "      <th>28</th>\n",
       "      <td>10.0</td>\n",
       "      <td>2163.410000</td>\n",
       "    </tr>\n",
       "    <tr>\n",
       "      <th>29</th>\n",
       "      <td>10.0</td>\n",
       "      <td>1732.010000</td>\n",
       "    </tr>\n",
       "    <tr>\n",
       "      <th>30</th>\n",
       "      <td>10.0</td>\n",
       "      <td>1741.120000</td>\n",
       "    </tr>\n",
       "    <tr>\n",
       "      <th>31</th>\n",
       "      <td>10.0</td>\n",
       "      <td>1732.010000</td>\n",
       "    </tr>\n",
       "    <tr>\n",
       "      <th>32</th>\n",
       "      <td>10.0</td>\n",
       "      <td>1925.430000</td>\n",
       "    </tr>\n",
       "    <tr>\n",
       "      <th>33</th>\n",
       "      <td>10.5</td>\n",
       "      <td>1624.490000</td>\n",
       "    </tr>\n",
       "    <tr>\n",
       "      <th>34</th>\n",
       "      <td>10.5</td>\n",
       "      <td>1624.490000</td>\n",
       "    </tr>\n",
       "    <tr>\n",
       "      <th>35</th>\n",
       "      <td>11.0</td>\n",
       "      <td>1834.960000</td>\n",
       "    </tr>\n",
       "    <tr>\n",
       "      <th>36</th>\n",
       "      <td>11.0</td>\n",
       "      <td>1700.000000</td>\n",
       "    </tr>\n",
       "    <tr>\n",
       "      <th>37</th>\n",
       "      <td>11.5</td>\n",
       "      <td>1803.850000</td>\n",
       "    </tr>\n",
       "    <tr>\n",
       "      <th>38</th>\n",
       "      <td>12.0</td>\n",
       "      <td>1634.700000</td>\n",
       "    </tr>\n",
       "    <tr>\n",
       "      <th>39</th>\n",
       "      <td>12.5</td>\n",
       "      <td>1373.660000</td>\n",
       "    </tr>\n",
       "  </tbody>\n",
       "</table>\n",
       "</div>"
      ],
      "text/plain": [
       "    horas        valor\n",
       "0     4.0  1130.370000\n",
       "1     4.0   964.324850\n",
       "2     4.0   964.885101\n",
       "3     4.0   992.371000\n",
       "4     4.0  1173.910000\n",
       "5     4.0  1023.957934\n",
       "6     4.0     0.000000\n",
       "7     5.0  1137.170000\n",
       "8     6.0  1144.530000\n",
       "9     6.0  1115.850000\n",
       "10    6.0     0.000000\n",
       "11    6.0  1530.630000\n",
       "12    7.5  1283.600000\n",
       "13    8.0  1613.130000\n",
       "14    8.0  1735.000000\n",
       "15    8.0  1869.670000\n",
       "16    8.0  1568.160000\n",
       "17    9.0  1734.300000\n",
       "18    8.0  1727.510000\n",
       "19   10.0  1510.150000\n",
       "20   10.0  1842.940000\n",
       "21   10.0     0.000000\n",
       "22   10.0  1732.010000\n",
       "23   10.0  1557.850000\n",
       "24   10.0  2163.410000\n",
       "25   10.0  1782.430000\n",
       "26   10.0  1712.260000\n",
       "27   10.0  1828.160000\n",
       "28   10.0  2163.410000\n",
       "29   10.0  1732.010000\n",
       "30   10.0  1741.120000\n",
       "31   10.0  1732.010000\n",
       "32   10.0  1925.430000\n",
       "33   10.5  1624.490000\n",
       "34   10.5  1624.490000\n",
       "35   11.0  1834.960000\n",
       "36   11.0  1700.000000\n",
       "37   11.5  1803.850000\n",
       "38   12.0  1634.700000\n",
       "39   12.5  1373.660000"
      ]
     },
     "execution_count": 14,
     "metadata": {},
     "output_type": "execute_result"
    }
   ],
   "source": [
    "alunos['horas'] = alunos['horas'].map(converter_moeda)\n",
    "alunos['valor'] = alunos['valor'].map(converter_moeda)\n",
    "alunos"
   ]
  },
  {
   "cell_type": "markdown",
   "id": "dc85a3eb-5db8-4521-8ed7-0d99741d4bb1",
   "metadata": {},
   "source": [
    "Vemos que alguns alunos não pagam mensalidades. Identificamos os alunos como bolsistas filhos de funcionários.\n",
    "\n",
    "Percebemos nos dados uma discrepância entre os valores para um mesmo número de horas. Por isso, vamos olhar o arquivo com as mensalidades tabeladas pelo número de horas.\n",
    "\n",
    "Lendo planilha do plano de mensalidades tabeladas para 2023 e organizando em um csv."
   ]
  },
  {
   "cell_type": "code",
   "execution_count": 15,
   "id": "2621d043-5c60-429c-bbe9-7cae1b21d3f2",
   "metadata": {
    "tags": []
   },
   "outputs": [
    {
     "data": {
      "text/plain": [
       "horas       int64\n",
       "valores    object\n",
       "dtype: object"
      ]
     },
     "execution_count": 15,
     "metadata": {},
     "output_type": "execute_result"
    }
   ],
   "source": [
    "plano = pd.read_csv('../dados/plano_mensalidades_2023.csv',\n",
    "                   sep=';')\n",
    "plano.dtypes"
   ]
  },
  {
   "cell_type": "code",
   "execution_count": 16,
   "id": "91decd67-84e4-4c9a-9e88-271744e0e025",
   "metadata": {
    "tags": []
   },
   "outputs": [
    {
     "data": {
      "text/html": [
       "<div>\n",
       "<style scoped>\n",
       "    .dataframe tbody tr th:only-of-type {\n",
       "        vertical-align: middle;\n",
       "    }\n",
       "\n",
       "    .dataframe tbody tr th {\n",
       "        vertical-align: top;\n",
       "    }\n",
       "\n",
       "    .dataframe thead th {\n",
       "        text-align: right;\n",
       "    }\n",
       "</style>\n",
       "<table border=\"1\" class=\"dataframe\">\n",
       "  <thead>\n",
       "    <tr style=\"text-align: right;\">\n",
       "      <th></th>\n",
       "      <th>horas</th>\n",
       "      <th>valores</th>\n",
       "    </tr>\n",
       "  </thead>\n",
       "  <tbody>\n",
       "    <tr>\n",
       "      <th>0</th>\n",
       "      <td>4</td>\n",
       "      <td>R$ 1.339,58</td>\n",
       "    </tr>\n",
       "    <tr>\n",
       "      <th>1</th>\n",
       "      <td>6</td>\n",
       "      <td>R$ 1.666,43</td>\n",
       "    </tr>\n",
       "    <tr>\n",
       "      <th>2</th>\n",
       "      <td>8</td>\n",
       "      <td>R$ 1.874,48</td>\n",
       "    </tr>\n",
       "    <tr>\n",
       "      <th>3</th>\n",
       "      <td>10</td>\n",
       "      <td>R$ 2.314,47</td>\n",
       "    </tr>\n",
       "    <tr>\n",
       "      <th>4</th>\n",
       "      <td>12</td>\n",
       "      <td>R$ 2.684,79</td>\n",
       "    </tr>\n",
       "  </tbody>\n",
       "</table>\n",
       "</div>"
      ],
      "text/plain": [
       "   horas        valores\n",
       "0      4   R$ 1.339,58 \n",
       "1      6   R$ 1.666,43 \n",
       "2      8   R$ 1.874,48 \n",
       "3     10   R$ 2.314,47 \n",
       "4     12   R$ 2.684,79 "
      ]
     },
     "execution_count": 16,
     "metadata": {},
     "output_type": "execute_result"
    }
   ],
   "source": [
    "plano"
   ]
  },
  {
   "cell_type": "code",
   "execution_count": 17,
   "id": "5d60a2c8-8a42-457e-aab5-85259b17f160",
   "metadata": {
    "tags": []
   },
   "outputs": [
    {
     "data": {
      "text/html": [
       "<div>\n",
       "<style scoped>\n",
       "    .dataframe tbody tr th:only-of-type {\n",
       "        vertical-align: middle;\n",
       "    }\n",
       "\n",
       "    .dataframe tbody tr th {\n",
       "        vertical-align: top;\n",
       "    }\n",
       "\n",
       "    .dataframe thead th {\n",
       "        text-align: right;\n",
       "    }\n",
       "</style>\n",
       "<table border=\"1\" class=\"dataframe\">\n",
       "  <thead>\n",
       "    <tr style=\"text-align: right;\">\n",
       "      <th></th>\n",
       "      <th>horas</th>\n",
       "      <th>valores</th>\n",
       "    </tr>\n",
       "  </thead>\n",
       "  <tbody>\n",
       "    <tr>\n",
       "      <th>0</th>\n",
       "      <td>4</td>\n",
       "      <td>1339.58</td>\n",
       "    </tr>\n",
       "    <tr>\n",
       "      <th>1</th>\n",
       "      <td>6</td>\n",
       "      <td>1666.43</td>\n",
       "    </tr>\n",
       "    <tr>\n",
       "      <th>2</th>\n",
       "      <td>8</td>\n",
       "      <td>1874.48</td>\n",
       "    </tr>\n",
       "    <tr>\n",
       "      <th>3</th>\n",
       "      <td>10</td>\n",
       "      <td>2314.47</td>\n",
       "    </tr>\n",
       "    <tr>\n",
       "      <th>4</th>\n",
       "      <td>12</td>\n",
       "      <td>2684.79</td>\n",
       "    </tr>\n",
       "  </tbody>\n",
       "</table>\n",
       "</div>"
      ],
      "text/plain": [
       "   horas  valores\n",
       "0      4  1339.58\n",
       "1      6  1666.43\n",
       "2      8  1874.48\n",
       "3     10  2314.47\n",
       "4     12  2684.79"
      ]
     },
     "execution_count": 17,
     "metadata": {},
     "output_type": "execute_result"
    }
   ],
   "source": [
    "plano['valores'] = plano['valores'].map(converter_moeda)\n",
    "plano"
   ]
  },
  {
   "cell_type": "code",
   "execution_count": 18,
   "id": "62836cc7-671d-4825-b2d7-d8d61cf9d176",
   "metadata": {
    "tags": []
   },
   "outputs": [
    {
     "data": {
      "text/html": [
       "<div>\n",
       "<style scoped>\n",
       "    .dataframe tbody tr th:only-of-type {\n",
       "        vertical-align: middle;\n",
       "    }\n",
       "\n",
       "    .dataframe tbody tr th {\n",
       "        vertical-align: top;\n",
       "    }\n",
       "\n",
       "    .dataframe thead th {\n",
       "        text-align: right;\n",
       "    }\n",
       "</style>\n",
       "<table border=\"1\" class=\"dataframe\">\n",
       "  <thead>\n",
       "    <tr style=\"text-align: right;\">\n",
       "      <th></th>\n",
       "      <th>horas</th>\n",
       "      <th>valores_tabelados</th>\n",
       "    </tr>\n",
       "  </thead>\n",
       "  <tbody>\n",
       "    <tr>\n",
       "      <th>0</th>\n",
       "      <td>4</td>\n",
       "      <td>1339.58</td>\n",
       "    </tr>\n",
       "    <tr>\n",
       "      <th>1</th>\n",
       "      <td>6</td>\n",
       "      <td>1666.43</td>\n",
       "    </tr>\n",
       "    <tr>\n",
       "      <th>2</th>\n",
       "      <td>8</td>\n",
       "      <td>1874.48</td>\n",
       "    </tr>\n",
       "    <tr>\n",
       "      <th>3</th>\n",
       "      <td>10</td>\n",
       "      <td>2314.47</td>\n",
       "    </tr>\n",
       "    <tr>\n",
       "      <th>4</th>\n",
       "      <td>12</td>\n",
       "      <td>2684.79</td>\n",
       "    </tr>\n",
       "  </tbody>\n",
       "</table>\n",
       "</div>"
      ],
      "text/plain": [
       "   horas  valores_tabelados\n",
       "0      4            1339.58\n",
       "1      6            1666.43\n",
       "2      8            1874.48\n",
       "3     10            2314.47\n",
       "4     12            2684.79"
      ]
     },
     "execution_count": 18,
     "metadata": {},
     "output_type": "execute_result"
    }
   ],
   "source": [
    "plano.rename(columns={'valores': \"valores_tabelados\"})"
   ]
  },
  {
   "cell_type": "code",
   "execution_count": 19,
   "id": "85e4ef9c-8990-4cd5-93ce-46d80b010f20",
   "metadata": {
    "tags": []
   },
   "outputs": [
    {
     "data": {
      "text/plain": [
       "horas      float64\n",
       "valores    float64\n",
       "dtype: object"
      ]
     },
     "execution_count": 19,
     "metadata": {},
     "output_type": "execute_result"
    }
   ],
   "source": [
    "plano['horas'] = plano['horas'].astype(float)\n",
    "plano.dtypes"
   ]
  },
  {
   "cell_type": "markdown",
   "id": "76aa8e8f-6300-413c-a33d-4d2aef056fc2",
   "metadata": {},
   "source": [
    "Para entender caso a caso a discrepância de mensalidades, vamos criar um data frame chamado **comp** para comparação entre mensalidades pagas por cada aluno e tabeladas em função do número de horas."
   ]
  },
  {
   "cell_type": "code",
   "execution_count": 20,
   "id": "eb475cb5-8f4f-40fa-8856-406baf6912b1",
   "metadata": {
    "tags": []
   },
   "outputs": [],
   "source": [
    "comp = alunos.merge(plano, left_on='horas', right_on='horas', how='left')"
   ]
  },
  {
   "cell_type": "code",
   "execution_count": 21,
   "id": "5b8e03be-e8d3-460e-a41a-6aad406ebd9c",
   "metadata": {
    "tags": []
   },
   "outputs": [],
   "source": [
    "comp = comp.set_index('horas')"
   ]
  },
  {
   "cell_type": "code",
   "execution_count": 22,
   "id": "b767fc31-c822-4492-b2d9-9d2045f3c619",
   "metadata": {
    "tags": []
   },
   "outputs": [],
   "source": [
    "comp = comp.interpolate(method='index')"
   ]
  },
  {
   "cell_type": "code",
   "execution_count": 23,
   "id": "6e79a6d6-5cba-435e-a60f-397f040d635f",
   "metadata": {
    "tags": []
   },
   "outputs": [
    {
     "data": {
      "text/html": [
       "<div>\n",
       "<style scoped>\n",
       "    .dataframe tbody tr th:only-of-type {\n",
       "        vertical-align: middle;\n",
       "    }\n",
       "\n",
       "    .dataframe tbody tr th {\n",
       "        vertical-align: top;\n",
       "    }\n",
       "\n",
       "    .dataframe thead th {\n",
       "        text-align: right;\n",
       "    }\n",
       "</style>\n",
       "<table border=\"1\" class=\"dataframe\">\n",
       "  <thead>\n",
       "    <tr style=\"text-align: right;\">\n",
       "      <th></th>\n",
       "      <th>valor</th>\n",
       "      <th>valores</th>\n",
       "    </tr>\n",
       "    <tr>\n",
       "      <th>horas</th>\n",
       "      <th></th>\n",
       "      <th></th>\n",
       "    </tr>\n",
       "  </thead>\n",
       "  <tbody>\n",
       "    <tr>\n",
       "      <th>4.0</th>\n",
       "      <td>1130.370000</td>\n",
       "      <td>1339.5800</td>\n",
       "    </tr>\n",
       "    <tr>\n",
       "      <th>4.0</th>\n",
       "      <td>964.324850</td>\n",
       "      <td>1339.5800</td>\n",
       "    </tr>\n",
       "    <tr>\n",
       "      <th>4.0</th>\n",
       "      <td>964.885101</td>\n",
       "      <td>1339.5800</td>\n",
       "    </tr>\n",
       "    <tr>\n",
       "      <th>4.0</th>\n",
       "      <td>992.371000</td>\n",
       "      <td>1339.5800</td>\n",
       "    </tr>\n",
       "    <tr>\n",
       "      <th>4.0</th>\n",
       "      <td>1173.910000</td>\n",
       "      <td>1339.5800</td>\n",
       "    </tr>\n",
       "    <tr>\n",
       "      <th>4.0</th>\n",
       "      <td>1023.957934</td>\n",
       "      <td>1339.5800</td>\n",
       "    </tr>\n",
       "    <tr>\n",
       "      <th>4.0</th>\n",
       "      <td>0.000000</td>\n",
       "      <td>1339.5800</td>\n",
       "    </tr>\n",
       "    <tr>\n",
       "      <th>5.0</th>\n",
       "      <td>1137.170000</td>\n",
       "      <td>1503.0050</td>\n",
       "    </tr>\n",
       "    <tr>\n",
       "      <th>6.0</th>\n",
       "      <td>1144.530000</td>\n",
       "      <td>1666.4300</td>\n",
       "    </tr>\n",
       "    <tr>\n",
       "      <th>6.0</th>\n",
       "      <td>1115.850000</td>\n",
       "      <td>1666.4300</td>\n",
       "    </tr>\n",
       "    <tr>\n",
       "      <th>6.0</th>\n",
       "      <td>0.000000</td>\n",
       "      <td>1666.4300</td>\n",
       "    </tr>\n",
       "    <tr>\n",
       "      <th>6.0</th>\n",
       "      <td>1530.630000</td>\n",
       "      <td>1666.4300</td>\n",
       "    </tr>\n",
       "    <tr>\n",
       "      <th>7.5</th>\n",
       "      <td>1283.600000</td>\n",
       "      <td>1822.4675</td>\n",
       "    </tr>\n",
       "    <tr>\n",
       "      <th>8.0</th>\n",
       "      <td>1613.130000</td>\n",
       "      <td>1874.4800</td>\n",
       "    </tr>\n",
       "    <tr>\n",
       "      <th>8.0</th>\n",
       "      <td>1735.000000</td>\n",
       "      <td>1874.4800</td>\n",
       "    </tr>\n",
       "    <tr>\n",
       "      <th>8.0</th>\n",
       "      <td>1869.670000</td>\n",
       "      <td>1874.4800</td>\n",
       "    </tr>\n",
       "    <tr>\n",
       "      <th>8.0</th>\n",
       "      <td>1568.160000</td>\n",
       "      <td>1874.4800</td>\n",
       "    </tr>\n",
       "    <tr>\n",
       "      <th>9.0</th>\n",
       "      <td>1734.300000</td>\n",
       "      <td>2094.4750</td>\n",
       "    </tr>\n",
       "    <tr>\n",
       "      <th>8.0</th>\n",
       "      <td>1727.510000</td>\n",
       "      <td>1874.4800</td>\n",
       "    </tr>\n",
       "    <tr>\n",
       "      <th>10.0</th>\n",
       "      <td>1510.150000</td>\n",
       "      <td>2314.4700</td>\n",
       "    </tr>\n",
       "    <tr>\n",
       "      <th>10.0</th>\n",
       "      <td>1842.940000</td>\n",
       "      <td>2314.4700</td>\n",
       "    </tr>\n",
       "    <tr>\n",
       "      <th>10.0</th>\n",
       "      <td>0.000000</td>\n",
       "      <td>2314.4700</td>\n",
       "    </tr>\n",
       "    <tr>\n",
       "      <th>10.0</th>\n",
       "      <td>1732.010000</td>\n",
       "      <td>2314.4700</td>\n",
       "    </tr>\n",
       "    <tr>\n",
       "      <th>10.0</th>\n",
       "      <td>1557.850000</td>\n",
       "      <td>2314.4700</td>\n",
       "    </tr>\n",
       "    <tr>\n",
       "      <th>10.0</th>\n",
       "      <td>2163.410000</td>\n",
       "      <td>2314.4700</td>\n",
       "    </tr>\n",
       "    <tr>\n",
       "      <th>10.0</th>\n",
       "      <td>1782.430000</td>\n",
       "      <td>2314.4700</td>\n",
       "    </tr>\n",
       "    <tr>\n",
       "      <th>10.0</th>\n",
       "      <td>1712.260000</td>\n",
       "      <td>2314.4700</td>\n",
       "    </tr>\n",
       "    <tr>\n",
       "      <th>10.0</th>\n",
       "      <td>1828.160000</td>\n",
       "      <td>2314.4700</td>\n",
       "    </tr>\n",
       "    <tr>\n",
       "      <th>10.0</th>\n",
       "      <td>2163.410000</td>\n",
       "      <td>2314.4700</td>\n",
       "    </tr>\n",
       "    <tr>\n",
       "      <th>10.0</th>\n",
       "      <td>1732.010000</td>\n",
       "      <td>2314.4700</td>\n",
       "    </tr>\n",
       "    <tr>\n",
       "      <th>10.0</th>\n",
       "      <td>1741.120000</td>\n",
       "      <td>2314.4700</td>\n",
       "    </tr>\n",
       "    <tr>\n",
       "      <th>10.0</th>\n",
       "      <td>1732.010000</td>\n",
       "      <td>2314.4700</td>\n",
       "    </tr>\n",
       "    <tr>\n",
       "      <th>10.0</th>\n",
       "      <td>1925.430000</td>\n",
       "      <td>2314.4700</td>\n",
       "    </tr>\n",
       "    <tr>\n",
       "      <th>10.5</th>\n",
       "      <td>1624.490000</td>\n",
       "      <td>2407.0500</td>\n",
       "    </tr>\n",
       "    <tr>\n",
       "      <th>10.5</th>\n",
       "      <td>1624.490000</td>\n",
       "      <td>2407.0500</td>\n",
       "    </tr>\n",
       "    <tr>\n",
       "      <th>11.0</th>\n",
       "      <td>1834.960000</td>\n",
       "      <td>2499.6300</td>\n",
       "    </tr>\n",
       "    <tr>\n",
       "      <th>11.0</th>\n",
       "      <td>1700.000000</td>\n",
       "      <td>2499.6300</td>\n",
       "    </tr>\n",
       "    <tr>\n",
       "      <th>11.5</th>\n",
       "      <td>1803.850000</td>\n",
       "      <td>2592.2100</td>\n",
       "    </tr>\n",
       "    <tr>\n",
       "      <th>12.0</th>\n",
       "      <td>1634.700000</td>\n",
       "      <td>2684.7900</td>\n",
       "    </tr>\n",
       "    <tr>\n",
       "      <th>12.5</th>\n",
       "      <td>1373.660000</td>\n",
       "      <td>2684.7900</td>\n",
       "    </tr>\n",
       "  </tbody>\n",
       "</table>\n",
       "</div>"
      ],
      "text/plain": [
       "             valor    valores\n",
       "horas                        \n",
       "4.0    1130.370000  1339.5800\n",
       "4.0     964.324850  1339.5800\n",
       "4.0     964.885101  1339.5800\n",
       "4.0     992.371000  1339.5800\n",
       "4.0    1173.910000  1339.5800\n",
       "4.0    1023.957934  1339.5800\n",
       "4.0       0.000000  1339.5800\n",
       "5.0    1137.170000  1503.0050\n",
       "6.0    1144.530000  1666.4300\n",
       "6.0    1115.850000  1666.4300\n",
       "6.0       0.000000  1666.4300\n",
       "6.0    1530.630000  1666.4300\n",
       "7.5    1283.600000  1822.4675\n",
       "8.0    1613.130000  1874.4800\n",
       "8.0    1735.000000  1874.4800\n",
       "8.0    1869.670000  1874.4800\n",
       "8.0    1568.160000  1874.4800\n",
       "9.0    1734.300000  2094.4750\n",
       "8.0    1727.510000  1874.4800\n",
       "10.0   1510.150000  2314.4700\n",
       "10.0   1842.940000  2314.4700\n",
       "10.0      0.000000  2314.4700\n",
       "10.0   1732.010000  2314.4700\n",
       "10.0   1557.850000  2314.4700\n",
       "10.0   2163.410000  2314.4700\n",
       "10.0   1782.430000  2314.4700\n",
       "10.0   1712.260000  2314.4700\n",
       "10.0   1828.160000  2314.4700\n",
       "10.0   2163.410000  2314.4700\n",
       "10.0   1732.010000  2314.4700\n",
       "10.0   1741.120000  2314.4700\n",
       "10.0   1732.010000  2314.4700\n",
       "10.0   1925.430000  2314.4700\n",
       "10.5   1624.490000  2407.0500\n",
       "10.5   1624.490000  2407.0500\n",
       "11.0   1834.960000  2499.6300\n",
       "11.0   1700.000000  2499.6300\n",
       "11.5   1803.850000  2592.2100\n",
       "12.0   1634.700000  2684.7900\n",
       "12.5   1373.660000  2684.7900"
      ]
     },
     "execution_count": 23,
     "metadata": {},
     "output_type": "execute_result"
    }
   ],
   "source": [
    "comp"
   ]
  },
  {
   "cell_type": "markdown",
   "id": "0d0eab76-d1c6-44af-b3c0-aa687b5f12f6",
   "metadata": {},
   "source": [
    "Trocando o nome da coluna para a informação estar mais clara."
   ]
  },
  {
   "cell_type": "code",
   "execution_count": 24,
   "id": "e480cd6e-476f-4f53-9b53-381d1de97449",
   "metadata": {
    "tags": []
   },
   "outputs": [],
   "source": [
    "comp = comp.rename(columns={'valor':'pago' ,'valores':'tabelado'})"
   ]
  },
  {
   "cell_type": "code",
   "execution_count": 25,
   "id": "cc31b4ff-a7d3-4cdd-be18-d8eb74de6720",
   "metadata": {
    "tags": []
   },
   "outputs": [
    {
     "data": {
      "text/html": [
       "<div>\n",
       "<style scoped>\n",
       "    .dataframe tbody tr th:only-of-type {\n",
       "        vertical-align: middle;\n",
       "    }\n",
       "\n",
       "    .dataframe tbody tr th {\n",
       "        vertical-align: top;\n",
       "    }\n",
       "\n",
       "    .dataframe thead th {\n",
       "        text-align: right;\n",
       "    }\n",
       "</style>\n",
       "<table border=\"1\" class=\"dataframe\">\n",
       "  <thead>\n",
       "    <tr style=\"text-align: right;\">\n",
       "      <th></th>\n",
       "      <th>pago</th>\n",
       "      <th>tabelado</th>\n",
       "    </tr>\n",
       "    <tr>\n",
       "      <th>horas</th>\n",
       "      <th></th>\n",
       "      <th></th>\n",
       "    </tr>\n",
       "  </thead>\n",
       "  <tbody>\n",
       "    <tr>\n",
       "      <th>4.0</th>\n",
       "      <td>1130.370000</td>\n",
       "      <td>1339.5800</td>\n",
       "    </tr>\n",
       "    <tr>\n",
       "      <th>4.0</th>\n",
       "      <td>964.324850</td>\n",
       "      <td>1339.5800</td>\n",
       "    </tr>\n",
       "    <tr>\n",
       "      <th>4.0</th>\n",
       "      <td>964.885101</td>\n",
       "      <td>1339.5800</td>\n",
       "    </tr>\n",
       "    <tr>\n",
       "      <th>4.0</th>\n",
       "      <td>992.371000</td>\n",
       "      <td>1339.5800</td>\n",
       "    </tr>\n",
       "    <tr>\n",
       "      <th>4.0</th>\n",
       "      <td>1173.910000</td>\n",
       "      <td>1339.5800</td>\n",
       "    </tr>\n",
       "    <tr>\n",
       "      <th>4.0</th>\n",
       "      <td>1023.957934</td>\n",
       "      <td>1339.5800</td>\n",
       "    </tr>\n",
       "    <tr>\n",
       "      <th>4.0</th>\n",
       "      <td>0.000000</td>\n",
       "      <td>1339.5800</td>\n",
       "    </tr>\n",
       "    <tr>\n",
       "      <th>5.0</th>\n",
       "      <td>1137.170000</td>\n",
       "      <td>1503.0050</td>\n",
       "    </tr>\n",
       "    <tr>\n",
       "      <th>6.0</th>\n",
       "      <td>1144.530000</td>\n",
       "      <td>1666.4300</td>\n",
       "    </tr>\n",
       "    <tr>\n",
       "      <th>6.0</th>\n",
       "      <td>1115.850000</td>\n",
       "      <td>1666.4300</td>\n",
       "    </tr>\n",
       "    <tr>\n",
       "      <th>6.0</th>\n",
       "      <td>0.000000</td>\n",
       "      <td>1666.4300</td>\n",
       "    </tr>\n",
       "    <tr>\n",
       "      <th>6.0</th>\n",
       "      <td>1530.630000</td>\n",
       "      <td>1666.4300</td>\n",
       "    </tr>\n",
       "    <tr>\n",
       "      <th>7.5</th>\n",
       "      <td>1283.600000</td>\n",
       "      <td>1822.4675</td>\n",
       "    </tr>\n",
       "    <tr>\n",
       "      <th>8.0</th>\n",
       "      <td>1613.130000</td>\n",
       "      <td>1874.4800</td>\n",
       "    </tr>\n",
       "    <tr>\n",
       "      <th>8.0</th>\n",
       "      <td>1735.000000</td>\n",
       "      <td>1874.4800</td>\n",
       "    </tr>\n",
       "    <tr>\n",
       "      <th>8.0</th>\n",
       "      <td>1869.670000</td>\n",
       "      <td>1874.4800</td>\n",
       "    </tr>\n",
       "    <tr>\n",
       "      <th>8.0</th>\n",
       "      <td>1568.160000</td>\n",
       "      <td>1874.4800</td>\n",
       "    </tr>\n",
       "    <tr>\n",
       "      <th>9.0</th>\n",
       "      <td>1734.300000</td>\n",
       "      <td>2094.4750</td>\n",
       "    </tr>\n",
       "    <tr>\n",
       "      <th>8.0</th>\n",
       "      <td>1727.510000</td>\n",
       "      <td>1874.4800</td>\n",
       "    </tr>\n",
       "    <tr>\n",
       "      <th>10.0</th>\n",
       "      <td>1510.150000</td>\n",
       "      <td>2314.4700</td>\n",
       "    </tr>\n",
       "    <tr>\n",
       "      <th>10.0</th>\n",
       "      <td>1842.940000</td>\n",
       "      <td>2314.4700</td>\n",
       "    </tr>\n",
       "    <tr>\n",
       "      <th>10.0</th>\n",
       "      <td>0.000000</td>\n",
       "      <td>2314.4700</td>\n",
       "    </tr>\n",
       "    <tr>\n",
       "      <th>10.0</th>\n",
       "      <td>1732.010000</td>\n",
       "      <td>2314.4700</td>\n",
       "    </tr>\n",
       "    <tr>\n",
       "      <th>10.0</th>\n",
       "      <td>1557.850000</td>\n",
       "      <td>2314.4700</td>\n",
       "    </tr>\n",
       "    <tr>\n",
       "      <th>10.0</th>\n",
       "      <td>2163.410000</td>\n",
       "      <td>2314.4700</td>\n",
       "    </tr>\n",
       "    <tr>\n",
       "      <th>10.0</th>\n",
       "      <td>1782.430000</td>\n",
       "      <td>2314.4700</td>\n",
       "    </tr>\n",
       "    <tr>\n",
       "      <th>10.0</th>\n",
       "      <td>1712.260000</td>\n",
       "      <td>2314.4700</td>\n",
       "    </tr>\n",
       "    <tr>\n",
       "      <th>10.0</th>\n",
       "      <td>1828.160000</td>\n",
       "      <td>2314.4700</td>\n",
       "    </tr>\n",
       "    <tr>\n",
       "      <th>10.0</th>\n",
       "      <td>2163.410000</td>\n",
       "      <td>2314.4700</td>\n",
       "    </tr>\n",
       "    <tr>\n",
       "      <th>10.0</th>\n",
       "      <td>1732.010000</td>\n",
       "      <td>2314.4700</td>\n",
       "    </tr>\n",
       "    <tr>\n",
       "      <th>10.0</th>\n",
       "      <td>1741.120000</td>\n",
       "      <td>2314.4700</td>\n",
       "    </tr>\n",
       "    <tr>\n",
       "      <th>10.0</th>\n",
       "      <td>1732.010000</td>\n",
       "      <td>2314.4700</td>\n",
       "    </tr>\n",
       "    <tr>\n",
       "      <th>10.0</th>\n",
       "      <td>1925.430000</td>\n",
       "      <td>2314.4700</td>\n",
       "    </tr>\n",
       "    <tr>\n",
       "      <th>10.5</th>\n",
       "      <td>1624.490000</td>\n",
       "      <td>2407.0500</td>\n",
       "    </tr>\n",
       "    <tr>\n",
       "      <th>10.5</th>\n",
       "      <td>1624.490000</td>\n",
       "      <td>2407.0500</td>\n",
       "    </tr>\n",
       "    <tr>\n",
       "      <th>11.0</th>\n",
       "      <td>1834.960000</td>\n",
       "      <td>2499.6300</td>\n",
       "    </tr>\n",
       "    <tr>\n",
       "      <th>11.0</th>\n",
       "      <td>1700.000000</td>\n",
       "      <td>2499.6300</td>\n",
       "    </tr>\n",
       "    <tr>\n",
       "      <th>11.5</th>\n",
       "      <td>1803.850000</td>\n",
       "      <td>2592.2100</td>\n",
       "    </tr>\n",
       "    <tr>\n",
       "      <th>12.0</th>\n",
       "      <td>1634.700000</td>\n",
       "      <td>2684.7900</td>\n",
       "    </tr>\n",
       "    <tr>\n",
       "      <th>12.5</th>\n",
       "      <td>1373.660000</td>\n",
       "      <td>2684.7900</td>\n",
       "    </tr>\n",
       "  </tbody>\n",
       "</table>\n",
       "</div>"
      ],
      "text/plain": [
       "              pago   tabelado\n",
       "horas                        \n",
       "4.0    1130.370000  1339.5800\n",
       "4.0     964.324850  1339.5800\n",
       "4.0     964.885101  1339.5800\n",
       "4.0     992.371000  1339.5800\n",
       "4.0    1173.910000  1339.5800\n",
       "4.0    1023.957934  1339.5800\n",
       "4.0       0.000000  1339.5800\n",
       "5.0    1137.170000  1503.0050\n",
       "6.0    1144.530000  1666.4300\n",
       "6.0    1115.850000  1666.4300\n",
       "6.0       0.000000  1666.4300\n",
       "6.0    1530.630000  1666.4300\n",
       "7.5    1283.600000  1822.4675\n",
       "8.0    1613.130000  1874.4800\n",
       "8.0    1735.000000  1874.4800\n",
       "8.0    1869.670000  1874.4800\n",
       "8.0    1568.160000  1874.4800\n",
       "9.0    1734.300000  2094.4750\n",
       "8.0    1727.510000  1874.4800\n",
       "10.0   1510.150000  2314.4700\n",
       "10.0   1842.940000  2314.4700\n",
       "10.0      0.000000  2314.4700\n",
       "10.0   1732.010000  2314.4700\n",
       "10.0   1557.850000  2314.4700\n",
       "10.0   2163.410000  2314.4700\n",
       "10.0   1782.430000  2314.4700\n",
       "10.0   1712.260000  2314.4700\n",
       "10.0   1828.160000  2314.4700\n",
       "10.0   2163.410000  2314.4700\n",
       "10.0   1732.010000  2314.4700\n",
       "10.0   1741.120000  2314.4700\n",
       "10.0   1732.010000  2314.4700\n",
       "10.0   1925.430000  2314.4700\n",
       "10.5   1624.490000  2407.0500\n",
       "10.5   1624.490000  2407.0500\n",
       "11.0   1834.960000  2499.6300\n",
       "11.0   1700.000000  2499.6300\n",
       "11.5   1803.850000  2592.2100\n",
       "12.0   1634.700000  2684.7900\n",
       "12.5   1373.660000  2684.7900"
      ]
     },
     "execution_count": 25,
     "metadata": {},
     "output_type": "execute_result"
    }
   ],
   "source": [
    "comp"
   ]
  },
  {
   "cell_type": "markdown",
   "id": "798aa837-a0e8-4316-865e-bd7f120ec2ce",
   "metadata": {},
   "source": [
    "Vamos retirar os bolsistas da tabela para entender a discrepância entre os valores pagos e tabelados:"
   ]
  },
  {
   "cell_type": "code",
   "execution_count": 26,
   "id": "f78f7660-7d4d-4b22-8f56-ae8d1e9141db",
   "metadata": {
    "tags": []
   },
   "outputs": [],
   "source": [
    "comp = comp[comp['pago'] != 0]"
   ]
  },
  {
   "cell_type": "code",
   "execution_count": 27,
   "id": "7f65e77c-366d-4e3c-b966-6c12ea5f04c1",
   "metadata": {
    "tags": []
   },
   "outputs": [
    {
     "data": {
      "text/html": [
       "<div>\n",
       "<style scoped>\n",
       "    .dataframe tbody tr th:only-of-type {\n",
       "        vertical-align: middle;\n",
       "    }\n",
       "\n",
       "    .dataframe tbody tr th {\n",
       "        vertical-align: top;\n",
       "    }\n",
       "\n",
       "    .dataframe thead th {\n",
       "        text-align: right;\n",
       "    }\n",
       "</style>\n",
       "<table border=\"1\" class=\"dataframe\">\n",
       "  <thead>\n",
       "    <tr style=\"text-align: right;\">\n",
       "      <th></th>\n",
       "      <th>pago</th>\n",
       "      <th>tabelado</th>\n",
       "    </tr>\n",
       "    <tr>\n",
       "      <th>horas</th>\n",
       "      <th></th>\n",
       "      <th></th>\n",
       "    </tr>\n",
       "  </thead>\n",
       "  <tbody>\n",
       "    <tr>\n",
       "      <th>4.0</th>\n",
       "      <td>1130.370000</td>\n",
       "      <td>1339.5800</td>\n",
       "    </tr>\n",
       "    <tr>\n",
       "      <th>4.0</th>\n",
       "      <td>964.324850</td>\n",
       "      <td>1339.5800</td>\n",
       "    </tr>\n",
       "    <tr>\n",
       "      <th>4.0</th>\n",
       "      <td>964.885101</td>\n",
       "      <td>1339.5800</td>\n",
       "    </tr>\n",
       "    <tr>\n",
       "      <th>4.0</th>\n",
       "      <td>992.371000</td>\n",
       "      <td>1339.5800</td>\n",
       "    </tr>\n",
       "    <tr>\n",
       "      <th>4.0</th>\n",
       "      <td>1173.910000</td>\n",
       "      <td>1339.5800</td>\n",
       "    </tr>\n",
       "    <tr>\n",
       "      <th>4.0</th>\n",
       "      <td>1023.957934</td>\n",
       "      <td>1339.5800</td>\n",
       "    </tr>\n",
       "    <tr>\n",
       "      <th>5.0</th>\n",
       "      <td>1137.170000</td>\n",
       "      <td>1503.0050</td>\n",
       "    </tr>\n",
       "    <tr>\n",
       "      <th>6.0</th>\n",
       "      <td>1144.530000</td>\n",
       "      <td>1666.4300</td>\n",
       "    </tr>\n",
       "    <tr>\n",
       "      <th>6.0</th>\n",
       "      <td>1115.850000</td>\n",
       "      <td>1666.4300</td>\n",
       "    </tr>\n",
       "    <tr>\n",
       "      <th>6.0</th>\n",
       "      <td>1530.630000</td>\n",
       "      <td>1666.4300</td>\n",
       "    </tr>\n",
       "    <tr>\n",
       "      <th>7.5</th>\n",
       "      <td>1283.600000</td>\n",
       "      <td>1822.4675</td>\n",
       "    </tr>\n",
       "    <tr>\n",
       "      <th>8.0</th>\n",
       "      <td>1613.130000</td>\n",
       "      <td>1874.4800</td>\n",
       "    </tr>\n",
       "    <tr>\n",
       "      <th>8.0</th>\n",
       "      <td>1735.000000</td>\n",
       "      <td>1874.4800</td>\n",
       "    </tr>\n",
       "    <tr>\n",
       "      <th>8.0</th>\n",
       "      <td>1869.670000</td>\n",
       "      <td>1874.4800</td>\n",
       "    </tr>\n",
       "    <tr>\n",
       "      <th>8.0</th>\n",
       "      <td>1568.160000</td>\n",
       "      <td>1874.4800</td>\n",
       "    </tr>\n",
       "    <tr>\n",
       "      <th>9.0</th>\n",
       "      <td>1734.300000</td>\n",
       "      <td>2094.4750</td>\n",
       "    </tr>\n",
       "    <tr>\n",
       "      <th>8.0</th>\n",
       "      <td>1727.510000</td>\n",
       "      <td>1874.4800</td>\n",
       "    </tr>\n",
       "    <tr>\n",
       "      <th>10.0</th>\n",
       "      <td>1510.150000</td>\n",
       "      <td>2314.4700</td>\n",
       "    </tr>\n",
       "    <tr>\n",
       "      <th>10.0</th>\n",
       "      <td>1842.940000</td>\n",
       "      <td>2314.4700</td>\n",
       "    </tr>\n",
       "    <tr>\n",
       "      <th>10.0</th>\n",
       "      <td>1732.010000</td>\n",
       "      <td>2314.4700</td>\n",
       "    </tr>\n",
       "    <tr>\n",
       "      <th>10.0</th>\n",
       "      <td>1557.850000</td>\n",
       "      <td>2314.4700</td>\n",
       "    </tr>\n",
       "    <tr>\n",
       "      <th>10.0</th>\n",
       "      <td>2163.410000</td>\n",
       "      <td>2314.4700</td>\n",
       "    </tr>\n",
       "    <tr>\n",
       "      <th>10.0</th>\n",
       "      <td>1782.430000</td>\n",
       "      <td>2314.4700</td>\n",
       "    </tr>\n",
       "    <tr>\n",
       "      <th>10.0</th>\n",
       "      <td>1712.260000</td>\n",
       "      <td>2314.4700</td>\n",
       "    </tr>\n",
       "    <tr>\n",
       "      <th>10.0</th>\n",
       "      <td>1828.160000</td>\n",
       "      <td>2314.4700</td>\n",
       "    </tr>\n",
       "    <tr>\n",
       "      <th>10.0</th>\n",
       "      <td>2163.410000</td>\n",
       "      <td>2314.4700</td>\n",
       "    </tr>\n",
       "    <tr>\n",
       "      <th>10.0</th>\n",
       "      <td>1732.010000</td>\n",
       "      <td>2314.4700</td>\n",
       "    </tr>\n",
       "    <tr>\n",
       "      <th>10.0</th>\n",
       "      <td>1741.120000</td>\n",
       "      <td>2314.4700</td>\n",
       "    </tr>\n",
       "    <tr>\n",
       "      <th>10.0</th>\n",
       "      <td>1732.010000</td>\n",
       "      <td>2314.4700</td>\n",
       "    </tr>\n",
       "    <tr>\n",
       "      <th>10.0</th>\n",
       "      <td>1925.430000</td>\n",
       "      <td>2314.4700</td>\n",
       "    </tr>\n",
       "    <tr>\n",
       "      <th>10.5</th>\n",
       "      <td>1624.490000</td>\n",
       "      <td>2407.0500</td>\n",
       "    </tr>\n",
       "    <tr>\n",
       "      <th>10.5</th>\n",
       "      <td>1624.490000</td>\n",
       "      <td>2407.0500</td>\n",
       "    </tr>\n",
       "    <tr>\n",
       "      <th>11.0</th>\n",
       "      <td>1834.960000</td>\n",
       "      <td>2499.6300</td>\n",
       "    </tr>\n",
       "    <tr>\n",
       "      <th>11.0</th>\n",
       "      <td>1700.000000</td>\n",
       "      <td>2499.6300</td>\n",
       "    </tr>\n",
       "    <tr>\n",
       "      <th>11.5</th>\n",
       "      <td>1803.850000</td>\n",
       "      <td>2592.2100</td>\n",
       "    </tr>\n",
       "    <tr>\n",
       "      <th>12.0</th>\n",
       "      <td>1634.700000</td>\n",
       "      <td>2684.7900</td>\n",
       "    </tr>\n",
       "    <tr>\n",
       "      <th>12.5</th>\n",
       "      <td>1373.660000</td>\n",
       "      <td>2684.7900</td>\n",
       "    </tr>\n",
       "  </tbody>\n",
       "</table>\n",
       "</div>"
      ],
      "text/plain": [
       "              pago   tabelado\n",
       "horas                        \n",
       "4.0    1130.370000  1339.5800\n",
       "4.0     964.324850  1339.5800\n",
       "4.0     964.885101  1339.5800\n",
       "4.0     992.371000  1339.5800\n",
       "4.0    1173.910000  1339.5800\n",
       "4.0    1023.957934  1339.5800\n",
       "5.0    1137.170000  1503.0050\n",
       "6.0    1144.530000  1666.4300\n",
       "6.0    1115.850000  1666.4300\n",
       "6.0    1530.630000  1666.4300\n",
       "7.5    1283.600000  1822.4675\n",
       "8.0    1613.130000  1874.4800\n",
       "8.0    1735.000000  1874.4800\n",
       "8.0    1869.670000  1874.4800\n",
       "8.0    1568.160000  1874.4800\n",
       "9.0    1734.300000  2094.4750\n",
       "8.0    1727.510000  1874.4800\n",
       "10.0   1510.150000  2314.4700\n",
       "10.0   1842.940000  2314.4700\n",
       "10.0   1732.010000  2314.4700\n",
       "10.0   1557.850000  2314.4700\n",
       "10.0   2163.410000  2314.4700\n",
       "10.0   1782.430000  2314.4700\n",
       "10.0   1712.260000  2314.4700\n",
       "10.0   1828.160000  2314.4700\n",
       "10.0   2163.410000  2314.4700\n",
       "10.0   1732.010000  2314.4700\n",
       "10.0   1741.120000  2314.4700\n",
       "10.0   1732.010000  2314.4700\n",
       "10.0   1925.430000  2314.4700\n",
       "10.5   1624.490000  2407.0500\n",
       "10.5   1624.490000  2407.0500\n",
       "11.0   1834.960000  2499.6300\n",
       "11.0   1700.000000  2499.6300\n",
       "11.5   1803.850000  2592.2100\n",
       "12.0   1634.700000  2684.7900\n",
       "12.5   1373.660000  2684.7900"
      ]
     },
     "execution_count": 27,
     "metadata": {},
     "output_type": "execute_result"
    }
   ],
   "source": [
    "comp"
   ]
  },
  {
   "cell_type": "markdown",
   "id": "68e8b992-5595-4f68-a409-faba81950fd6",
   "metadata": {},
   "source": [
    "Considerando a distribuição de horas do mês de agosto, vamos calcular a mensalidade média tabelada e paga por cada aluno."
   ]
  },
  {
   "cell_type": "code",
   "execution_count": 28,
   "id": "d12c55da-4c2b-4412-9b64-c532b58fbba2",
   "metadata": {
    "tags": []
   },
   "outputs": [
    {
     "data": {
      "text/plain": [
       "2045.7399324324322"
      ]
     },
     "execution_count": 28,
     "metadata": {},
     "output_type": "execute_result"
    }
   ],
   "source": [
    "# cálculo da mensalidade tabelada média\n",
    "comp['tabelado'].mean()"
   ]
  },
  {
   "cell_type": "code",
   "execution_count": 29,
   "id": "a0acb0de-6b67-4996-9631-78094a401a87",
   "metadata": {
    "tags": []
   },
   "outputs": [
    {
     "data": {
      "text/plain": [
       "1560.2353752729728"
      ]
     },
     "execution_count": 29,
     "metadata": {},
     "output_type": "execute_result"
    }
   ],
   "source": [
    "# cálculo da mensalidade paga média\n",
    "comp['pago'].mean()"
   ]
  },
  {
   "cell_type": "code",
   "execution_count": 30,
   "id": "a71dfb73-1e85-443d-be35-18ca5fe9a4d4",
   "metadata": {
    "tags": []
   },
   "outputs": [
    {
     "data": {
      "text/plain": [
       "485.5045571594594"
      ]
     },
     "execution_count": 30,
     "metadata": {},
     "output_type": "execute_result"
    }
   ],
   "source": [
    "comp['tabelado'].mean()-comp['pago'].mean()"
   ]
  },
  {
   "cell_type": "markdown",
   "id": "e831fbd6-f834-4c2b-bde4-223821e254f5",
   "metadata": {
    "tags": []
   },
   "source": [
    "Com o cálculo acima, vemos que a escola deixa de receber, em média 485 reais por aluno por mês.\n",
    "\n",
    "Vamos calcular as receitas mensais se o valor tabelado fosse praticado. Como o número de alunos variou, usei a mensalidade média para corrigir os valores usando agosto como base. Vamos incluir o resultado no dataframe receitas."
   ]
  },
  {
   "cell_type": "code",
   "execution_count": 31,
   "id": "d23e3cef-f0f4-4263-a665-8c2a8fc48910",
   "metadata": {
    "tags": []
   },
   "outputs": [],
   "source": [
    "receitas['tabelado'] = [\n",
    "                        round(comp['tabelado'].sum()+ 3*comp['tabelado'].mean(),2),  # mes 6 - 43 alunos\n",
    "                        round(comp['tabelado'].sum()+ 3*comp['tabelado'].mean(),2),  # mes 7 - 43 alunos\n",
    "                        round(comp['tabelado'].sum(),2),                            # mes 8 - 40 alunos\n",
    "                        round(comp['tabelado'].sum()-10*comp['tabelado'].mean(),2), # mes 9 - 33 alunos\n",
    "                        round(comp['tabelado'].sum()-10*comp['tabelado'].mean(),2) # mes 10 - 33 alunos\n",
    "                        ] "
   ]
  },
  {
   "cell_type": "code",
   "execution_count": 32,
   "id": "869b42c7-1134-4061-98ce-185d2ce95783",
   "metadata": {
    "tags": []
   },
   "outputs": [
    {
     "data": {
      "text/html": [
       "<div>\n",
       "<style scoped>\n",
       "    .dataframe tbody tr th:only-of-type {\n",
       "        vertical-align: middle;\n",
       "    }\n",
       "\n",
       "    .dataframe tbody tr th {\n",
       "        vertical-align: top;\n",
       "    }\n",
       "\n",
       "    .dataframe thead th {\n",
       "        text-align: right;\n",
       "    }\n",
       "</style>\n",
       "<table border=\"1\" class=\"dataframe\">\n",
       "  <thead>\n",
       "    <tr style=\"text-align: right;\">\n",
       "      <th></th>\n",
       "      <th>meses</th>\n",
       "      <th>valores</th>\n",
       "      <th>n</th>\n",
       "      <th>tabelado</th>\n",
       "    </tr>\n",
       "  </thead>\n",
       "  <tbody>\n",
       "    <tr>\n",
       "      <th>0</th>\n",
       "      <td>6</td>\n",
       "      <td>62409.18</td>\n",
       "      <td>43</td>\n",
       "      <td>81829.60</td>\n",
       "    </tr>\n",
       "    <tr>\n",
       "      <th>1</th>\n",
       "      <td>7</td>\n",
       "      <td>62409.18</td>\n",
       "      <td>43</td>\n",
       "      <td>81829.60</td>\n",
       "    </tr>\n",
       "    <tr>\n",
       "      <th>2</th>\n",
       "      <td>8</td>\n",
       "      <td>57728.49</td>\n",
       "      <td>40</td>\n",
       "      <td>75692.38</td>\n",
       "    </tr>\n",
       "    <tr>\n",
       "      <th>3</th>\n",
       "      <td>9</td>\n",
       "      <td>40786.87</td>\n",
       "      <td>33</td>\n",
       "      <td>55234.98</td>\n",
       "    </tr>\n",
       "    <tr>\n",
       "      <th>4</th>\n",
       "      <td>10</td>\n",
       "      <td>40786.87</td>\n",
       "      <td>33</td>\n",
       "      <td>55234.98</td>\n",
       "    </tr>\n",
       "  </tbody>\n",
       "</table>\n",
       "</div>"
      ],
      "text/plain": [
       "   meses   valores   n  tabelado\n",
       "0      6  62409.18  43  81829.60\n",
       "1      7  62409.18  43  81829.60\n",
       "2      8  57728.49  40  75692.38\n",
       "3      9  40786.87  33  55234.98\n",
       "4     10  40786.87  33  55234.98"
      ]
     },
     "execution_count": 32,
     "metadata": {},
     "output_type": "execute_result"
    }
   ],
   "source": [
    "receitas"
   ]
  },
  {
   "cell_type": "markdown",
   "id": "2df14c9b-7dea-433b-96b4-48fa276c31ab",
   "metadata": {},
   "source": [
    "### Análise dos prejuízos\n",
    "\n",
    "Para todos os meses estudados, vamos calcular a receita total e a despesa total. Com isso, poderemos entender se os prejuízos poderiam ser revertidos somente seguindo a tabela ou se a tabela não comportava as despesas da escola. Isso é essencial para a criação de um modelo para as mensalidades futuras e reajuste das mensalidades atuais."
   ]
  },
  {
   "cell_type": "code",
   "execution_count": 33,
   "id": "76b2c848-569d-4eea-a43e-6637023177fa",
   "metadata": {
    "tags": []
   },
   "outputs": [
    {
     "data": {
      "text/plain": [
       "349821.54"
      ]
     },
     "execution_count": 33,
     "metadata": {},
     "output_type": "execute_result"
    }
   ],
   "source": [
    "# soma da receitas possíveis seguindo o valor tabelado\n",
    "receitas['tabelado'].sum()"
   ]
  },
  {
   "cell_type": "code",
   "execution_count": 34,
   "id": "51403b50-1996-4558-937c-502d7518a4a7",
   "metadata": {
    "tags": []
   },
   "outputs": [
    {
     "data": {
      "text/plain": [
       "326376.93"
      ]
     },
     "execution_count": 34,
     "metadata": {},
     "output_type": "execute_result"
    }
   ],
   "source": [
    "# soma das despesas\n",
    "despesas['valores'].sum()"
   ]
  },
  {
   "cell_type": "code",
   "execution_count": 35,
   "id": "5b83da33-ce29-465b-b698-b9d0ae4be381",
   "metadata": {
    "tags": []
   },
   "outputs": [
    {
     "data": {
      "text/plain": [
       "264120.59"
      ]
     },
     "execution_count": 35,
     "metadata": {},
     "output_type": "execute_result"
    }
   ],
   "source": [
    "# soma da receitas reais\n",
    "receitas['valores'].sum()"
   ]
  },
  {
   "cell_type": "code",
   "execution_count": 36,
   "id": "88259c88-27b0-40a4-83b5-d99a2c3cf112",
   "metadata": {
    "tags": []
   },
   "outputs": [
    {
     "data": {
      "text/plain": [
       "-62256.33999999997"
      ]
     },
     "execution_count": 36,
     "metadata": {},
     "output_type": "execute_result"
    }
   ],
   "source": [
    "# prejuízo real dos 5 meses\n",
    "prejuizo_real = receitas['valores'].sum()-despesas['valores'].sum()\n",
    "prejuizo_real"
   ]
  },
  {
   "cell_type": "code",
   "execution_count": 37,
   "id": "6dfafd8a-f7cc-4139-9a4e-7b9eb7f26a3c",
   "metadata": {
    "tags": []
   },
   "outputs": [
    {
     "data": {
      "text/plain": [
       "23444.609999999986"
      ]
     },
     "execution_count": 37,
     "metadata": {},
     "output_type": "execute_result"
    }
   ],
   "source": [
    "# lucro possível dos 5 meses\n",
    "lucro_possivel = receitas['tabelado'].sum()-despesas['valores'].sum()\n",
    "lucro_possivel"
   ]
  },
  {
   "cell_type": "code",
   "execution_count": 38,
   "id": "8b3ba81a-ba39-42f8-a88f-704f2855bc56",
   "metadata": {
    "tags": []
   },
   "outputs": [
    {
     "data": {
      "text/plain": [
       "4688.921999999997"
      ]
     },
     "execution_count": 38,
     "metadata": {},
     "output_type": "execute_result"
    }
   ],
   "source": [
    "# lucro possível mensal\n",
    "lucro_possivel/5"
   ]
  },
  {
   "cell_type": "markdown",
   "id": "cde02b78-6b36-44b5-a8a4-998502fdb789",
   "metadata": {},
   "source": [
    "Vemos que a escola poderia ter lucrado, em média, 4689 reais por mês só praticando a tabela de mensalidades existente."
   ]
  },
  {
   "cell_type": "markdown",
   "id": "33789e03-de6e-426a-999a-de8dca34e60b",
   "metadata": {
    "tags": []
   },
   "source": [
    "Olhando as despesas e receitas por aluno nesses cinco meses:"
   ]
  },
  {
   "cell_type": "code",
   "execution_count": 39,
   "id": "e68b9d01-a411-43cc-98f7-b02fa4bf9ef0",
   "metadata": {
    "tags": []
   },
   "outputs": [
    {
     "data": {
      "text/plain": [
       "1699.87984375"
      ]
     },
     "execution_count": 39,
     "metadata": {},
     "output_type": "execute_result"
    }
   ],
   "source": [
    "# media das despesas por aluno\n",
    "despesa_media = despesas['valores'].sum()/despesas['n'].sum()\n",
    "despesa_media"
   ]
  },
  {
   "cell_type": "code",
   "execution_count": 40,
   "id": "407b94d4-be68-4410-9b41-e2ffc782217e",
   "metadata": {
    "tags": []
   },
   "outputs": [
    {
     "data": {
      "text/plain": [
       "1375.6280729166667"
      ]
     },
     "execution_count": 40,
     "metadata": {},
     "output_type": "execute_result"
    }
   ],
   "source": [
    "# media das mensalidades pagas por aluno\n",
    "mensalidade_media = receitas['valores'].sum()/receitas['n'].sum()\n",
    "mensalidade_media"
   ]
  },
  {
   "cell_type": "code",
   "execution_count": 41,
   "id": "c2b14c43-b427-4da8-a162-696341f1c872",
   "metadata": {
    "tags": []
   },
   "outputs": [
    {
     "data": {
      "text/plain": [
       "-324.25177083333324"
      ]
     },
     "execution_count": 41,
     "metadata": {},
     "output_type": "execute_result"
    }
   ],
   "source": [
    "# prejuízo médio por por aluno por mês\n",
    "mensalidade_media-despesa_media"
   ]
  },
  {
   "cell_type": "markdown",
   "id": "25be5298-5904-497a-8799-82f253281210",
   "metadata": {},
   "source": [
    "Vemos que, em média, a mensalidade não cobre as despesas dos alunos na escola."
   ]
  },
  {
   "cell_type": "code",
   "execution_count": 42,
   "id": "0f7285e2-bb2d-440f-907a-2a0857bd06c4",
   "metadata": {
    "tags": []
   },
   "outputs": [
    {
     "data": {
      "text/plain": [
       "1821.9871875"
      ]
     },
     "execution_count": 42,
     "metadata": {},
     "output_type": "execute_result"
    }
   ],
   "source": [
    "# media das mensalidades tabeladas por aluno\n",
    "mensalidade_media_tabelada = receitas['tabelado'].sum()/receitas['n'].sum()\n",
    "mensalidade_media_tabelada"
   ]
  },
  {
   "cell_type": "code",
   "execution_count": 43,
   "id": "9d252714-60fe-4c8a-aba1-18b194abdd08",
   "metadata": {
    "tags": []
   },
   "outputs": [
    {
     "data": {
      "text/plain": [
       "122.10734374999993"
      ]
     },
     "execution_count": 43,
     "metadata": {},
     "output_type": "execute_result"
    }
   ],
   "source": [
    "# lucro possível médio por por aluno por mês\n",
    "mensalidade_media_tabelada-despesa_media"
   ]
  },
  {
   "cell_type": "markdown",
   "id": "8e736531-c8c4-4661-8bdb-6e672d938c9c",
   "metadata": {},
   "source": [
    "Vemos que a escola poderia ter lucrado, em média, 122 reais por mês por aluno somente seguindo a tabela de mensalidades. Lembrando que o pró-labore do sócio já está incluído nas despesas."
   ]
  },
  {
   "cell_type": "markdown",
   "id": "850e6a94-29ca-4ac2-8107-2ab12be36baa",
   "metadata": {},
   "source": [
    "## Cálculo do ponto de equilíbrio financeiro em diversos cenários.\n",
    "\n",
    "Para entender melhor os problemas financeiras da escola, decidimos entender quantos alunos a escola precisaria para manter receitas e despesas em equilíbrio ao longo dos meses. Como tivemos muitas variações de gastos extras e até desnecessários e também uma variação expressiva no número de alunos, fizemos os cálculos para o cenário que passou e outros hipotéticos.\n",
    "\n",
    "Para o cálculo do ponto de equilíbrio, decidimos separar o pro-labore do sócio. Fizemos uma estimativa média do limite inferior das retiradas de modo que, as despesas da escola podem estar ligeiramente inflacionadas. "
   ]
  },
  {
   "cell_type": "code",
   "execution_count": 44,
   "id": "885e417b-c0f3-4dbb-93f7-239aabff2699",
   "metadata": {
    "tags": []
   },
   "outputs": [],
   "source": [
    "prolabore = 8000"
   ]
  },
  {
   "cell_type": "markdown",
   "id": "7cd4b6f5-989c-42c7-b4c1-cfde22cada88",
   "metadata": {},
   "source": [
    "Estudamos, primeiramente, o cenário real de despesas e receitas. "
   ]
  },
  {
   "cell_type": "code",
   "execution_count": 45,
   "id": "ac26884c-c890-40e6-a846-b674877afe10",
   "metadata": {
    "tags": []
   },
   "outputs": [
    {
     "data": {
      "text/plain": [
       "41.635807764930405"
      ]
     },
     "execution_count": 45,
     "metadata": {},
     "output_type": "execute_result"
    }
   ],
   "source": [
    "# calculo do ponto de equilibrio  - cenário 0\n",
    "despesas_0 = (despesas['valores'].sum() -5* prolabore)/5  # despesa mensal real média\n",
    "receitas_0 = receitas['valores'].sum() / receitas['n'].sum() # média da receita real por aluno \n",
    "              \n",
    "n_0 = (  despesas_0 /  receitas_0 )\n",
    "n_0"
   ]
  },
  {
   "cell_type": "markdown",
   "id": "16ddcf29-bfff-4518-a0b3-4f45c733e9ee",
   "metadata": {},
   "source": [
    "No caso acima, podemos entender o prejuízo da escola como insuficiência de alunos para cobrir os gastos ou, como vimos anteriomente, insuficiência no valor de mensalidade pago."
   ]
  },
  {
   "cell_type": "markdown",
   "id": "0c25398d-cbef-4901-921b-c53b649b6c4b",
   "metadata": {},
   "source": [
    "No primeiro caso hipotético, mantivemos no cálculo apenas os meses em que não houve despesas de festa ou demissão (gastos evitávies na análise da situação da escola). Consideramos as receitas reais médias pagas pelos alunos."
   ]
  },
  {
   "cell_type": "code",
   "execution_count": 46,
   "id": "198998ad-f8af-4bc2-9209-5345a4cdc037",
   "metadata": {
    "tags": []
   },
   "outputs": [
    {
     "data": {
      "text/plain": [
       "35.586606557254775"
      ]
     },
     "execution_count": 46,
     "metadata": {},
     "output_type": "execute_result"
    }
   ],
   "source": [
    "# calculo do ponto de equilibrio - melhor cenário de despesas - cenário 1\n",
    "despesas_1 = (despesas['valores'][0]+despesas['valores'][4] -2* prolabore)/2   # melhor despesa real\n",
    "\n",
    "n_1 = (  despesas_1 /  receitas_0 )\n",
    "n_1"
   ]
  },
  {
   "cell_type": "markdown",
   "id": "06287c60-1b7b-4234-ab68-64d781c38923",
   "metadata": {},
   "source": [
    "Mesmo com um cenário de despesas mais favorável, a escola não tinha mais alunos suficientes para cobrir as despesas (com as mensalidades cobradas)."
   ]
  },
  {
   "cell_type": "markdown",
   "id": "5ef3788c-f4f4-43b0-a835-f4e102adbef9",
   "metadata": {},
   "source": [
    "Em um segundo cenário hipotético, imaginamos o cenário de despesas real, mas o cenário de receitas considerando os valores tabelados para as mensalidades."
   ]
  },
  {
   "cell_type": "code",
   "execution_count": 47,
   "id": "6a5a7d21-86db-4e1a-9231-48b5fb373dcb",
   "metadata": {
    "tags": []
   },
   "outputs": [
    {
     "data": {
      "text/plain": [
       "31.43566891850056"
      ]
     },
     "execution_count": 47,
     "metadata": {},
     "output_type": "execute_result"
    }
   ],
   "source": [
    "# calculo do ponto de equilibrio - pior cenário de despesas e melhor de receitas - cenário 2\n",
    "receitas_1 = receitas['tabelado'].sum() / receitas['n'].sum() # receita tabelada\n",
    "\n",
    "n_2 = (   despesas_0 /   receitas_1   ) \n",
    "n_2"
   ]
  },
  {
   "cell_type": "markdown",
   "id": "f1ab2d4f-82c5-4460-a07e-b65b3c477435",
   "metadata": {
    "tags": []
   },
   "source": [
    "Vemos que, nesse caso, a escola se aproxima bastante de um cenário favorável."
   ]
  },
  {
   "cell_type": "markdown",
   "id": "2b8c749c-a211-4fea-b980-cb4b80ae5856",
   "metadata": {
    "tags": []
   },
   "source": [
    "Como último caso hipotético, imaginamos os meses sem despesas extras combinados com as mensalidades tabeladas."
   ]
  },
  {
   "cell_type": "code",
   "execution_count": 48,
   "id": "04d18fd5-dab3-44d5-85f8-b490750ea964",
   "metadata": {
    "tags": []
   },
   "outputs": [
    {
     "data": {
      "text/plain": [
       "26.868429885706867"
      ]
     },
     "execution_count": 48,
     "metadata": {},
     "output_type": "execute_result"
    }
   ],
   "source": [
    "# calculo do ponto de equilibrio - melhor cenário de despesas  e receitas - cenário 3\n",
    "\n",
    "n_3 = ( despesas_1 /  receitas_1 ) \n",
    "n_3\n"
   ]
  },
  {
   "cell_type": "markdown",
   "id": "f864dbab-6027-4375-9fca-22c2f1b329b4",
   "metadata": {},
   "source": [
    "Vemos que o cenário favorável permite que a escola trabalhe sem prejuízo com apenas 26% da capacidade máxima."
   ]
  },
  {
   "cell_type": "markdown",
   "id": "9ac3b4cc-38b5-46aa-871b-e9ed739ada6f",
   "metadata": {},
   "source": [
    "Contrução da tabela para visualizar receitas e despesas médias por aluno (devem ser iguais no ponto de equilíbrio) em função do número mínimo de alunos para cobrir as despesas."
   ]
  },
  {
   "cell_type": "code",
   "execution_count": 49,
   "id": "ea8d0cf7-1426-494b-8285-78da47ab9702",
   "metadata": {
    "tags": []
   },
   "outputs": [
    {
     "data": {
      "text/html": [
       "<div>\n",
       "<style scoped>\n",
       "    .dataframe tbody tr th:only-of-type {\n",
       "        vertical-align: middle;\n",
       "    }\n",
       "\n",
       "    .dataframe tbody tr th {\n",
       "        vertical-align: top;\n",
       "    }\n",
       "\n",
       "    .dataframe thead th {\n",
       "        text-align: right;\n",
       "    }\n",
       "</style>\n",
       "<table border=\"1\" class=\"dataframe\">\n",
       "  <thead>\n",
       "    <tr style=\"text-align: right;\">\n",
       "      <th></th>\n",
       "      <th>&lt;D&gt;</th>\n",
       "      <th>&lt;R&gt;</th>\n",
       "      <th>n</th>\n",
       "    </tr>\n",
       "  </thead>\n",
       "  <tbody>\n",
       "    <tr>\n",
       "      <th>0</th>\n",
       "      <td>1375.628073</td>\n",
       "      <td>1375.628073</td>\n",
       "      <td>42.0</td>\n",
       "    </tr>\n",
       "    <tr>\n",
       "      <th>1</th>\n",
       "      <td>1375.628073</td>\n",
       "      <td>1375.628073</td>\n",
       "      <td>36.0</td>\n",
       "    </tr>\n",
       "    <tr>\n",
       "      <th>2</th>\n",
       "      <td>1821.987187</td>\n",
       "      <td>1821.987187</td>\n",
       "      <td>32.0</td>\n",
       "    </tr>\n",
       "    <tr>\n",
       "      <th>3</th>\n",
       "      <td>1821.987187</td>\n",
       "      <td>1821.987187</td>\n",
       "      <td>27.0</td>\n",
       "    </tr>\n",
       "  </tbody>\n",
       "</table>\n",
       "</div>"
      ],
      "text/plain": [
       "           <D>          <R>     n\n",
       "0  1375.628073  1375.628073  42.0\n",
       "1  1375.628073  1375.628073  36.0\n",
       "2  1821.987187  1821.987187  32.0\n",
       "3  1821.987187  1821.987187  27.0"
      ]
     },
     "execution_count": 49,
     "metadata": {},
     "output_type": "execute_result"
    }
   ],
   "source": [
    "df = pd.DataFrame(columns = ['<D>','<R>', 'n'])\n",
    "\n",
    "df.loc[0] =[ despesas_0/n_0, receitas_0, math.ceil(n_0) ]\n",
    "df.loc[1] =[ despesas_1/n_1, receitas_0, math.ceil(n_1) ]\n",
    "df.loc[2] =[ despesas_0/n_2, receitas_1, math.ceil(n_2) ]\n",
    "df.loc[3] =[ despesas_1/n_3, receitas_1, math.ceil(n_3) ]\n",
    "        \n",
    "    \n",
    "df"
   ]
  },
  {
   "cell_type": "markdown",
   "id": "9c413725-38b2-458a-8d61-b59c613928d7",
   "metadata": {
    "tags": []
   },
   "source": [
    "Criação de um data frame com receitas e despesas hipotéticas para os cenários estudados. Os valores são médias dos cinco meses estudados."
   ]
  },
  {
   "cell_type": "code",
   "execution_count": 50,
   "id": "6660cd78-48a8-43aa-9a4b-a223c1ceedc2",
   "metadata": {
    "tags": []
   },
   "outputs": [
    {
     "data": {
      "text/html": [
       "<div>\n",
       "<style scoped>\n",
       "    .dataframe tbody tr th:only-of-type {\n",
       "        vertical-align: middle;\n",
       "    }\n",
       "\n",
       "    .dataframe tbody tr th {\n",
       "        vertical-align: top;\n",
       "    }\n",
       "\n",
       "    .dataframe thead th {\n",
       "        text-align: right;\n",
       "    }\n",
       "</style>\n",
       "<table border=\"1\" class=\"dataframe\">\n",
       "  <thead>\n",
       "    <tr style=\"text-align: right;\">\n",
       "      <th></th>\n",
       "      <th>&lt;D&gt;</th>\n",
       "      <th>&lt;R&gt;</th>\n",
       "    </tr>\n",
       "  </thead>\n",
       "  <tbody>\n",
       "    <tr>\n",
       "      <th>0</th>\n",
       "      <td>57275.386</td>\n",
       "      <td>52824.118</td>\n",
       "    </tr>\n",
       "    <tr>\n",
       "      <th>1</th>\n",
       "      <td>48953.935</td>\n",
       "      <td>52824.118</td>\n",
       "    </tr>\n",
       "    <tr>\n",
       "      <th>2</th>\n",
       "      <td>57275.386</td>\n",
       "      <td>69964.308</td>\n",
       "    </tr>\n",
       "    <tr>\n",
       "      <th>3</th>\n",
       "      <td>48953.935</td>\n",
       "      <td>69964.308</td>\n",
       "    </tr>\n",
       "  </tbody>\n",
       "</table>\n",
       "</div>"
      ],
      "text/plain": [
       "         <D>        <R>\n",
       "0  57275.386  52824.118\n",
       "1  48953.935  52824.118\n",
       "2  57275.386  69964.308\n",
       "3  48953.935  69964.308"
      ]
     },
     "execution_count": 50,
     "metadata": {},
     "output_type": "execute_result"
    }
   ],
   "source": [
    "cenarios = pd.DataFrame(columns = ['<D>','<R>'])\n",
    "\n",
    "cenarios.loc[0] =[ despesas_0, receitas['valores'].sum()/5 ]\n",
    "cenarios.loc[1] =[ despesas_1, receitas['valores'].sum()/5]\n",
    "cenarios.loc[2] =[ despesas_0, receitas['tabelado'].sum()/5]\n",
    "cenarios.loc[3] =[ despesas_1, receitas['tabelado'].sum()/5]\n",
    "        \n",
    "    \n",
    "cenarios"
   ]
  },
  {
   "cell_type": "markdown",
   "id": "1bd346fd-5397-4efd-ba83-a4587514f5aa",
   "metadata": {
    "tags": []
   },
   "source": [
    "## Previsão de receitas e despesas - modelo linear\n",
    "\n",
    "Para criar um modelo linear para as receitas e despesas, o primeiro passo foi calcular as despesas fixas da escola. Dada a desorganização dos dados, a maneira para confiável de estimar esse valor foi através dos cálculos.\n",
    "\n",
    "Para os cálculos, usei os dois meses com menos gastos extras (o primeiro e o último) para calcular os coeficiente angular e linear. O coeficiente linear é o valor das despesas quando a escola tem 0 crianças, o que chamamos de despesas fixas (aluguel, folha de pagamento, manutenção...)."
   ]
  },
  {
   "cell_type": "code",
   "execution_count": 51,
   "id": "ded4e284-8a0f-48bd-a591-b764522541b7",
   "metadata": {
    "tags": []
   },
   "outputs": [
    {
     "data": {
      "text/plain": [
       "47968.569"
      ]
     },
     "execution_count": 51,
     "metadata": {},
     "output_type": "execute_result"
    }
   ],
   "source": [
    "coef_ang_base = (despesas['valores'][0]- despesas['valores'][4]) / (despesas['n'][0]- despesas['n'][4])\n",
    "coef_linear_base = despesas['valores'][0]-coef_ang_base*despesas['n'][0]\n",
    "coef_linear_base\n"
   ]
  },
  {
   "cell_type": "markdown",
   "id": "864fa52a-338e-4050-8029-8c215fc5ad54",
   "metadata": {},
   "source": [
    "Cálculo do número de alunos necessário para cobrir os gastos fixos:"
   ]
  },
  {
   "cell_type": "code",
   "execution_count": 52,
   "id": "75b681e9-f854-4c0b-8c07-5b328cabbccf",
   "metadata": {
    "tags": []
   },
   "outputs": [
    {
     "data": {
      "text/plain": [
       "35"
      ]
     },
     "execution_count": 52,
     "metadata": {},
     "output_type": "execute_result"
    }
   ],
   "source": [
    "# Para as mensalidades cobradas\n",
    "math.ceil(coef_linear_base/mensalidade_media)"
   ]
  },
  {
   "cell_type": "code",
   "execution_count": 53,
   "id": "171eecfe-639a-40e9-aaca-184ed6732645",
   "metadata": {
    "tags": []
   },
   "outputs": [
    {
     "data": {
      "text/plain": [
       "27"
      ]
     },
     "execution_count": 53,
     "metadata": {},
     "output_type": "execute_result"
    }
   ],
   "source": [
    "# Para as mensalidades tabeladas\n",
    "math.ceil(coef_linear_base/mensalidade_media_tabelada)"
   ]
  },
  {
   "cell_type": "markdown",
   "id": "2dfedbb9-107b-410a-b716-0ab36f090635",
   "metadata": {},
   "source": [
    "Considerando o número mínimo de alunos para a escola estar em equilíbrio financeiro e os gastos fixos referidos acima, utilizei um **modelo linear para prever receitas e despesas** nos cenários estudados acima."
   ]
  },
  {
   "cell_type": "code",
   "execution_count": 54,
   "id": "9a067e73-80f6-4734-97f4-12d58abb112d",
   "metadata": {
    "tags": []
   },
   "outputs": [
    {
     "data": {
      "text/plain": [
       "223.52915674279484"
      ]
     },
     "execution_count": 54,
     "metadata": {},
     "output_type": "execute_result"
    }
   ],
   "source": [
    "coef_ang_cenario_0 = (mensalidade_media-coef_linear_base/n_0)\n",
    "coef_ang_cenario_0\n"
   ]
  },
  {
   "cell_type": "code",
   "execution_count": 55,
   "id": "07cc1c6f-ec16-4b3a-ad7f-7dc55d6fac41",
   "metadata": {
    "tags": []
   },
   "outputs": [
    {
     "data": {
      "text/plain": [
       "27.68923747800045"
      ]
     },
     "execution_count": 55,
     "metadata": {},
     "output_type": "execute_result"
    }
   ],
   "source": [
    "coef_ang_cenario_1 = (mensalidade_media-coef_linear_base/n_1)\n",
    "coef_ang_cenario_1\n"
   ]
  },
  {
   "cell_type": "code",
   "execution_count": 56,
   "id": "6e8e7844-8148-44ad-8837-b7d619743ba7",
   "metadata": {
    "tags": []
   },
   "outputs": [
    {
     "data": {
      "text/plain": [
       "296.05913664915647"
      ]
     },
     "execution_count": 56,
     "metadata": {},
     "output_type": "execute_result"
    }
   ],
   "source": [
    "coef_ang_cenario_2 = (mensalidade_media_tabelada-coef_linear_base/n_2)\n",
    "coef_ang_cenario_2"
   ]
  },
  {
   "cell_type": "code",
   "execution_count": 57,
   "id": "a704b1c4-ba03-4142-9fe8-24c935e25fc1",
   "metadata": {
    "tags": []
   },
   "outputs": [
    {
     "data": {
      "text/plain": [
       "36.67374700313917"
      ]
     },
     "execution_count": 57,
     "metadata": {},
     "output_type": "execute_result"
    }
   ],
   "source": [
    "coef_ang_cenario_3 = (mensalidade_media_tabelada-coef_linear_base/n_3)\n",
    "coef_ang_cenario_3"
   ]
  },
  {
   "cell_type": "markdown",
   "id": "c57d04d5-392b-4a60-bc03-779c399328ab",
   "metadata": {},
   "source": [
    "De posso dos coeficientes angulares acima, posso plotar o gráfico do ponto de equilíbrio financeiro utilizando um modelo linear, onde as despesas variam linearmente com o número de alunos."
   ]
  },
  {
   "cell_type": "code",
   "execution_count": 58,
   "id": "65e8d617-e4ff-467d-a0f4-747c3117a489",
   "metadata": {
    "tags": []
   },
   "outputs": [
    {
     "data": {
      "image/png": "[encoded data removed]",
      "text/plain": [
       "<Figure size 640x480 with 1 Axes>"
      ]
     },
     "metadata": {},
     "output_type": "display_data"
    }
   ],
   "source": [
    "# Cenário 0\n",
    "\n",
    "n = np.arange(1,51,1)\n",
    "plt.figure(layout='constrained')\n",
    "\n",
    "plt.scatter(n_0,\n",
    "   n_0* mensalidade_media,\n",
    "    color='black')\n",
    "\n",
    "plt.plot(n,\n",
    "    coef_ang_cenario_0*n+coef_linear_base,\n",
    "    color='red',label='despesas')\n",
    "\n",
    "plt.plot(n,\n",
    "    n*mensalidade_media,\n",
    "    color='blue', linestyle = 'dashed',label='receitas')\n",
    "\n",
    "\n",
    "plt.xlabel('número de alunos')\n",
    "plt.ylabel('valores em reais')\n",
    "plt.title(\"Ponto de equilíbrio financeiro - cenário 0\")\n",
    "plt.legend()\n",
    "plt.grid()\n",
    "\n",
    "plt.savefig('../imagens/ponto-de-equilibrio-0.png')"
   ]
  },
  {
   "cell_type": "code",
   "execution_count": 59,
   "id": "26f30144-d1a5-473d-b7ec-ff86dfb2011f",
   "metadata": {
    "tags": []
   },
   "outputs": [
    {
     "data": {
      "image/png": "[encoded data removed]",
      "text/plain": [
       "<Figure size 640x480 with 1 Axes>"
      ]
     },
     "metadata": {},
     "output_type": "display_data"
    }
   ],
   "source": [
    "# Cenário 1\n",
    "\n",
    "plt.figure(layout='constrained')\n",
    "\n",
    "plt.scatter(n_1,\n",
    "   n_1* mensalidade_media,\n",
    "    color='black')\n",
    "\n",
    "plt.plot(n,\n",
    "    coef_ang_cenario_1*n+coef_linear_base,\n",
    "    color='red',label='despesas')\n",
    "\n",
    "plt.plot(n,\n",
    "    n*mensalidade_media,\n",
    "    color='blue', linestyle = 'dashed',label='receitas')\n",
    "\n",
    "\n",
    "plt.xlabel('número de alunos')\n",
    "plt.ylabel('valores em reais')\n",
    "plt.title(\"Ponto de equilíbrio financeiro - cenário 1\")\n",
    "plt.legend()\n",
    "plt.grid()\n",
    "\n",
    "plt.savefig('../imagens/ponto-de-equilibrio-1.png')"
   ]
  },
  {
   "cell_type": "code",
   "execution_count": 60,
   "id": "8daaa59a-b28c-4a4c-8748-7c20e8c7701c",
   "metadata": {
    "tags": []
   },
   "outputs": [
    {
     "data": {
      "image/png": "[encoded data removed]",
      "text/plain": [
       "<Figure size 640x480 with 1 Axes>"
      ]
     },
     "metadata": {},
     "output_type": "display_data"
    }
   ],
   "source": [
    "# Cenário 2\n",
    "\n",
    "plt.figure(layout='constrained')\n",
    "\n",
    "plt.scatter(n_2,\n",
    "   n_2* mensalidade_media_tabelada,\n",
    "    color='black')\n",
    "\n",
    "plt.plot(n,\n",
    "    coef_ang_cenario_2*n+coef_linear_base,\n",
    "    color='red',label='despesas')\n",
    "\n",
    "plt.plot(n,\n",
    "    n*mensalidade_media_tabelada,\n",
    "    color='blue', linestyle = 'dashed',label='receitas')\n",
    "\n",
    "\n",
    "plt.xlabel('número de alunos')\n",
    "plt.ylabel('valores em reais')\n",
    "plt.title(\"Ponto de equilíbrio financeiro - cenário 2\")\n",
    "plt.legend()\n",
    "plt.grid()\n",
    "\n",
    "plt.savefig('../imagens/ponto-de-equilibrio-2.png')"
   ]
  },
  {
   "cell_type": "code",
   "execution_count": 61,
   "id": "9a1615fc-1dfa-4e83-b28e-3fe9ac6d7437",
   "metadata": {
    "tags": []
   },
   "outputs": [
    {
     "data": {
      "image/png": "[encoded data removed]",
      "text/plain": [
       "<Figure size 640x480 with 1 Axes>"
      ]
     },
     "metadata": {},
     "output_type": "display_data"
    }
   ],
   "source": [
    "# Cenário 3\n",
    "\n",
    "plt.figure(layout='constrained')\n",
    "\n",
    "plt.scatter(n_3,\n",
    "   n_3* mensalidade_media_tabelada,\n",
    "    color='black')\n",
    "\n",
    "plt.plot(n,\n",
    "    coef_ang_cenario_3*n+coef_linear_base,\n",
    "    color='red',label='despesas')\n",
    "\n",
    "plt.plot(n,\n",
    "    n*mensalidade_media_tabelada,\n",
    "    color='blue', linestyle = 'dashed',label='receitas')\n",
    "\n",
    "\n",
    "plt.xlabel('número de alunos')\n",
    "plt.ylabel('valores em reais')\n",
    "plt.title(\"Ponto de equilíbrio financeiro - cenário 3\")\n",
    "plt.legend()\n",
    "plt.grid()\n",
    "\n",
    "plt.savefig('../imagens/ponto-de-equilibrio-3.png')"
   ]
  },
  {
   "cell_type": "markdown",
   "id": "828a9d5d-f60b-4cd7-aa39-146d1a11427e",
   "metadata": {},
   "source": [
    "## Comparação entre receitas e despesas\n",
    "\n",
    "Para comparar melhor as receitas e despesas da escola, vamos fazer alguns gráficos de barras."
   ]
  },
  {
   "cell_type": "code",
   "execution_count": 62,
   "id": "0b36fd10-d012-436f-8056-ba6b65cf19af",
   "metadata": {
    "jp-MarkdownHeadingCollapsed": true,
    "tags": []
   },
   "outputs": [
    {
     "data": {
      "image/png": "[encoded data removed]",
      "text/plain": [
       "<Figure size 640x480 with 1 Axes>"
      ]
     },
     "metadata": {},
     "output_type": "display_data"
    }
   ],
   "source": [
    "# Comparação entre receitas e despesas mês a mês\n",
    "meses = ('jun', 'jul', 'ago', 'set', 'out')\n",
    "receitas_e_despesas = {\n",
    "    'receitas': receitas['valores'],\n",
    "    'despesas': despesas['valores'],\n",
    "}\n",
    "\n",
    "cores = {'receitas': 'blue', 'despesas': 'red'}\n",
    "\n",
    "x = np.arange(len(meses))\n",
    "largura = 0.25\n",
    "passo = 0.5\n",
    "\n",
    "fig, ax = plt.subplots(layout='constrained')\n",
    "\n",
    "for tipo, valores in receitas_e_despesas.items():\n",
    "    offset = largura * passo\n",
    "    rects = ax.bar(x + offset, valores, largura, label=tipo, color=cores[tipo])\n",
    "    passo += 1\n",
    "\n",
    "ax.set_ylabel('valores em reais')\n",
    "ax.set_title('Comparação entre receitas e despesas')\n",
    "ax.set_xticks(x + largura, meses)\n",
    "\n",
    "ax.set_ylim(0, 100000)\n",
    "\n",
    "ax.legend(loc='upper left', ncols=1)\n",
    "\n",
    "fig.savefig('../imagens/comparacao.png')"
   ]
  },
  {
   "cell_type": "markdown",
   "id": "6f2bd09c-1221-4b44-9db5-92d8f609c37c",
   "metadata": {
    "tags": []
   },
   "source": [
    "Incluindo os valores médios e as mensalidades tabeladas:"
   ]
  },
  {
   "cell_type": "code",
   "execution_count": 63,
   "id": "ce29cad7-7f8f-4237-bc71-7bd51a2f334d",
   "metadata": {
    "tags": []
   },
   "outputs": [
    {
     "data": {
      "image/png": "[encoded data removed]",
      "text/plain": [
       "<Figure size 640x480 with 1 Axes>"
      ]
     },
     "metadata": {},
     "output_type": "display_data"
    }
   ],
   "source": [
    "# Comparação entre receitas e despesas mês a mês\n",
    "meses = ('jun', 'jul', 'ago', 'set', 'out')\n",
    "receitas_e_despesas = {\n",
    "    'receitas': receitas['valores'],\n",
    "    'despesas': despesas['valores'],\n",
    "    'tabelado': receitas['tabelado']\n",
    "}\n",
    "\n",
    "cores = {'receitas': 'blue', 'despesas': 'red', 'tabelado': 'green'}\n",
    "\n",
    "x = np.arange(len(meses))\n",
    "largura = 0.2\n",
    "passo = 0\n",
    "\n",
    "fig, ax = plt.subplots(layout='constrained')\n",
    "\n",
    "ax.axhline(receitas['valores'].mean(), color='blue', linestyle='dashed', label='receita média')\n",
    "ax.axhline(despesas['valores'].mean(), color='red', linestyle='dashed', label='despesa média')\n",
    "ax.axhline(receitas['tabelado'].mean(), color='green', linestyle='dashed', label='receita média tabelada')\n",
    "ax.axhline(coef_linear_base, color='black', linestyle='dashed', label='despesas fixas')\n",
    "\n",
    "for tipo, valores in receitas_e_despesas.items():\n",
    "    offset = largura * passo\n",
    "    rects = ax.bar(x + offset, valores, largura, label=tipo, color=cores[tipo])\n",
    "    passo += 1\n",
    "\n",
    "ax.set_ylabel('valores em reais')\n",
    "# ax.set_title('Comparação entre receitas e despesas')\n",
    "ax.set_xticks(x + largura, meses)\n",
    "\n",
    "ax.set_ylim(0, 110000)\n",
    "\n",
    "ax.legend(loc='upper left', ncols=2)\n",
    "\n",
    "fig.savefig('../imagens/comparacao-medias.png')"
   ]
  },
  {
   "cell_type": "markdown",
   "id": "c0c95f57-3ca8-454c-abe4-2b4c18996a83",
   "metadata": {
    "tags": []
   },
   "source": [
    "Olhando receitas e despesas para os cenários hipotéticos estudados (os valores se referem aos 5 meses estudados somados):"
   ]
  },
  {
   "cell_type": "code",
   "execution_count": 67,
   "id": "ac11eee8-312f-497f-84bd-e39d82d8c235",
   "metadata": {
    "tags": []
   },
   "outputs": [
    {
     "data": {
      "image/png": "[encoded data removed]",
      "text/plain": [
       "<Figure size 640x480 with 1 Axes>"
      ]
     },
     "metadata": {},
     "output_type": "display_data"
    }
   ],
   "source": [
    "meses = ('realidade', 'cenário 1', 'cenário 2', 'cenário 3')\n",
    "receitas_e_despesas = {\n",
    "    'receitas': 5*cenarios['<R>'],\n",
    "    'despesas': 5*cenarios['<D>'],\n",
    "}\n",
    "\n",
    "cores = {'receitas': 'blue', 'despesas': 'red'}\n",
    "\n",
    "x = np.arange(len(meses))\n",
    "largura = 0.25\n",
    "passo = 0.5\n",
    "\n",
    "fig, ax = plt.subplots(layout='constrained')\n",
    "\n",
    "ax.axhline(5*coef_linear_base, color='black', linestyle='dashed', label='despesas fixas')\n",
    "\n",
    "for tipo, valores in receitas_e_despesas.items():\n",
    "    offset = largura * passo\n",
    "    rects = ax.bar(x + offset, valores, largura, label=tipo, color=cores[tipo])\n",
    "    passo += 1\n",
    "\n",
    "ax.set_ylabel('valores em reais')\n",
    "# ax.set_title('Comparação entre receitas e despesas')\n",
    "ax.set_xticks(x + largura, meses)\n",
    "\n",
    "ax.set_ylim(0, 400000)\n",
    "\n",
    "ax.legend(loc='upper left', ncols=3)\n",
    "\n",
    "fig.savefig('../imagens/cenarios.png')"
   ]
  },
  {
   "cell_type": "markdown",
   "id": "e8f018b6-6dd4-47e5-b07e-84dd6f2552ff",
   "metadata": {},
   "source": [
    "Vemos claramente que seguir a tabela de mensalidades ou evitar gastos desnecessários e impensados poderia ter evitado muitos problemas na escola. A combinação dos dois erros foi deteminante para o prejuízo financeiro."
   ]
  },
  {
   "cell_type": "markdown",
   "id": "67d5199f-c181-4d5c-a978-e5e20e2eed5b",
   "metadata": {},
   "source": [
    "Salvando alguns arquivos úteis"
   ]
  },
  {
   "cell_type": "code",
   "execution_count": 65,
   "id": "a5dd9b8f-0568-486c-9d1a-d68fed6e7eee",
   "metadata": {},
   "outputs": [],
   "source": [
    "despesas.to_csv('C:/Users/barba/Desktop/git hub/calculo-de-mensalidade/dados/despesas_2023.csv',index=False)\n",
    "plano.to_csv('C:/Users/barba/Desktop/git hub/calculo-de-mensalidade/dados/plano_2023.csv',index=False)\n",
    "comp.to_csv('C:/Users/barba/Desktop/git hub/calculo-de-mensalidade/dados/mens_ago.csv')"
   ]
  },
  {
   "cell_type": "code",
   "execution_count": null,
   "id": "8353111d-1591-4e98-a689-db63a822a61a",
   "metadata": {},
   "outputs": [],
   "source": []
  }
 ],
 "metadata": {
  "kernelspec": {
   "display_name": "Python 3 (ipykernel)",
   "language": "python",
   "name": "python3"
  },
  "language_info": {
   "codemirror_mode": {
    "name": "ipython",
    "version": 3
   },
   "file_extension": ".py",
   "mimetype": "text/x-python",
   "name": "python",
   "nbconvert_exporter": "python",
   "pygments_lexer": "ipython3",
   "version": "3.11.5"
  }
 },
 "nbformat": 4,
 "nbformat_minor": 5
}
